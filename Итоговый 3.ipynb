{
 "cells": [
  {
   "cell_type": "markdown",
   "metadata": {
    "toc": true
   },
   "source": [
    "<h1>Содержание<span class=\"tocSkip\"></span></h1>\n",
    "<div class=\"toc\"><ul class=\"toc-item\"><li><span><a href=\"#Изучение-данных-из-файла\" data-toc-modified-id=\"Изучение-данных-из-файла-1\"><span class=\"toc-item-num\">1&nbsp;&nbsp;</span>Изучение данных из файла</a></span><ul class=\"toc-item\"><li><span><a href=\"#Вывод\" data-toc-modified-id=\"Вывод-1.1\"><span class=\"toc-item-num\">1.1&nbsp;&nbsp;</span>Вывод</a></span></li></ul></li><li><span><a href=\"#Предобработка-данных\" data-toc-modified-id=\"Предобработка-данных-2\"><span class=\"toc-item-num\">2&nbsp;&nbsp;</span>Предобработка данных</a></span><ul class=\"toc-item\"><li><span><a href=\"#Вывод\" data-toc-modified-id=\"Вывод-2.1\"><span class=\"toc-item-num\">2.1&nbsp;&nbsp;</span>Вывод</a></span></li></ul></li><li><span><a href=\"#Расчёты-и-добавление-результатов-в-таблицу\" data-toc-modified-id=\"Расчёты-и-добавление-результатов-в-таблицу-3\"><span class=\"toc-item-num\">3&nbsp;&nbsp;</span>Расчёты и добавление результатов в таблицу</a></span><ul class=\"toc-item\"><li><span><a href=\"#Вывод\" data-toc-modified-id=\"Вывод-3.1\"><span class=\"toc-item-num\">3.1&nbsp;&nbsp;</span>Вывод</a></span></li></ul></li><li><span><a href=\"#Исследовательский-анализ-данных\" data-toc-modified-id=\"Исследовательский-анализ-данных-4\"><span class=\"toc-item-num\">4&nbsp;&nbsp;</span>Исследовательский анализ данных</a></span><ul class=\"toc-item\"><li><span><a href=\"#Этап-1\" data-toc-modified-id=\"Этап-1-4.1\"><span class=\"toc-item-num\">4.1&nbsp;&nbsp;</span>Этап 1</a></span></li><li><span><a href=\"#Этап-2\" data-toc-modified-id=\"Этап-2-4.2\"><span class=\"toc-item-num\">4.2&nbsp;&nbsp;</span>Этап 2</a></span></li><li><span><a href=\"#Этап-3\" data-toc-modified-id=\"Этап-3-4.3\"><span class=\"toc-item-num\">4.3&nbsp;&nbsp;</span>Этап 3</a></span></li><li><span><a href=\"#Этап-4\" data-toc-modified-id=\"Этап-4-4.4\"><span class=\"toc-item-num\">4.4&nbsp;&nbsp;</span>Этап 4</a></span></li><li><span><a href=\"#Этап-5\" data-toc-modified-id=\"Этап-5-4.5\"><span class=\"toc-item-num\">4.5&nbsp;&nbsp;</span>Этап 5</a></span></li><li><span><a href=\"#Этап-6\" data-toc-modified-id=\"Этап-6-4.6\"><span class=\"toc-item-num\">4.6&nbsp;&nbsp;</span>Этап 6</a></span></li></ul></li><li><span><a href=\"#Общий-вывод\" data-toc-modified-id=\"Общий-вывод-5\"><span class=\"toc-item-num\">5&nbsp;&nbsp;</span>Общий вывод</a></span></li><li><span><a href=\"#Чек-лист-готовности-проекта\" data-toc-modified-id=\"Чек-лист-готовности-проекта-6\"><span class=\"toc-item-num\">6&nbsp;&nbsp;</span>Чек-лист готовности проекта</a></span></li></ul></div>"
   ]
  },
  {
   "cell_type": "markdown",
   "metadata": {},
   "source": [
    "# Исследование объявлений о продаже квартир\n",
    "\n",
    "В вашем распоряжении данные сервиса Яндекс.Недвижимость — архив объявлений о продаже квартир в Санкт-Петербурге и соседних населённых пунктах за несколько лет. Нужно научиться определять рыночную стоимость объектов недвижимости. Ваша задача — установить параметры. Это позволит построить автоматизированную систему: она отследит аномалии и мошенническую деятельность. \n",
    "\n",
    "По каждой квартире на продажу доступны два вида данных. Первые вписаны пользователем, вторые получены автоматически на основе картографических данных. Например, расстояние до центра, аэропорта, ближайшего парка и водоёма. \n",
    "\n",
    "Описание данных\n",
    "•\tairports_nearest — расстояние до ближайшего аэропорта в метрах (м)\n",
    "\n",
    "•\tbalcony — число балконов\n",
    "\n",
    "•\tceiling_height — высота потолков (м)\n",
    "\n",
    "•\tcityCenters_nearest — расстояние до центра города (м)\n",
    "\n",
    "•\tdays_exposition — сколько дней было размещено объявление (от публикации до снятия)\n",
    "\n",
    "•\tfirst_day_exposition — дата публикации\n",
    "\n",
    "•\tfloor — этаж\n",
    "\n",
    "•\tfloors_total — всего этажей в доме\n",
    "\n",
    "•\tis_apartment — апартаменты (булев тип)\n",
    "\n",
    "•\tkitchen_area — площадь кухни в квадратных метрах (м²)\n",
    "\n",
    "•\tlast_price — цена на момент снятия с публикации\n",
    "\n",
    "•\tliving_area — жилая площадь в квадратных метрах (м²)\n",
    "\n",
    "•\tlocality_name — название населённого пункта\n",
    "\n",
    "•\topen_plan — свободная планировка (булев тип)\n",
    "\n",
    "•\tparks_around3000 — число парков в радиусе 3 км\n",
    "\n",
    "•\tparks_nearest — расстояние до ближайшего парка (м)\n",
    "\n",
    "•\tponds_around3000 — число водоёмов в радиусе 3 км\n",
    "\n",
    "•\tponds_nearest — расстояние до ближайшего водоёма (м)\n",
    "\n",
    "•\trooms — число комнат\n",
    "\n",
    "•\tstudio — квартира-студия (булев тип)\n",
    "\n",
    "•\ttotal_area — площадь квартиры в квадратных метрах (м²)\n",
    "\n",
    "•\ttotal_images — число фотографий квартиры в объявлении\n"
   ]
  },
  {
   "cell_type": "markdown",
   "metadata": {},
   "source": [
    "## Изучение данных из файла"
   ]
  },
  {
   "cell_type": "code",
   "execution_count": 1,
   "metadata": {},
   "outputs": [],
   "source": [
    "import pandas as pd\n",
    "import numpy as np\n",
    "import matplotlib.pyplot as plt\n",
    "import seaborn as sns\n",
    "pd.set_option('display.float_format', '{:,.2f}'.format)"
   ]
  },
  {
   "cell_type": "code",
   "execution_count": 2,
   "metadata": {},
   "outputs": [
    {
     "data": {
      "text/html": [
       "<div>\n",
       "<style scoped>\n",
       "    .dataframe tbody tr th:only-of-type {\n",
       "        vertical-align: middle;\n",
       "    }\n",
       "\n",
       "    .dataframe tbody tr th {\n",
       "        vertical-align: top;\n",
       "    }\n",
       "\n",
       "    .dataframe thead th {\n",
       "        text-align: right;\n",
       "    }\n",
       "</style>\n",
       "<table border=\"1\" class=\"dataframe\">\n",
       "  <thead>\n",
       "    <tr style=\"text-align: right;\">\n",
       "      <th></th>\n",
       "      <th>total_images</th>\n",
       "      <th>last_price</th>\n",
       "      <th>total_area</th>\n",
       "      <th>first_day_exposition</th>\n",
       "      <th>rooms</th>\n",
       "      <th>ceiling_height</th>\n",
       "      <th>floors_total</th>\n",
       "      <th>living_area</th>\n",
       "      <th>floor</th>\n",
       "      <th>is_apartment</th>\n",
       "      <th>...</th>\n",
       "      <th>kitchen_area</th>\n",
       "      <th>balcony</th>\n",
       "      <th>locality_name</th>\n",
       "      <th>airports_nearest</th>\n",
       "      <th>cityCenters_nearest</th>\n",
       "      <th>parks_around3000</th>\n",
       "      <th>parks_nearest</th>\n",
       "      <th>ponds_around3000</th>\n",
       "      <th>ponds_nearest</th>\n",
       "      <th>days_exposition</th>\n",
       "    </tr>\n",
       "  </thead>\n",
       "  <tbody>\n",
       "    <tr>\n",
       "      <td>0</td>\n",
       "      <td>20</td>\n",
       "      <td>13,000,000.00</td>\n",
       "      <td>108.00</td>\n",
       "      <td>2019-03-07T00:00:00</td>\n",
       "      <td>3</td>\n",
       "      <td>2.70</td>\n",
       "      <td>16.00</td>\n",
       "      <td>51.00</td>\n",
       "      <td>8</td>\n",
       "      <td>NaN</td>\n",
       "      <td>...</td>\n",
       "      <td>25.00</td>\n",
       "      <td>nan</td>\n",
       "      <td>Санкт-Петербург</td>\n",
       "      <td>18,863.00</td>\n",
       "      <td>16,028.00</td>\n",
       "      <td>1.00</td>\n",
       "      <td>482.00</td>\n",
       "      <td>2.00</td>\n",
       "      <td>755.00</td>\n",
       "      <td>nan</td>\n",
       "    </tr>\n",
       "    <tr>\n",
       "      <td>1</td>\n",
       "      <td>7</td>\n",
       "      <td>3,350,000.00</td>\n",
       "      <td>40.40</td>\n",
       "      <td>2018-12-04T00:00:00</td>\n",
       "      <td>1</td>\n",
       "      <td>nan</td>\n",
       "      <td>11.00</td>\n",
       "      <td>18.60</td>\n",
       "      <td>1</td>\n",
       "      <td>NaN</td>\n",
       "      <td>...</td>\n",
       "      <td>11.00</td>\n",
       "      <td>2.00</td>\n",
       "      <td>посёлок Шушары</td>\n",
       "      <td>12,817.00</td>\n",
       "      <td>18,603.00</td>\n",
       "      <td>0.00</td>\n",
       "      <td>nan</td>\n",
       "      <td>0.00</td>\n",
       "      <td>nan</td>\n",
       "      <td>81.00</td>\n",
       "    </tr>\n",
       "    <tr>\n",
       "      <td>2</td>\n",
       "      <td>10</td>\n",
       "      <td>5,196,000.00</td>\n",
       "      <td>56.00</td>\n",
       "      <td>2015-08-20T00:00:00</td>\n",
       "      <td>2</td>\n",
       "      <td>nan</td>\n",
       "      <td>5.00</td>\n",
       "      <td>34.30</td>\n",
       "      <td>4</td>\n",
       "      <td>NaN</td>\n",
       "      <td>...</td>\n",
       "      <td>8.30</td>\n",
       "      <td>0.00</td>\n",
       "      <td>Санкт-Петербург</td>\n",
       "      <td>21,741.00</td>\n",
       "      <td>13,933.00</td>\n",
       "      <td>1.00</td>\n",
       "      <td>90.00</td>\n",
       "      <td>2.00</td>\n",
       "      <td>574.00</td>\n",
       "      <td>558.00</td>\n",
       "    </tr>\n",
       "    <tr>\n",
       "      <td>3</td>\n",
       "      <td>0</td>\n",
       "      <td>64,900,000.00</td>\n",
       "      <td>159.00</td>\n",
       "      <td>2015-07-24T00:00:00</td>\n",
       "      <td>3</td>\n",
       "      <td>nan</td>\n",
       "      <td>14.00</td>\n",
       "      <td>nan</td>\n",
       "      <td>9</td>\n",
       "      <td>NaN</td>\n",
       "      <td>...</td>\n",
       "      <td>nan</td>\n",
       "      <td>0.00</td>\n",
       "      <td>Санкт-Петербург</td>\n",
       "      <td>28,098.00</td>\n",
       "      <td>6,800.00</td>\n",
       "      <td>2.00</td>\n",
       "      <td>84.00</td>\n",
       "      <td>3.00</td>\n",
       "      <td>234.00</td>\n",
       "      <td>424.00</td>\n",
       "    </tr>\n",
       "    <tr>\n",
       "      <td>4</td>\n",
       "      <td>2</td>\n",
       "      <td>10,000,000.00</td>\n",
       "      <td>100.00</td>\n",
       "      <td>2018-06-19T00:00:00</td>\n",
       "      <td>2</td>\n",
       "      <td>3.03</td>\n",
       "      <td>14.00</td>\n",
       "      <td>32.00</td>\n",
       "      <td>13</td>\n",
       "      <td>NaN</td>\n",
       "      <td>...</td>\n",
       "      <td>41.00</td>\n",
       "      <td>nan</td>\n",
       "      <td>Санкт-Петербург</td>\n",
       "      <td>31,856.00</td>\n",
       "      <td>8,098.00</td>\n",
       "      <td>2.00</td>\n",
       "      <td>112.00</td>\n",
       "      <td>1.00</td>\n",
       "      <td>48.00</td>\n",
       "      <td>121.00</td>\n",
       "    </tr>\n",
       "    <tr>\n",
       "      <td>5</td>\n",
       "      <td>10</td>\n",
       "      <td>2,890,000.00</td>\n",
       "      <td>30.40</td>\n",
       "      <td>2018-09-10T00:00:00</td>\n",
       "      <td>1</td>\n",
       "      <td>nan</td>\n",
       "      <td>12.00</td>\n",
       "      <td>14.40</td>\n",
       "      <td>5</td>\n",
       "      <td>NaN</td>\n",
       "      <td>...</td>\n",
       "      <td>9.10</td>\n",
       "      <td>nan</td>\n",
       "      <td>городской посёлок Янино-1</td>\n",
       "      <td>nan</td>\n",
       "      <td>nan</td>\n",
       "      <td>nan</td>\n",
       "      <td>nan</td>\n",
       "      <td>nan</td>\n",
       "      <td>nan</td>\n",
       "      <td>55.00</td>\n",
       "    </tr>\n",
       "    <tr>\n",
       "      <td>6</td>\n",
       "      <td>6</td>\n",
       "      <td>3,700,000.00</td>\n",
       "      <td>37.30</td>\n",
       "      <td>2017-11-02T00:00:00</td>\n",
       "      <td>1</td>\n",
       "      <td>nan</td>\n",
       "      <td>26.00</td>\n",
       "      <td>10.60</td>\n",
       "      <td>6</td>\n",
       "      <td>NaN</td>\n",
       "      <td>...</td>\n",
       "      <td>14.40</td>\n",
       "      <td>1.00</td>\n",
       "      <td>посёлок Парголово</td>\n",
       "      <td>52,996.00</td>\n",
       "      <td>19,143.00</td>\n",
       "      <td>0.00</td>\n",
       "      <td>nan</td>\n",
       "      <td>0.00</td>\n",
       "      <td>nan</td>\n",
       "      <td>155.00</td>\n",
       "    </tr>\n",
       "    <tr>\n",
       "      <td>7</td>\n",
       "      <td>5</td>\n",
       "      <td>7,915,000.00</td>\n",
       "      <td>71.60</td>\n",
       "      <td>2019-04-18T00:00:00</td>\n",
       "      <td>2</td>\n",
       "      <td>nan</td>\n",
       "      <td>24.00</td>\n",
       "      <td>nan</td>\n",
       "      <td>22</td>\n",
       "      <td>NaN</td>\n",
       "      <td>...</td>\n",
       "      <td>18.90</td>\n",
       "      <td>2.00</td>\n",
       "      <td>Санкт-Петербург</td>\n",
       "      <td>23,982.00</td>\n",
       "      <td>11,634.00</td>\n",
       "      <td>0.00</td>\n",
       "      <td>nan</td>\n",
       "      <td>0.00</td>\n",
       "      <td>nan</td>\n",
       "      <td>nan</td>\n",
       "    </tr>\n",
       "    <tr>\n",
       "      <td>8</td>\n",
       "      <td>20</td>\n",
       "      <td>2,900,000.00</td>\n",
       "      <td>33.16</td>\n",
       "      <td>2018-05-23T00:00:00</td>\n",
       "      <td>1</td>\n",
       "      <td>nan</td>\n",
       "      <td>27.00</td>\n",
       "      <td>15.43</td>\n",
       "      <td>26</td>\n",
       "      <td>NaN</td>\n",
       "      <td>...</td>\n",
       "      <td>8.81</td>\n",
       "      <td>nan</td>\n",
       "      <td>посёлок Мурино</td>\n",
       "      <td>nan</td>\n",
       "      <td>nan</td>\n",
       "      <td>nan</td>\n",
       "      <td>nan</td>\n",
       "      <td>nan</td>\n",
       "      <td>nan</td>\n",
       "      <td>189.00</td>\n",
       "    </tr>\n",
       "    <tr>\n",
       "      <td>9</td>\n",
       "      <td>18</td>\n",
       "      <td>5,400,000.00</td>\n",
       "      <td>61.00</td>\n",
       "      <td>2017-02-26T00:00:00</td>\n",
       "      <td>3</td>\n",
       "      <td>2.50</td>\n",
       "      <td>9.00</td>\n",
       "      <td>43.60</td>\n",
       "      <td>7</td>\n",
       "      <td>NaN</td>\n",
       "      <td>...</td>\n",
       "      <td>6.50</td>\n",
       "      <td>2.00</td>\n",
       "      <td>Санкт-Петербург</td>\n",
       "      <td>50,898.00</td>\n",
       "      <td>15,008.00</td>\n",
       "      <td>0.00</td>\n",
       "      <td>nan</td>\n",
       "      <td>0.00</td>\n",
       "      <td>nan</td>\n",
       "      <td>289.00</td>\n",
       "    </tr>\n",
       "    <tr>\n",
       "      <td>10</td>\n",
       "      <td>5</td>\n",
       "      <td>5,050,000.00</td>\n",
       "      <td>39.60</td>\n",
       "      <td>2017-11-16T00:00:00</td>\n",
       "      <td>1</td>\n",
       "      <td>2.67</td>\n",
       "      <td>12.00</td>\n",
       "      <td>20.30</td>\n",
       "      <td>3</td>\n",
       "      <td>NaN</td>\n",
       "      <td>...</td>\n",
       "      <td>8.50</td>\n",
       "      <td>nan</td>\n",
       "      <td>Санкт-Петербург</td>\n",
       "      <td>38,357.00</td>\n",
       "      <td>13,878.00</td>\n",
       "      <td>1.00</td>\n",
       "      <td>310.00</td>\n",
       "      <td>2.00</td>\n",
       "      <td>553.00</td>\n",
       "      <td>137.00</td>\n",
       "    </tr>\n",
       "    <tr>\n",
       "      <td>11</td>\n",
       "      <td>9</td>\n",
       "      <td>3,300,000.00</td>\n",
       "      <td>44.00</td>\n",
       "      <td>2018-08-27T00:00:00</td>\n",
       "      <td>2</td>\n",
       "      <td>nan</td>\n",
       "      <td>5.00</td>\n",
       "      <td>31.00</td>\n",
       "      <td>4</td>\n",
       "      <td>False</td>\n",
       "      <td>...</td>\n",
       "      <td>6.00</td>\n",
       "      <td>1.00</td>\n",
       "      <td>Ломоносов</td>\n",
       "      <td>48,252.00</td>\n",
       "      <td>51,677.00</td>\n",
       "      <td>0.00</td>\n",
       "      <td>nan</td>\n",
       "      <td>0.00</td>\n",
       "      <td>nan</td>\n",
       "      <td>7.00</td>\n",
       "    </tr>\n",
       "    <tr>\n",
       "      <td>12</td>\n",
       "      <td>10</td>\n",
       "      <td>3,890,000.00</td>\n",
       "      <td>54.00</td>\n",
       "      <td>2016-06-30T00:00:00</td>\n",
       "      <td>2</td>\n",
       "      <td>nan</td>\n",
       "      <td>5.00</td>\n",
       "      <td>30.00</td>\n",
       "      <td>5</td>\n",
       "      <td>NaN</td>\n",
       "      <td>...</td>\n",
       "      <td>9.00</td>\n",
       "      <td>0.00</td>\n",
       "      <td>Сертолово</td>\n",
       "      <td>nan</td>\n",
       "      <td>nan</td>\n",
       "      <td>nan</td>\n",
       "      <td>nan</td>\n",
       "      <td>nan</td>\n",
       "      <td>nan</td>\n",
       "      <td>90.00</td>\n",
       "    </tr>\n",
       "    <tr>\n",
       "      <td>13</td>\n",
       "      <td>20</td>\n",
       "      <td>3,550,000.00</td>\n",
       "      <td>42.80</td>\n",
       "      <td>2017-07-01T00:00:00</td>\n",
       "      <td>2</td>\n",
       "      <td>2.56</td>\n",
       "      <td>5.00</td>\n",
       "      <td>27.00</td>\n",
       "      <td>5</td>\n",
       "      <td>NaN</td>\n",
       "      <td>...</td>\n",
       "      <td>5.20</td>\n",
       "      <td>1.00</td>\n",
       "      <td>Петергоф</td>\n",
       "      <td>37,868.00</td>\n",
       "      <td>33,058.00</td>\n",
       "      <td>1.00</td>\n",
       "      <td>294.00</td>\n",
       "      <td>3.00</td>\n",
       "      <td>298.00</td>\n",
       "      <td>366.00</td>\n",
       "    </tr>\n",
       "    <tr>\n",
       "      <td>14</td>\n",
       "      <td>1</td>\n",
       "      <td>4,400,000.00</td>\n",
       "      <td>36.00</td>\n",
       "      <td>2016-06-23T00:00:00</td>\n",
       "      <td>1</td>\n",
       "      <td>nan</td>\n",
       "      <td>6.00</td>\n",
       "      <td>17.00</td>\n",
       "      <td>1</td>\n",
       "      <td>NaN</td>\n",
       "      <td>...</td>\n",
       "      <td>8.00</td>\n",
       "      <td>0.00</td>\n",
       "      <td>Пушкин</td>\n",
       "      <td>20,782.00</td>\n",
       "      <td>30,759.00</td>\n",
       "      <td>0.00</td>\n",
       "      <td>nan</td>\n",
       "      <td>1.00</td>\n",
       "      <td>96.00</td>\n",
       "      <td>203.00</td>\n",
       "    </tr>\n",
       "  </tbody>\n",
       "</table>\n",
       "<p>15 rows × 22 columns</p>\n",
       "</div>"
      ],
      "text/plain": [
       "    total_images    last_price  total_area first_day_exposition  rooms  \\\n",
       "0             20 13,000,000.00      108.00  2019-03-07T00:00:00      3   \n",
       "1              7  3,350,000.00       40.40  2018-12-04T00:00:00      1   \n",
       "2             10  5,196,000.00       56.00  2015-08-20T00:00:00      2   \n",
       "3              0 64,900,000.00      159.00  2015-07-24T00:00:00      3   \n",
       "4              2 10,000,000.00      100.00  2018-06-19T00:00:00      2   \n",
       "5             10  2,890,000.00       30.40  2018-09-10T00:00:00      1   \n",
       "6              6  3,700,000.00       37.30  2017-11-02T00:00:00      1   \n",
       "7              5  7,915,000.00       71.60  2019-04-18T00:00:00      2   \n",
       "8             20  2,900,000.00       33.16  2018-05-23T00:00:00      1   \n",
       "9             18  5,400,000.00       61.00  2017-02-26T00:00:00      3   \n",
       "10             5  5,050,000.00       39.60  2017-11-16T00:00:00      1   \n",
       "11             9  3,300,000.00       44.00  2018-08-27T00:00:00      2   \n",
       "12            10  3,890,000.00       54.00  2016-06-30T00:00:00      2   \n",
       "13            20  3,550,000.00       42.80  2017-07-01T00:00:00      2   \n",
       "14             1  4,400,000.00       36.00  2016-06-23T00:00:00      1   \n",
       "\n",
       "    ceiling_height  floors_total  living_area  floor is_apartment  ...  \\\n",
       "0             2.70         16.00        51.00      8          NaN  ...   \n",
       "1              nan         11.00        18.60      1          NaN  ...   \n",
       "2              nan          5.00        34.30      4          NaN  ...   \n",
       "3              nan         14.00          nan      9          NaN  ...   \n",
       "4             3.03         14.00        32.00     13          NaN  ...   \n",
       "5              nan         12.00        14.40      5          NaN  ...   \n",
       "6              nan         26.00        10.60      6          NaN  ...   \n",
       "7              nan         24.00          nan     22          NaN  ...   \n",
       "8              nan         27.00        15.43     26          NaN  ...   \n",
       "9             2.50          9.00        43.60      7          NaN  ...   \n",
       "10            2.67         12.00        20.30      3          NaN  ...   \n",
       "11             nan          5.00        31.00      4        False  ...   \n",
       "12             nan          5.00        30.00      5          NaN  ...   \n",
       "13            2.56          5.00        27.00      5          NaN  ...   \n",
       "14             nan          6.00        17.00      1          NaN  ...   \n",
       "\n",
       "    kitchen_area  balcony              locality_name  airports_nearest  \\\n",
       "0          25.00      nan            Санкт-Петербург         18,863.00   \n",
       "1          11.00     2.00             посёлок Шушары         12,817.00   \n",
       "2           8.30     0.00            Санкт-Петербург         21,741.00   \n",
       "3            nan     0.00            Санкт-Петербург         28,098.00   \n",
       "4          41.00      nan            Санкт-Петербург         31,856.00   \n",
       "5           9.10      nan  городской посёлок Янино-1               nan   \n",
       "6          14.40     1.00          посёлок Парголово         52,996.00   \n",
       "7          18.90     2.00            Санкт-Петербург         23,982.00   \n",
       "8           8.81      nan             посёлок Мурино               nan   \n",
       "9           6.50     2.00            Санкт-Петербург         50,898.00   \n",
       "10          8.50      nan            Санкт-Петербург         38,357.00   \n",
       "11          6.00     1.00                  Ломоносов         48,252.00   \n",
       "12          9.00     0.00                  Сертолово               nan   \n",
       "13          5.20     1.00                   Петергоф         37,868.00   \n",
       "14          8.00     0.00                     Пушкин         20,782.00   \n",
       "\n",
       "   cityCenters_nearest  parks_around3000  parks_nearest  ponds_around3000  \\\n",
       "0            16,028.00              1.00         482.00              2.00   \n",
       "1            18,603.00              0.00            nan              0.00   \n",
       "2            13,933.00              1.00          90.00              2.00   \n",
       "3             6,800.00              2.00          84.00              3.00   \n",
       "4             8,098.00              2.00         112.00              1.00   \n",
       "5                  nan               nan            nan               nan   \n",
       "6            19,143.00              0.00            nan              0.00   \n",
       "7            11,634.00              0.00            nan              0.00   \n",
       "8                  nan               nan            nan               nan   \n",
       "9            15,008.00              0.00            nan              0.00   \n",
       "10           13,878.00              1.00         310.00              2.00   \n",
       "11           51,677.00              0.00            nan              0.00   \n",
       "12                 nan               nan            nan               nan   \n",
       "13           33,058.00              1.00         294.00              3.00   \n",
       "14           30,759.00              0.00            nan              1.00   \n",
       "\n",
       "    ponds_nearest  days_exposition  \n",
       "0          755.00              nan  \n",
       "1             nan            81.00  \n",
       "2          574.00           558.00  \n",
       "3          234.00           424.00  \n",
       "4           48.00           121.00  \n",
       "5             nan            55.00  \n",
       "6             nan           155.00  \n",
       "7             nan              nan  \n",
       "8             nan           189.00  \n",
       "9             nan           289.00  \n",
       "10         553.00           137.00  \n",
       "11            nan             7.00  \n",
       "12            nan            90.00  \n",
       "13         298.00           366.00  \n",
       "14          96.00           203.00  \n",
       "\n",
       "[15 rows x 22 columns]"
      ]
     },
     "execution_count": 2,
     "metadata": {},
     "output_type": "execute_result"
    }
   ],
   "source": [
    "apartments_data = pd.read_csv('/datasets/real_estate_data.csv', sep='\\t')\n",
    "#ознакомимся с первыми строками датасета\n",
    "apartments_data.head(15)"
   ]
  },
  {
   "cell_type": "code",
   "execution_count": 3,
   "metadata": {},
   "outputs": [
    {
     "name": "stdout",
     "output_type": "stream",
     "text": [
      "<class 'pandas.core.frame.DataFrame'>\n",
      "RangeIndex: 23699 entries, 0 to 23698\n",
      "Data columns (total 22 columns):\n",
      "total_images            23699 non-null int64\n",
      "last_price              23699 non-null float64\n",
      "total_area              23699 non-null float64\n",
      "first_day_exposition    23699 non-null object\n",
      "rooms                   23699 non-null int64\n",
      "ceiling_height          14504 non-null float64\n",
      "floors_total            23613 non-null float64\n",
      "living_area             21796 non-null float64\n",
      "floor                   23699 non-null int64\n",
      "is_apartment            2775 non-null object\n",
      "studio                  23699 non-null bool\n",
      "open_plan               23699 non-null bool\n",
      "kitchen_area            21421 non-null float64\n",
      "balcony                 12180 non-null float64\n",
      "locality_name           23650 non-null object\n",
      "airports_nearest        18157 non-null float64\n",
      "cityCenters_nearest     18180 non-null float64\n",
      "parks_around3000        18181 non-null float64\n",
      "parks_nearest           8079 non-null float64\n",
      "ponds_around3000        18181 non-null float64\n",
      "ponds_nearest           9110 non-null float64\n",
      "days_exposition         20518 non-null float64\n",
      "dtypes: bool(2), float64(14), int64(3), object(3)\n",
      "memory usage: 3.7+ MB\n"
     ]
    }
   ],
   "source": [
    "#посмотрим общую информацию о датасете\n",
    "apartments_data.info()"
   ]
  },
  {
   "cell_type": "code",
   "execution_count": 4,
   "metadata": {
    "scrolled": true
   },
   "outputs": [
    {
     "data": {
      "text/html": [
       "<div>\n",
       "<style scoped>\n",
       "    .dataframe tbody tr th:only-of-type {\n",
       "        vertical-align: middle;\n",
       "    }\n",
       "\n",
       "    .dataframe tbody tr th {\n",
       "        vertical-align: top;\n",
       "    }\n",
       "\n",
       "    .dataframe thead th {\n",
       "        text-align: right;\n",
       "    }\n",
       "</style>\n",
       "<table border=\"1\" class=\"dataframe\">\n",
       "  <thead>\n",
       "    <tr style=\"text-align: right;\">\n",
       "      <th></th>\n",
       "      <th>total_images</th>\n",
       "      <th>last_price</th>\n",
       "      <th>total_area</th>\n",
       "      <th>rooms</th>\n",
       "      <th>ceiling_height</th>\n",
       "      <th>floors_total</th>\n",
       "      <th>living_area</th>\n",
       "      <th>floor</th>\n",
       "      <th>kitchen_area</th>\n",
       "      <th>balcony</th>\n",
       "      <th>airports_nearest</th>\n",
       "      <th>cityCenters_nearest</th>\n",
       "      <th>parks_around3000</th>\n",
       "      <th>parks_nearest</th>\n",
       "      <th>ponds_around3000</th>\n",
       "      <th>ponds_nearest</th>\n",
       "      <th>days_exposition</th>\n",
       "    </tr>\n",
       "  </thead>\n",
       "  <tbody>\n",
       "    <tr>\n",
       "      <td>count</td>\n",
       "      <td>23,699.00</td>\n",
       "      <td>23,699.00</td>\n",
       "      <td>23,699.00</td>\n",
       "      <td>23,699.00</td>\n",
       "      <td>14,504.00</td>\n",
       "      <td>23,613.00</td>\n",
       "      <td>21,796.00</td>\n",
       "      <td>23,699.00</td>\n",
       "      <td>21,421.00</td>\n",
       "      <td>12,180.00</td>\n",
       "      <td>18,157.00</td>\n",
       "      <td>18,180.00</td>\n",
       "      <td>18,181.00</td>\n",
       "      <td>8,079.00</td>\n",
       "      <td>18,181.00</td>\n",
       "      <td>9,110.00</td>\n",
       "      <td>20,518.00</td>\n",
       "    </tr>\n",
       "    <tr>\n",
       "      <td>mean</td>\n",
       "      <td>9.86</td>\n",
       "      <td>6,541,548.77</td>\n",
       "      <td>60.35</td>\n",
       "      <td>2.07</td>\n",
       "      <td>2.77</td>\n",
       "      <td>10.67</td>\n",
       "      <td>34.46</td>\n",
       "      <td>5.89</td>\n",
       "      <td>10.57</td>\n",
       "      <td>1.15</td>\n",
       "      <td>28,793.67</td>\n",
       "      <td>14,191.28</td>\n",
       "      <td>0.61</td>\n",
       "      <td>490.80</td>\n",
       "      <td>0.77</td>\n",
       "      <td>517.98</td>\n",
       "      <td>180.89</td>\n",
       "    </tr>\n",
       "    <tr>\n",
       "      <td>std</td>\n",
       "      <td>5.68</td>\n",
       "      <td>10,887,013.27</td>\n",
       "      <td>35.65</td>\n",
       "      <td>1.08</td>\n",
       "      <td>1.26</td>\n",
       "      <td>6.60</td>\n",
       "      <td>22.03</td>\n",
       "      <td>4.89</td>\n",
       "      <td>5.91</td>\n",
       "      <td>1.07</td>\n",
       "      <td>12,630.88</td>\n",
       "      <td>8,608.39</td>\n",
       "      <td>0.80</td>\n",
       "      <td>342.32</td>\n",
       "      <td>0.94</td>\n",
       "      <td>277.72</td>\n",
       "      <td>219.73</td>\n",
       "    </tr>\n",
       "    <tr>\n",
       "      <td>min</td>\n",
       "      <td>0.00</td>\n",
       "      <td>12,190.00</td>\n",
       "      <td>12.00</td>\n",
       "      <td>0.00</td>\n",
       "      <td>1.00</td>\n",
       "      <td>1.00</td>\n",
       "      <td>2.00</td>\n",
       "      <td>1.00</td>\n",
       "      <td>1.30</td>\n",
       "      <td>0.00</td>\n",
       "      <td>0.00</td>\n",
       "      <td>181.00</td>\n",
       "      <td>0.00</td>\n",
       "      <td>1.00</td>\n",
       "      <td>0.00</td>\n",
       "      <td>13.00</td>\n",
       "      <td>1.00</td>\n",
       "    </tr>\n",
       "    <tr>\n",
       "      <td>25%</td>\n",
       "      <td>6.00</td>\n",
       "      <td>3,400,000.00</td>\n",
       "      <td>40.00</td>\n",
       "      <td>1.00</td>\n",
       "      <td>2.52</td>\n",
       "      <td>5.00</td>\n",
       "      <td>18.60</td>\n",
       "      <td>2.00</td>\n",
       "      <td>7.00</td>\n",
       "      <td>0.00</td>\n",
       "      <td>18,585.00</td>\n",
       "      <td>9,238.00</td>\n",
       "      <td>0.00</td>\n",
       "      <td>288.00</td>\n",
       "      <td>0.00</td>\n",
       "      <td>294.00</td>\n",
       "      <td>45.00</td>\n",
       "    </tr>\n",
       "    <tr>\n",
       "      <td>50%</td>\n",
       "      <td>9.00</td>\n",
       "      <td>4,650,000.00</td>\n",
       "      <td>52.00</td>\n",
       "      <td>2.00</td>\n",
       "      <td>2.65</td>\n",
       "      <td>9.00</td>\n",
       "      <td>30.00</td>\n",
       "      <td>4.00</td>\n",
       "      <td>9.10</td>\n",
       "      <td>1.00</td>\n",
       "      <td>26,726.00</td>\n",
       "      <td>13,098.50</td>\n",
       "      <td>0.00</td>\n",
       "      <td>455.00</td>\n",
       "      <td>1.00</td>\n",
       "      <td>502.00</td>\n",
       "      <td>95.00</td>\n",
       "    </tr>\n",
       "    <tr>\n",
       "      <td>75%</td>\n",
       "      <td>14.00</td>\n",
       "      <td>6,800,000.00</td>\n",
       "      <td>69.90</td>\n",
       "      <td>3.00</td>\n",
       "      <td>2.80</td>\n",
       "      <td>16.00</td>\n",
       "      <td>42.30</td>\n",
       "      <td>8.00</td>\n",
       "      <td>12.00</td>\n",
       "      <td>2.00</td>\n",
       "      <td>37,273.00</td>\n",
       "      <td>16,293.00</td>\n",
       "      <td>1.00</td>\n",
       "      <td>612.00</td>\n",
       "      <td>1.00</td>\n",
       "      <td>729.00</td>\n",
       "      <td>232.00</td>\n",
       "    </tr>\n",
       "    <tr>\n",
       "      <td>max</td>\n",
       "      <td>50.00</td>\n",
       "      <td>763,000,000.00</td>\n",
       "      <td>900.00</td>\n",
       "      <td>19.00</td>\n",
       "      <td>100.00</td>\n",
       "      <td>60.00</td>\n",
       "      <td>409.70</td>\n",
       "      <td>33.00</td>\n",
       "      <td>112.00</td>\n",
       "      <td>5.00</td>\n",
       "      <td>84,869.00</td>\n",
       "      <td>65,968.00</td>\n",
       "      <td>3.00</td>\n",
       "      <td>3,190.00</td>\n",
       "      <td>3.00</td>\n",
       "      <td>1,344.00</td>\n",
       "      <td>1,580.00</td>\n",
       "    </tr>\n",
       "  </tbody>\n",
       "</table>\n",
       "</div>"
      ],
      "text/plain": [
       "       total_images     last_price  total_area     rooms  ceiling_height  \\\n",
       "count     23,699.00      23,699.00   23,699.00 23,699.00       14,504.00   \n",
       "mean           9.86   6,541,548.77       60.35      2.07            2.77   \n",
       "std            5.68  10,887,013.27       35.65      1.08            1.26   \n",
       "min            0.00      12,190.00       12.00      0.00            1.00   \n",
       "25%            6.00   3,400,000.00       40.00      1.00            2.52   \n",
       "50%            9.00   4,650,000.00       52.00      2.00            2.65   \n",
       "75%           14.00   6,800,000.00       69.90      3.00            2.80   \n",
       "max           50.00 763,000,000.00      900.00     19.00          100.00   \n",
       "\n",
       "       floors_total  living_area     floor  kitchen_area   balcony  \\\n",
       "count     23,613.00    21,796.00 23,699.00     21,421.00 12,180.00   \n",
       "mean          10.67        34.46      5.89         10.57      1.15   \n",
       "std            6.60        22.03      4.89          5.91      1.07   \n",
       "min            1.00         2.00      1.00          1.30      0.00   \n",
       "25%            5.00        18.60      2.00          7.00      0.00   \n",
       "50%            9.00        30.00      4.00          9.10      1.00   \n",
       "75%           16.00        42.30      8.00         12.00      2.00   \n",
       "max           60.00       409.70     33.00        112.00      5.00   \n",
       "\n",
       "       airports_nearest  cityCenters_nearest  parks_around3000  parks_nearest  \\\n",
       "count         18,157.00            18,180.00         18,181.00       8,079.00   \n",
       "mean          28,793.67            14,191.28              0.61         490.80   \n",
       "std           12,630.88             8,608.39              0.80         342.32   \n",
       "min                0.00               181.00              0.00           1.00   \n",
       "25%           18,585.00             9,238.00              0.00         288.00   \n",
       "50%           26,726.00            13,098.50              0.00         455.00   \n",
       "75%           37,273.00            16,293.00              1.00         612.00   \n",
       "max           84,869.00            65,968.00              3.00       3,190.00   \n",
       "\n",
       "       ponds_around3000  ponds_nearest  days_exposition  \n",
       "count         18,181.00       9,110.00        20,518.00  \n",
       "mean               0.77         517.98           180.89  \n",
       "std                0.94         277.72           219.73  \n",
       "min                0.00          13.00             1.00  \n",
       "25%                0.00         294.00            45.00  \n",
       "50%                1.00         502.00            95.00  \n",
       "75%                1.00         729.00           232.00  \n",
       "max                3.00       1,344.00         1,580.00  "
      ]
     },
     "execution_count": 4,
     "metadata": {},
     "output_type": "execute_result"
    }
   ],
   "source": [
    "apartments_data.describe()"
   ]
  },
  {
   "cell_type": "markdown",
   "metadata": {},
   "source": [
    "### Вывод"
   ]
  },
  {
   "cell_type": "markdown",
   "metadata": {},
   "source": [
    "В датафрейме имеются различные типы данных и пропуски.\n",
    "\n",
    "Замечания по каждому столбцу:\n",
    "\n",
    "\n",
    "    first_day_exposition - object - нужно поменять на  datetime\n",
    "    ceiling_height - имеются пропуски\n",
    "    floors_total - нужно поменять на тип int, т.к. количество этажей не может быть дробным числом, имеются отсутствующие значения\n",
    "    is_apartment -  отсутствуют значения\n",
    "    living_area - отсутствуют значения\n",
    "    kitchen_area - отсутствуют значения\n",
    "    balcony - отсутствуют значения\n",
    "    locality_name - отсутствуют значения\n",
    "    airports_nearest - отсутствуют значения\n",
    "    cityCenters_nearest - отсутствуют значения, еще можно переименовать столбец\n",
    "    parks_around3000 -  отсутствуют значения\n",
    "    parks_nearest - отсутствуют значения\n",
    "    ponds_around3000 -  отсутствуют значения\n",
    "    ponds_nearest - отсутствуют значения\n",
    "    days_exposition - поменять тип на int, отсутствуют значения\n",
    "    \n",
    "Кроме того, в данных имеются выбросы. Нереалистичными кажутся 19 комнат, высота потолков 100 м, 2 м жилой площади и нулевое количество комнат."
   ]
  },
  {
   "cell_type": "markdown",
   "metadata": {},
   "source": [
    "## Предобработка данных"
   ]
  },
  {
   "cell_type": "code",
   "execution_count": 5,
   "metadata": {},
   "outputs": [
    {
     "data": {
      "text/plain": [
       "total_images                0\n",
       "last_price                  0\n",
       "total_area                  0\n",
       "first_day_exposition        0\n",
       "rooms                       0\n",
       "ceiling_height           9195\n",
       "floors_total               86\n",
       "living_area              1903\n",
       "floor                       0\n",
       "is_apartment            20924\n",
       "studio                      0\n",
       "open_plan                   0\n",
       "kitchen_area             2278\n",
       "balcony                 11519\n",
       "locality_name              49\n",
       "airports_nearest         5542\n",
       "cityCenters_nearest      5519\n",
       "parks_around3000         5518\n",
       "parks_nearest           15620\n",
       "ponds_around3000         5518\n",
       "ponds_nearest           14589\n",
       "days_exposition          3181\n",
       "dtype: int64"
      ]
     },
     "execution_count": 5,
     "metadata": {},
     "output_type": "execute_result"
    }
   ],
   "source": [
    "#посмотрим количество пропусков\n",
    "apartments_data.isnull().sum()"
   ]
  },
  {
   "cell_type": "code",
   "execution_count": 6,
   "metadata": {},
   "outputs": [
    {
     "data": {
      "text/plain": [
       "total_images           0.00\n",
       "last_price             0.00\n",
       "total_area             0.00\n",
       "first_day_exposition   0.00\n",
       "rooms                  0.00\n",
       "ceiling_height         0.39\n",
       "floors_total           0.00\n",
       "living_area            0.08\n",
       "floor                  0.00\n",
       "is_apartment           0.88\n",
       "studio                 0.00\n",
       "open_plan              0.00\n",
       "kitchen_area           0.10\n",
       "balcony                0.49\n",
       "locality_name          0.00\n",
       "airports_nearest       0.23\n",
       "cityCenters_nearest    0.23\n",
       "parks_around3000       0.23\n",
       "parks_nearest          0.66\n",
       "ponds_around3000       0.23\n",
       "ponds_nearest          0.62\n",
       "days_exposition        0.13\n",
       "dtype: float64"
      ]
     },
     "execution_count": 6,
     "metadata": {},
     "output_type": "execute_result"
    }
   ],
   "source": [
    "#Оценим долю пропусков\n",
    "apartments_data.isnull().mean()"
   ]
  },
  {
   "cell_type": "code",
   "execution_count": 7,
   "metadata": {},
   "outputs": [
    {
     "data": {
      "text/plain": [
       "0"
      ]
     },
     "execution_count": 7,
     "metadata": {},
     "output_type": "execute_result"
    }
   ],
   "source": [
    "apartments_data.duplicated().sum()\n",
    "#посмотрели количество дубликатов"
   ]
  },
  {
   "cell_type": "markdown",
   "metadata": {},
   "source": [
    "Дубликатов в данных нет, пропуски можно заполнить разными методами. Какие-то можно заполнить нулями, булевые - False, количественные - медианами."
   ]
  },
  {
   "cell_type": "code",
   "execution_count": 8,
   "metadata": {},
   "outputs": [],
   "source": [
    "#переведем столбец с датой в формат даты без времени, т.к. время не указано\n",
    "apartments_data['first_day_exposition'] = pd.to_datetime(apartments_data['first_day_exposition'], format = '%Y-%m-%d')"
   ]
  },
  {
   "cell_type": "code",
   "execution_count": 9,
   "metadata": {},
   "outputs": [],
   "source": [
    "#заменим пропуски в balcony на 0 и сразу изменим тип данных на int\n",
    "\n",
    "apartments_data['balcony'] = apartments_data['balcony'].fillna(0)\n",
    "apartments_data['balcony'] = apartments_data['balcony'].astype('int')"
   ]
  },
  {
   "cell_type": "code",
   "execution_count": 10,
   "metadata": {},
   "outputs": [],
   "source": [
    "#удалим значения с высотой потолков больше 100\n",
    "apartments_data.drop(apartments_data[apartments_data.ceiling_height >= 100].index, inplace=True)\n",
    "#удалим значения с жилой площадью меньше 2 метров кв\n",
    "apartments_data.drop(apartments_data[apartments_data.living_area < 2].index, inplace=True)"
   ]
  },
  {
   "cell_type": "code",
   "execution_count": 11,
   "metadata": {},
   "outputs": [
    {
     "data": {
      "text/plain": [
       "2.764794870026891"
      ]
     },
     "execution_count": 11,
     "metadata": {},
     "output_type": "execute_result"
    }
   ],
   "source": [
    "apartments_data['ceiling_height'].mean()\n",
    "#Проверим среднее по столбцу"
   ]
  },
  {
   "cell_type": "code",
   "execution_count": 12,
   "metadata": {},
   "outputs": [
    {
     "data": {
      "text/plain": [
       "2.65"
      ]
     },
     "execution_count": 12,
     "metadata": {},
     "output_type": "execute_result"
    }
   ],
   "source": [
    "#Посмотрим медианное значение столбца\n",
    "apartments_data['ceiling_height'].median()"
   ]
  },
  {
   "cell_type": "markdown",
   "metadata": {},
   "source": [
    "Медиана и среднее по столбцу ceiling_height сильно не отличаются, значит удаление больших значений является корректным"
   ]
  },
  {
   "cell_type": "code",
   "execution_count": 13,
   "metadata": {},
   "outputs": [],
   "source": [
    "#Заполним пропуски\n",
    "apartments_data['is_apartment'] = apartments_data['is_apartment'].fillna(False)\n",
    "\n",
    "#изменим цену и количество этажей на тип int \n",
    "apartments_data['last_price'] = apartments_data['last_price'].astype('int')\n",
    "\n"
   ]
  },
  {
   "cell_type": "markdown",
   "metadata": {},
   "source": [
    "Заменим пустые значения по следующему принципу:\n",
    "\n",
    "- living_area и kitchen_area. Эти параметры достаточно хорошо связаны с общей площадью, т.к. чаще всего в квартирах площадь кухни и жилая площадь имеют какую-то долю от общей. Эту долю можно посчитать на основе имеющихся данных, например, для разного кол-ва комнат.  \n",
    "- floors_total. Пропусков <1%, можно пренебречь ими. \n",
    "- locality_name. Пропусков <1%,  можно пренебречь ими.\n",
    "- Картографические данные лучше не заполнять.\n",
    "\n",
    "\n"
   ]
  },
  {
   "cell_type": "code",
   "execution_count": 14,
   "metadata": {},
   "outputs": [
    {
     "name": "stdout",
     "output_type": "stream",
     "text": [
      "0.689655172413793\n",
      "0.48247978436657674\n",
      "0.5850091407678245\n",
      "0.6316666666666666\n",
      "0.6597402597402597\n",
      "0.6518423782149324\n",
      "0.6794117647058824\n",
      "0.6816702819956616\n",
      "0.6282513005202081\n"
     ]
    }
   ],
   "source": [
    "#медианы для разного количества комнат\n",
    "print((apartments_data.loc[(apartments_data['rooms'] == 0) & (apartments_data['living_area'].isnull() == False), 'living_area']/apartments_data.loc[(apartments_data['rooms'] == 0) & (apartments_data['living_area'].isnull() == False), 'total_area']).median())\n",
    "print((apartments_data.loc[(apartments_data['rooms'] == 1) & (apartments_data['living_area'].isnull() == False), 'living_area']/apartments_data.loc[(apartments_data['rooms'] == 1) & (apartments_data['living_area'].isnull() == False), 'total_area']).median())\n",
    "print((apartments_data.loc[(apartments_data['rooms'] == 2) & (apartments_data['living_area'].isnull() == False), 'living_area']/apartments_data.loc[(apartments_data['rooms'] == 2) & (apartments_data['living_area'].isnull() == False), 'total_area']).median())\n",
    "print((apartments_data.loc[(apartments_data['rooms'] == 3) & (apartments_data['living_area'].isnull() == False), 'living_area']/apartments_data.loc[(apartments_data['rooms'] == 3) & (apartments_data['living_area'].isnull() == False), 'total_area']).median())\n",
    "print((apartments_data.loc[(apartments_data['rooms'] == 4) & (apartments_data['living_area'].isnull() == False), 'living_area']/apartments_data.loc[(apartments_data['rooms'] == 4) & (apartments_data['living_area'].isnull() == False), 'total_area']).median())\n",
    "print((apartments_data.loc[(apartments_data['rooms'] == 5) & (apartments_data['living_area'].isnull() == False), 'living_area']/apartments_data.loc[(apartments_data['rooms'] == 5) & (apartments_data['living_area'].isnull() == False), 'total_area']).median())\n",
    "print((apartments_data.loc[(apartments_data['rooms'] == 6) & (apartments_data['living_area'].isnull() == False), 'living_area']/apartments_data.loc[(apartments_data['rooms'] == 6) & (apartments_data['living_area'].isnull() == False), 'total_area']).median())\n",
    "print((apartments_data.loc[(apartments_data['rooms'] == 7) & (apartments_data['living_area'].isnull() == False), 'living_area']/apartments_data.loc[(apartments_data['rooms'] == 7) & (apartments_data['living_area'].isnull() == False), 'total_area']).median())\n",
    "print((apartments_data.loc[(apartments_data['rooms'] == 9) & (apartments_data['living_area'].isnull() == False), 'living_area']/apartments_data.loc[(apartments_data['rooms'] == 9) & (apartments_data['living_area'].isnull() == False), 'total_area']).median())"
   ]
  },
  {
   "cell_type": "code",
   "execution_count": 15,
   "metadata": {},
   "outputs": [],
   "source": [
    "# Заполним пропуски\n",
    "apartments_data.loc[(apartments_data['living_area'].isnull() == True) & (apartments_data['rooms'] == 0), 'living_area'] = apartments_data.loc[(apartments_data['living_area'].isnull() == True) & (apartments_data['rooms'] == 0), 'total_area'] * 0.69\n",
    "apartments_data.loc[(apartments_data['living_area'].isnull() == True) & (apartments_data['rooms'] == 1), 'living_area'] = apartments_data.loc[(apartments_data['living_area'].isnull() == True) & (apartments_data['rooms'] == 1), 'total_area'] * 0.48\n",
    "apartments_data.loc[(apartments_data['living_area'].isnull() == True) & (apartments_data['rooms'] == 2), 'living_area'] = apartments_data.loc[(apartments_data['living_area'].isnull() == True) & (apartments_data['rooms'] == 2), 'total_area'] * 0.585\n",
    "apartments_data.loc[(apartments_data['living_area'].isnull() == True) & (apartments_data['rooms'] == 3), 'living_area'] = apartments_data.loc[(apartments_data['living_area'].isnull() == True) & (apartments_data['rooms'] == 3), 'total_area'] * 0.63\n",
    "apartments_data.loc[(apartments_data['living_area'].isnull() == True) & (apartments_data['rooms'] == 4), 'living_area'] = apartments_data.loc[(apartments_data['living_area'].isnull() == True) & (apartments_data['rooms'] == 4), 'total_area'] * 0.66\n",
    "apartments_data.loc[(apartments_data['living_area'].isnull() == True) & (apartments_data['rooms'] == 5), 'living_area'] = apartments_data.loc[(apartments_data['living_area'].isnull() == True) & (apartments_data['rooms'] == 5), 'total_area'] * 0.65\n",
    "apartments_data.loc[(apartments_data['living_area'].isnull() == True) & (apartments_data['rooms'] == 6), 'living_area'] = apartments_data.loc[(apartments_data['living_area'].isnull() == True) & (apartments_data['rooms'] == 6), 'total_area'] * 0.68\n",
    "apartments_data.loc[(apartments_data['living_area'].isnull() == True) & (apartments_data['rooms'] == 7), 'living_area'] = apartments_data.loc[(apartments_data['living_area'].isnull() == True) & (apartments_data['rooms'] == 7), 'total_area'] * 0.68\n",
    "apartments_data.loc[(apartments_data['living_area'].isnull() == True) & (apartments_data['rooms'] == 9), 'living_area'] = apartments_data.loc[(apartments_data['living_area'].isnull() == True) & (apartments_data['rooms'] == 9), 'total_area'] * 0.63"
   ]
  },
  {
   "cell_type": "code",
   "execution_count": 16,
   "metadata": {},
   "outputs": [
    {
     "data": {
      "text/plain": [
       "0.0"
      ]
     },
     "execution_count": 16,
     "metadata": {},
     "output_type": "execute_result"
    }
   ],
   "source": [
    "#проверяем\n",
    "apartments_data['living_area'].isna().mean()"
   ]
  },
  {
   "cell_type": "code",
   "execution_count": 17,
   "metadata": {},
   "outputs": [
    {
     "name": "stdout",
     "output_type": "stream",
     "text": [
      "0.23684210526315788\n",
      "0.16628145933972083\n",
      "0.15409309791332262\n",
      "0.14002333722287047\n",
      "0.1082349514386361\n"
     ]
    }
   ],
   "source": [
    "#отношение кухни к общей площади кухни по категориям\n",
    "print((apartments_data.loc[(apartments_data['total_area'] <= 40), 'kitchen_area']/apartments_data.loc[(apartments_data['total_area'] <= 40), 'total_area']).median())\n",
    "print((apartments_data.loc[(apartments_data['total_area'] > 40) & (apartments_data['total_area'] <= 50), 'kitchen_area']/apartments_data.loc[(apartments_data['total_area'] > 40) & (apartments_data['total_area'] <= 52), 'total_area']).median())\n",
    "print((apartments_data.loc[(apartments_data['total_area'] > 50) & (apartments_data['total_area'] <= 70), 'kitchen_area']/apartments_data.loc[(apartments_data['total_area'] <= 70) & (apartments_data['total_area'] > 52), 'total_area']).median())\n",
    "print((apartments_data.loc[(apartments_data['total_area'] > 70) & (apartments_data['total_area'] <= 150), 'kitchen_area']/apartments_data.loc[(apartments_data['total_area'] > 70) & (apartments_data['total_area'] <= 150), 'total_area']).median())\n",
    "print((apartments_data.loc[(apartments_data['total_area'] > 150), 'kitchen_area']/apartments_data.loc[(apartments_data['total_area'] > 150), 'total_area']).median())"
   ]
  },
  {
   "cell_type": "code",
   "execution_count": 18,
   "metadata": {},
   "outputs": [],
   "source": [
    "#заменим\n",
    "apartments_data.loc[(apartments_data['kitchen_area'].isnull() == True) & (apartments_data['total_area'] <= 40), 'kitchen_area'] = apartments_data.loc[(apartments_data['kitchen_area'].isnull() == True) & (apartments_data['total_area'] <= 40), 'total_area'] * 0.24\n",
    "apartments_data.loc[(apartments_data['kitchen_area'].isnull() == True) & (apartments_data['total_area'] >40) & (apartments_data['total_area'] <= 52), 'kitchen_area'] = apartments_data.loc[(apartments_data['kitchen_area'].isnull() == True) & (apartments_data['total_area'] >40) & (apartments_data['total_area'] <= 52),'total_area'] * 0.165\n",
    "apartments_data.loc[(apartments_data['kitchen_area'].isnull() == True) & (apartments_data['total_area'] >52) & (apartments_data['total_area'] <= 70), 'kitchen_area'] = apartments_data.loc[(apartments_data['kitchen_area'].isnull() == True) & (apartments_data['total_area'] >52) & (apartments_data['total_area'] <= 70),'total_area'] * 0.15\n",
    "apartments_data.loc[(apartments_data['kitchen_area'].isnull() == True) & (apartments_data['total_area'] >70) & (apartments_data['total_area'] <= 150), 'kitchen_area'] = apartments_data.loc[(apartments_data['kitchen_area'].isnull() == True) & (apartments_data['total_area'] >70) & (apartments_data['total_area'] <= 150),'total_area'] * 0.14\n",
    "apartments_data.loc[(apartments_data['kitchen_area'].isnull() == True) & (apartments_data['total_area'] >150), 'kitchen_area'] = apartments_data.loc[(apartments_data['kitchen_area'].isnull() == True) & (apartments_data['total_area'] > 150), 'total_area'] * 0.11"
   ]
  },
  {
   "cell_type": "code",
   "execution_count": 19,
   "metadata": {},
   "outputs": [
    {
     "data": {
      "text/plain": [
       "0.0"
      ]
     },
     "execution_count": 19,
     "metadata": {},
     "output_type": "execute_result"
    }
   ],
   "source": [
    "#проверка\n",
    "apartments_data['kitchen_area'].isna().mean()"
   ]
  },
  {
   "cell_type": "markdown",
   "metadata": {},
   "source": [
    "Имеются квартиры с нулевым значениям комнат, если это не студии, они могут помешать в расчетах.В случе, если это не студии, удалим их."
   ]
  },
  {
   "cell_type": "code",
   "execution_count": 20,
   "metadata": {},
   "outputs": [],
   "source": [
    "apartments_data.drop(apartments_data[(apartments_data.rooms == 0) & (apartments_data.studio == False)].index, inplace=True)"
   ]
  },
  {
   "cell_type": "markdown",
   "metadata": {},
   "source": [
    "### Вывод\n",
    "\n",
    "На данном этапе мы очистили данные от отклоняющихся значений, заменили пропущенные значения.\n",
    "Некоторые пропущенные значения оставили незаполненными,  с NaN удобно проводить вычисления, так как это тип float.\n",
    "Также преобразованы типы данных: из строковых в формат даты, из вещественных в целочисленный.\n",
    "Квартиры с нулевым количеством комнат, значения потолков выше 100 м  и жилая площадь меньше 2 м кв были удалены из датафрейма."
   ]
  },
  {
   "cell_type": "markdown",
   "metadata": {},
   "source": [
    "## Расчёты и добавление результатов в таблицу"
   ]
  },
  {
   "cell_type": "markdown",
   "metadata": {},
   "source": [
    "Цена квадратного метра: "
   ]
  },
  {
   "cell_type": "code",
   "execution_count": 21,
   "metadata": {},
   "outputs": [],
   "source": [
    "#добавляем в таблицу столбец с ценой квадратного метра\n",
    "apartments_data['price_for_square_meter'] = apartments_data['last_price'] / apartments_data['total_area']\n",
    "\n"
   ]
  },
  {
   "cell_type": "markdown",
   "metadata": {},
   "source": [
    "Добавим столбцы с днем недели, месяцем, годом."
   ]
  },
  {
   "cell_type": "code",
   "execution_count": 22,
   "metadata": {},
   "outputs": [],
   "source": [
    "#столбцы с днем недели, месяцем, годом\n",
    "apartments_data['weekday'] = apartments_data['first_day_exposition'].dt.weekday\n",
    "apartments_data['month'] = apartments_data['first_day_exposition'].dt.month\n",
    "apartments_data['year'] = apartments_data['first_day_exposition'].dt.year"
   ]
  },
  {
   "cell_type": "markdown",
   "metadata": {},
   "source": [
    "Столбец с этажом"
   ]
  },
  {
   "cell_type": "code",
   "execution_count": 23,
   "metadata": {},
   "outputs": [],
   "source": [
    "#создадим функцию, которая проходится по этажам и присваивает им категорию\n",
    "def floor_category(row):\n",
    "    if row['floor'] == 1:\n",
    "        return 'первый'\n",
    "    if row['floor'] == row['floors_total']:\n",
    "        return 'последний'\n",
    "    return 'другой'\n"
   ]
  },
  {
   "cell_type": "code",
   "execution_count": 24,
   "metadata": {},
   "outputs": [],
   "source": [
    "#применим функцию и создаем столбец с этажом\n",
    "apartments_data['floor_category'] = apartments_data.apply(floor_category, axis=1)"
   ]
  },
  {
   "cell_type": "markdown",
   "metadata": {},
   "source": [
    "Добавим отношение жилой площади к общей"
   ]
  },
  {
   "cell_type": "code",
   "execution_count": 25,
   "metadata": {},
   "outputs": [],
   "source": [
    "#создаем новый столбец\n",
    "apartments_data['living_to_total'] = apartments_data.living_area / apartments_data.total_area"
   ]
  },
  {
   "cell_type": "markdown",
   "metadata": {},
   "source": [
    "Добавим отношение площади кухни к общей"
   ]
  },
  {
   "cell_type": "code",
   "execution_count": 26,
   "metadata": {},
   "outputs": [],
   "source": [
    "apartments_data['kitchen_to_total'] = apartments_data.kitchen_area / apartments_data.total_area"
   ]
  },
  {
   "cell_type": "markdown",
   "metadata": {},
   "source": [
    "Посмотрим как изменился датафрейм"
   ]
  },
  {
   "cell_type": "code",
   "execution_count": 27,
   "metadata": {},
   "outputs": [
    {
     "data": {
      "text/html": [
       "<div>\n",
       "<style scoped>\n",
       "    .dataframe tbody tr th:only-of-type {\n",
       "        vertical-align: middle;\n",
       "    }\n",
       "\n",
       "    .dataframe tbody tr th {\n",
       "        vertical-align: top;\n",
       "    }\n",
       "\n",
       "    .dataframe thead th {\n",
       "        text-align: right;\n",
       "    }\n",
       "</style>\n",
       "<table border=\"1\" class=\"dataframe\">\n",
       "  <thead>\n",
       "    <tr style=\"text-align: right;\">\n",
       "      <th></th>\n",
       "      <th>total_images</th>\n",
       "      <th>last_price</th>\n",
       "      <th>total_area</th>\n",
       "      <th>first_day_exposition</th>\n",
       "      <th>rooms</th>\n",
       "      <th>ceiling_height</th>\n",
       "      <th>floors_total</th>\n",
       "      <th>living_area</th>\n",
       "      <th>floor</th>\n",
       "      <th>is_apartment</th>\n",
       "      <th>...</th>\n",
       "      <th>ponds_around3000</th>\n",
       "      <th>ponds_nearest</th>\n",
       "      <th>days_exposition</th>\n",
       "      <th>price_for_square_meter</th>\n",
       "      <th>weekday</th>\n",
       "      <th>month</th>\n",
       "      <th>year</th>\n",
       "      <th>floor_category</th>\n",
       "      <th>living_to_total</th>\n",
       "      <th>kitchen_to_total</th>\n",
       "    </tr>\n",
       "  </thead>\n",
       "  <tbody>\n",
       "    <tr>\n",
       "      <td>0</td>\n",
       "      <td>20</td>\n",
       "      <td>13000000</td>\n",
       "      <td>108.00</td>\n",
       "      <td>2019-03-07</td>\n",
       "      <td>3</td>\n",
       "      <td>2.70</td>\n",
       "      <td>16.00</td>\n",
       "      <td>51.00</td>\n",
       "      <td>8</td>\n",
       "      <td>False</td>\n",
       "      <td>...</td>\n",
       "      <td>2.00</td>\n",
       "      <td>755.00</td>\n",
       "      <td>nan</td>\n",
       "      <td>120,370.37</td>\n",
       "      <td>3</td>\n",
       "      <td>3</td>\n",
       "      <td>2019</td>\n",
       "      <td>другой</td>\n",
       "      <td>0.47</td>\n",
       "      <td>0.23</td>\n",
       "    </tr>\n",
       "    <tr>\n",
       "      <td>1</td>\n",
       "      <td>7</td>\n",
       "      <td>3350000</td>\n",
       "      <td>40.40</td>\n",
       "      <td>2018-12-04</td>\n",
       "      <td>1</td>\n",
       "      <td>nan</td>\n",
       "      <td>11.00</td>\n",
       "      <td>18.60</td>\n",
       "      <td>1</td>\n",
       "      <td>False</td>\n",
       "      <td>...</td>\n",
       "      <td>0.00</td>\n",
       "      <td>nan</td>\n",
       "      <td>81.00</td>\n",
       "      <td>82,920.79</td>\n",
       "      <td>1</td>\n",
       "      <td>12</td>\n",
       "      <td>2018</td>\n",
       "      <td>первый</td>\n",
       "      <td>0.46</td>\n",
       "      <td>0.27</td>\n",
       "    </tr>\n",
       "    <tr>\n",
       "      <td>2</td>\n",
       "      <td>10</td>\n",
       "      <td>5196000</td>\n",
       "      <td>56.00</td>\n",
       "      <td>2015-08-20</td>\n",
       "      <td>2</td>\n",
       "      <td>nan</td>\n",
       "      <td>5.00</td>\n",
       "      <td>34.30</td>\n",
       "      <td>4</td>\n",
       "      <td>False</td>\n",
       "      <td>...</td>\n",
       "      <td>2.00</td>\n",
       "      <td>574.00</td>\n",
       "      <td>558.00</td>\n",
       "      <td>92,785.71</td>\n",
       "      <td>3</td>\n",
       "      <td>8</td>\n",
       "      <td>2015</td>\n",
       "      <td>другой</td>\n",
       "      <td>0.61</td>\n",
       "      <td>0.15</td>\n",
       "    </tr>\n",
       "    <tr>\n",
       "      <td>3</td>\n",
       "      <td>0</td>\n",
       "      <td>64900000</td>\n",
       "      <td>159.00</td>\n",
       "      <td>2015-07-24</td>\n",
       "      <td>3</td>\n",
       "      <td>nan</td>\n",
       "      <td>14.00</td>\n",
       "      <td>100.17</td>\n",
       "      <td>9</td>\n",
       "      <td>False</td>\n",
       "      <td>...</td>\n",
       "      <td>3.00</td>\n",
       "      <td>234.00</td>\n",
       "      <td>424.00</td>\n",
       "      <td>408,176.10</td>\n",
       "      <td>4</td>\n",
       "      <td>7</td>\n",
       "      <td>2015</td>\n",
       "      <td>другой</td>\n",
       "      <td>0.63</td>\n",
       "      <td>0.11</td>\n",
       "    </tr>\n",
       "    <tr>\n",
       "      <td>4</td>\n",
       "      <td>2</td>\n",
       "      <td>10000000</td>\n",
       "      <td>100.00</td>\n",
       "      <td>2018-06-19</td>\n",
       "      <td>2</td>\n",
       "      <td>3.03</td>\n",
       "      <td>14.00</td>\n",
       "      <td>32.00</td>\n",
       "      <td>13</td>\n",
       "      <td>False</td>\n",
       "      <td>...</td>\n",
       "      <td>1.00</td>\n",
       "      <td>48.00</td>\n",
       "      <td>121.00</td>\n",
       "      <td>100,000.00</td>\n",
       "      <td>1</td>\n",
       "      <td>6</td>\n",
       "      <td>2018</td>\n",
       "      <td>другой</td>\n",
       "      <td>0.32</td>\n",
       "      <td>0.41</td>\n",
       "    </tr>\n",
       "    <tr>\n",
       "      <td>5</td>\n",
       "      <td>10</td>\n",
       "      <td>2890000</td>\n",
       "      <td>30.40</td>\n",
       "      <td>2018-09-10</td>\n",
       "      <td>1</td>\n",
       "      <td>nan</td>\n",
       "      <td>12.00</td>\n",
       "      <td>14.40</td>\n",
       "      <td>5</td>\n",
       "      <td>False</td>\n",
       "      <td>...</td>\n",
       "      <td>nan</td>\n",
       "      <td>nan</td>\n",
       "      <td>55.00</td>\n",
       "      <td>95,065.79</td>\n",
       "      <td>0</td>\n",
       "      <td>9</td>\n",
       "      <td>2018</td>\n",
       "      <td>другой</td>\n",
       "      <td>0.47</td>\n",
       "      <td>0.30</td>\n",
       "    </tr>\n",
       "    <tr>\n",
       "      <td>6</td>\n",
       "      <td>6</td>\n",
       "      <td>3700000</td>\n",
       "      <td>37.30</td>\n",
       "      <td>2017-11-02</td>\n",
       "      <td>1</td>\n",
       "      <td>nan</td>\n",
       "      <td>26.00</td>\n",
       "      <td>10.60</td>\n",
       "      <td>6</td>\n",
       "      <td>False</td>\n",
       "      <td>...</td>\n",
       "      <td>0.00</td>\n",
       "      <td>nan</td>\n",
       "      <td>155.00</td>\n",
       "      <td>99,195.71</td>\n",
       "      <td>3</td>\n",
       "      <td>11</td>\n",
       "      <td>2017</td>\n",
       "      <td>другой</td>\n",
       "      <td>0.28</td>\n",
       "      <td>0.39</td>\n",
       "    </tr>\n",
       "    <tr>\n",
       "      <td>7</td>\n",
       "      <td>5</td>\n",
       "      <td>7915000</td>\n",
       "      <td>71.60</td>\n",
       "      <td>2019-04-18</td>\n",
       "      <td>2</td>\n",
       "      <td>nan</td>\n",
       "      <td>24.00</td>\n",
       "      <td>41.89</td>\n",
       "      <td>22</td>\n",
       "      <td>False</td>\n",
       "      <td>...</td>\n",
       "      <td>0.00</td>\n",
       "      <td>nan</td>\n",
       "      <td>nan</td>\n",
       "      <td>110,544.69</td>\n",
       "      <td>3</td>\n",
       "      <td>4</td>\n",
       "      <td>2019</td>\n",
       "      <td>другой</td>\n",
       "      <td>0.58</td>\n",
       "      <td>0.26</td>\n",
       "    </tr>\n",
       "    <tr>\n",
       "      <td>8</td>\n",
       "      <td>20</td>\n",
       "      <td>2900000</td>\n",
       "      <td>33.16</td>\n",
       "      <td>2018-05-23</td>\n",
       "      <td>1</td>\n",
       "      <td>nan</td>\n",
       "      <td>27.00</td>\n",
       "      <td>15.43</td>\n",
       "      <td>26</td>\n",
       "      <td>False</td>\n",
       "      <td>...</td>\n",
       "      <td>nan</td>\n",
       "      <td>nan</td>\n",
       "      <td>189.00</td>\n",
       "      <td>87,454.76</td>\n",
       "      <td>2</td>\n",
       "      <td>5</td>\n",
       "      <td>2018</td>\n",
       "      <td>другой</td>\n",
       "      <td>0.47</td>\n",
       "      <td>0.27</td>\n",
       "    </tr>\n",
       "    <tr>\n",
       "      <td>9</td>\n",
       "      <td>18</td>\n",
       "      <td>5400000</td>\n",
       "      <td>61.00</td>\n",
       "      <td>2017-02-26</td>\n",
       "      <td>3</td>\n",
       "      <td>2.50</td>\n",
       "      <td>9.00</td>\n",
       "      <td>43.60</td>\n",
       "      <td>7</td>\n",
       "      <td>False</td>\n",
       "      <td>...</td>\n",
       "      <td>0.00</td>\n",
       "      <td>nan</td>\n",
       "      <td>289.00</td>\n",
       "      <td>88,524.59</td>\n",
       "      <td>6</td>\n",
       "      <td>2</td>\n",
       "      <td>2017</td>\n",
       "      <td>другой</td>\n",
       "      <td>0.71</td>\n",
       "      <td>0.11</td>\n",
       "    </tr>\n",
       "  </tbody>\n",
       "</table>\n",
       "<p>10 rows × 29 columns</p>\n",
       "</div>"
      ],
      "text/plain": [
       "   total_images  last_price  total_area first_day_exposition  rooms  \\\n",
       "0            20    13000000      108.00           2019-03-07      3   \n",
       "1             7     3350000       40.40           2018-12-04      1   \n",
       "2            10     5196000       56.00           2015-08-20      2   \n",
       "3             0    64900000      159.00           2015-07-24      3   \n",
       "4             2    10000000      100.00           2018-06-19      2   \n",
       "5            10     2890000       30.40           2018-09-10      1   \n",
       "6             6     3700000       37.30           2017-11-02      1   \n",
       "7             5     7915000       71.60           2019-04-18      2   \n",
       "8            20     2900000       33.16           2018-05-23      1   \n",
       "9            18     5400000       61.00           2017-02-26      3   \n",
       "\n",
       "   ceiling_height  floors_total  living_area  floor  is_apartment  ...  \\\n",
       "0            2.70         16.00        51.00      8         False  ...   \n",
       "1             nan         11.00        18.60      1         False  ...   \n",
       "2             nan          5.00        34.30      4         False  ...   \n",
       "3             nan         14.00       100.17      9         False  ...   \n",
       "4            3.03         14.00        32.00     13         False  ...   \n",
       "5             nan         12.00        14.40      5         False  ...   \n",
       "6             nan         26.00        10.60      6         False  ...   \n",
       "7             nan         24.00        41.89     22         False  ...   \n",
       "8             nan         27.00        15.43     26         False  ...   \n",
       "9            2.50          9.00        43.60      7         False  ...   \n",
       "\n",
       "   ponds_around3000  ponds_nearest  days_exposition  price_for_square_meter  \\\n",
       "0              2.00         755.00              nan              120,370.37   \n",
       "1              0.00            nan            81.00               82,920.79   \n",
       "2              2.00         574.00           558.00               92,785.71   \n",
       "3              3.00         234.00           424.00              408,176.10   \n",
       "4              1.00          48.00           121.00              100,000.00   \n",
       "5               nan            nan            55.00               95,065.79   \n",
       "6              0.00            nan           155.00               99,195.71   \n",
       "7              0.00            nan              nan              110,544.69   \n",
       "8               nan            nan           189.00               87,454.76   \n",
       "9              0.00            nan           289.00               88,524.59   \n",
       "\n",
       "  weekday  month  year  floor_category  living_to_total  kitchen_to_total  \n",
       "0       3      3  2019          другой             0.47              0.23  \n",
       "1       1     12  2018          первый             0.46              0.27  \n",
       "2       3      8  2015          другой             0.61              0.15  \n",
       "3       4      7  2015          другой             0.63              0.11  \n",
       "4       1      6  2018          другой             0.32              0.41  \n",
       "5       0      9  2018          другой             0.47              0.30  \n",
       "6       3     11  2017          другой             0.28              0.39  \n",
       "7       3      4  2019          другой             0.58              0.26  \n",
       "8       2      5  2018          другой             0.47              0.27  \n",
       "9       6      2  2017          другой             0.71              0.11  \n",
       "\n",
       "[10 rows x 29 columns]"
      ]
     },
     "execution_count": 27,
     "metadata": {},
     "output_type": "execute_result"
    }
   ],
   "source": [
    "#откроем первые строки датафрейма\n",
    "apartments_data.head(10)"
   ]
  },
  {
   "cell_type": "markdown",
   "metadata": {},
   "source": [
    "### Вывод\n",
    "\n",
    "Таблица готова для исследовательского анализа данных, добавили необходимые столбцы."
   ]
  },
  {
   "cell_type": "markdown",
   "metadata": {},
   "source": [
    "## Исследовательский анализ данных"
   ]
  },
  {
   "cell_type": "markdown",
   "metadata": {},
   "source": [
    "### Этап 1\n",
    "Изучим следующие параметры: площадь, цена, число комнат, высота потолков. \n",
    "Построим гистограммы для каждого параметра.\n"
   ]
  },
  {
   "cell_type": "code",
   "execution_count": 28,
   "metadata": {},
   "outputs": [
    {
     "data": {
      "image/png": "[encoded data removed]",
      "text/plain": [
       "<Figure size 648x360 with 1 Axes>"
      ]
     },
     "metadata": {
      "needs_background": "light"
     },
     "output_type": "display_data"
    },
    {
     "data": {
      "image/png": "[encoded data removed]",
      "text/plain": [
       "<Figure size 648x360 with 1 Axes>"
      ]
     },
     "metadata": {
      "needs_background": "light"
     },
     "output_type": "display_data"
    },
    {
     "data": {
      "image/png": "[encoded data removed]",
      "text/plain": [
       "<Figure size 648x360 with 1 Axes>"
      ]
     },
     "metadata": {
      "needs_background": "light"
     },
     "output_type": "display_data"
    },
    {
     "data": {
      "image/png": "[encoded data removed]",
      "text/plain": [
       "<Figure size 648x360 with 1 Axes>"
      ]
     },
     "metadata": {
      "needs_background": "light"
     },
     "output_type": "display_data"
    }
   ],
   "source": [
    "#общая площадь\n",
    "\n",
    "apartments_data.plot(y = 'total_area', kind = 'hist', bins = 100, grid=True, figsize = (9,5), range = (0,500), title='Общая площадь')\n",
    "apartments_data['total_area'].describe()\n",
    "\n",
    "\n",
    "#цена\n",
    "\n",
    "apartments_data.plot(y = 'last_price', kind = 'hist', bins = 100, grid=True, range = (0,15000000), figsize = (9,5), title='Стоимость')\n",
    "apartments_data['last_price'].describe()\n",
    "\n",
    "\n",
    "#число комнат\n",
    "\n",
    "apartments_data.plot(y = 'rooms', kind = 'hist', bins = 50, range = (0,8), grid=True, figsize = (9,5), title='Комнаты')\n",
    "apartments_data['rooms'].describe()\n",
    "\n",
    "\n",
    "#высота потолков\n",
    "apartments_data.plot(y = 'ceiling_height', kind = 'hist', bins = 50, range = (2,4), grid=True, figsize = (9,5), title='Высота потолков')\n",
    "apartments_data['ceiling_height'].describe()\n",
    "\n",
    "plt.show()"
   ]
  },
  {
   "cell_type": "code",
   "execution_count": 29,
   "metadata": {},
   "outputs": [
    {
     "data": {
      "text/plain": [
       "52.0"
      ]
     },
     "execution_count": 29,
     "metadata": {},
     "output_type": "execute_result"
    }
   ],
   "source": [
    "#медиана площади\n",
    "apartments_data.total_area.median()\n"
   ]
  },
  {
   "cell_type": "code",
   "execution_count": 30,
   "metadata": {},
   "outputs": [
    {
     "data": {
      "text/plain": [
       "4650000.0"
      ]
     },
     "execution_count": 30,
     "metadata": {},
     "output_type": "execute_result"
    }
   ],
   "source": [
    "#медиана стоимости\n",
    "apartments_data.last_price.median()"
   ]
  },
  {
   "cell_type": "code",
   "execution_count": 31,
   "metadata": {},
   "outputs": [
    {
     "data": {
      "text/plain": [
       "2.65"
      ]
     },
     "execution_count": 31,
     "metadata": {},
     "output_type": "execute_result"
    }
   ],
   "source": [
    "#медианное значение высоты потолка\n",
    "apartments_data.ceiling_height.median()"
   ]
  },
  {
   "cell_type": "markdown",
   "metadata": {},
   "source": [
    "\n",
    "\n",
    "Медианное значение площади - 52 кв.м., распределение напоминает вид распределения Пуассона.\n",
    "Медианная стоимость квартиры составляет 4 млн. 650 тысяч.\n",
    "Количество однокомнатных и двухкомнатных квартир преобладает, при этом однокомнатных немного больше.\n",
    "Высота потолков  составляет 2.65 метра, что в принципе стандартная величина для обычной квартиры."
   ]
  },
  {
   "cell_type": "markdown",
   "metadata": {},
   "source": [
    "### Этап 2\n",
    "Перейдем к следующему этапу исследования.\n",
    "\n",
    "Изучим время продажи квартиры.  Построим гистограмму. Посчитаем среднее и медиану. "
   ]
  },
  {
   "cell_type": "code",
   "execution_count": 32,
   "metadata": {},
   "outputs": [
    {
     "data": {
      "image/png": "[encoded data removed]",
      "text/plain": [
       "<Figure size 1080x504 with 1 Axes>"
      ]
     },
     "metadata": {
      "needs_background": "light"
     },
     "output_type": "display_data"
    }
   ],
   "source": [
    "#cтроим гистрограмму времени продажи\n",
    "apartments_data.plot(y='days_exposition', kind='hist', bins=50, figsize=(15,7), xlim=(0,900), title='Время продажи')\n",
    "plt.xlabel(\"days\")\n",
    "plt.show()"
   ]
  },
  {
   "cell_type": "code",
   "execution_count": 33,
   "metadata": {},
   "outputs": [
    {
     "data": {
      "text/plain": [
       "96.0"
      ]
     },
     "execution_count": 33,
     "metadata": {},
     "output_type": "execute_result"
    }
   ],
   "source": [
    "#медианное время продажи\n",
    "apartments_data.days_exposition.median()\n"
   ]
  },
  {
   "cell_type": "code",
   "execution_count": 34,
   "metadata": {},
   "outputs": [
    {
     "data": {
      "text/plain": [
       "181.19478932446964"
      ]
     },
     "execution_count": 34,
     "metadata": {},
     "output_type": "execute_result"
    }
   ],
   "source": [
    "#среднее время продажи\n",
    "apartments_data.days_exposition.mean()"
   ]
  },
  {
   "cell_type": "markdown",
   "metadata": {},
   "source": [
    "Среднее и медианное значение различаются практически вдвое. Можно сделать вывод о наличии значительных выбросов."
   ]
  },
  {
   "cell_type": "code",
   "execution_count": 35,
   "metadata": {},
   "outputs": [
    {
     "data": {
      "image/png": "[encoded data removed]",
      "text/plain": [
       "<Figure size 576x432 with 1 Axes>"
      ]
     },
     "metadata": {
      "needs_background": "light"
     },
     "output_type": "display_data"
    }
   ],
   "source": [
    "#построим диаграмму размаха\n",
    "apartments_data.boxplot([\"days_exposition\"], figsize=(8,6), fontsize=11)\n",
    "plt.ylabel(\"days\", fontsize=11)\n",
    "plt.show()"
   ]
  },
  {
   "cell_type": "markdown",
   "metadata": {},
   "source": [
    "Диаграмма размаха  от минимального значения до примерно 500 дней. Необоснованно быстрых значений у нас нет, а необоснованно долгие - около 500 дней и выше. Можно считать, что нормальные значения у нас лежат от 1 до 500."
   ]
  },
  {
   "cell_type": "markdown",
   "metadata": {},
   "source": [
    "Избавимся от аномальных значений"
   ]
  },
  {
   "cell_type": "code",
   "execution_count": 36,
   "metadata": {},
   "outputs": [],
   "source": [
    "good_exposition_data = apartments_data.query('1<days_exposition<500')['days_exposition']\n"
   ]
  },
  {
   "cell_type": "code",
   "execution_count": 37,
   "metadata": {},
   "outputs": [
    {
     "data": {
      "image/png": "[encoded data removed]",
      "text/plain": [
       "<Figure size 1152x504 with 1 Axes>"
      ]
     },
     "metadata": {
      "needs_background": "light"
     },
     "output_type": "display_data"
    }
   ],
   "source": [
    "#построим гистограмму\n",
    "good_exposition_data.plot(kind='hist', bins=90, xlim=(5,550), figsize=(16,7))\n",
    "plt.xlabel(\"Дни\")\n",
    "plt.title(\"Дни на продаже\")\n",
    "plt.show()"
   ]
  },
  {
   "cell_type": "code",
   "execution_count": 38,
   "metadata": {},
   "outputs": [
    {
     "data": {
      "text/plain": [
       "45.00    870\n",
       "60.00    538\n",
       "7.00     231\n",
       "30.00    208\n",
       "90.00    203\n",
       "4.00     175\n",
       "3.00     156\n",
       "5.00     151\n",
       "14.00    148\n",
       "9.00     142\n",
       "8.00     138\n",
       "20.00    138\n",
       "44.00    137\n",
       "11.00    134\n",
       "18.00    129\n",
       "Name: days_exposition, dtype: int64"
      ]
     },
     "execution_count": 38,
     "metadata": {},
     "output_type": "execute_result"
    }
   ],
   "source": [
    "good_exposition_data.value_counts().head(15)"
   ]
  },
  {
   "cell_type": "code",
   "execution_count": 39,
   "metadata": {},
   "outputs": [
    {
     "data": {
      "text/plain": [
       "85.0"
      ]
     },
     "execution_count": 39,
     "metadata": {},
     "output_type": "execute_result"
    }
   ],
   "source": [
    "good_exposition_data.median()"
   ]
  },
  {
   "cell_type": "code",
   "execution_count": 40,
   "metadata": {},
   "outputs": [
    {
     "data": {
      "text/plain": [
       "127.21461797572582"
      ]
     },
     "execution_count": 40,
     "metadata": {},
     "output_type": "execute_result"
    }
   ],
   "source": [
    "good_exposition_data.mean()"
   ]
  },
  {
   "cell_type": "markdown",
   "metadata": {},
   "source": [
    "Значения 45, 60 встречаются чаще всего, что подозрительно. Может объявления просто снимаются с продажи,  а отражается, будто квартира продана. В таком случае они будут искажать общие значения и от них нужно избавиться.\n",
    "После фильтрации среднее и медианное значение немного приблизились.\n",
    "Была мысль убирать из фильтрации значений времени промежутки до 7 дней, но так как хорошие варианты квартир расходятся быстрее, и не стоит забывать срочные продажи - убирать не стала. Значения могут быть вполне реальными."
   ]
  },
  {
   "cell_type": "markdown",
   "metadata": {},
   "source": [
    "### Этап 3\n",
    "Посмотрим какие факторы больше всего влияют на стоимость квартиры.\n",
    " \n",
    "Зависит ли цена от площади, числа комнат, удалённости от центра.\n",
    "Изучим зависимость цены от того, на каком этаже расположена квартира: первом, последнем или другом.\n",
    "Также изучим зависимость от даты размещения: дня недели, месяца и года.\n"
   ]
  },
  {
   "cell_type": "code",
   "execution_count": 41,
   "metadata": {},
   "outputs": [
    {
     "data": {
      "text/plain": [
       "0.6530934341648412"
      ]
     },
     "execution_count": 41,
     "metadata": {},
     "output_type": "execute_result"
    },
    {
     "data": {
      "image/png": "[encoded data removed]",
      "text/plain": [
       "<Figure size 432x288 with 1 Axes>"
      ]
     },
     "metadata": {
      "needs_background": "light"
     },
     "output_type": "display_data"
    }
   ],
   "source": [
    "#построим зависимость цены от площади\n",
    "pivot_table_total_area = apartments_data.pivot_table(index = 'total_area', values = 'last_price', aggfunc = ['mean', 'count', 'median'])\n",
    "\n",
    "pivot_table_total_area.plot(y = 'median', style = 'o')\n",
    "\n",
    "apartments_data['total_area'].corr(apartments_data['last_price'])"
   ]
  },
  {
   "cell_type": "markdown",
   "metadata": {},
   "source": [
    "Наблюдается небольшая зависимость цены от площади. С увеличением площади цена возрастает - что закономерно."
   ]
  },
  {
   "cell_type": "markdown",
   "metadata": {},
   "source": [
    "Посмотрим зависит ли цена от количества комнат."
   ]
  },
  {
   "cell_type": "code",
   "execution_count": 42,
   "metadata": {},
   "outputs": [
    {
     "data": {
      "text/plain": [
       "0.3642333142293488"
      ]
     },
     "execution_count": 42,
     "metadata": {},
     "output_type": "execute_result"
    },
    {
     "data": {
      "image/png": "[encoded data removed]",
      "text/plain": [
       "<Figure size 432x288 with 1 Axes>"
      ]
     },
     "metadata": {
      "needs_background": "light"
     },
     "output_type": "display_data"
    }
   ],
   "source": [
    "pivot_table_rooms = apartments_data.pivot_table(index = 'rooms', values = 'last_price', aggfunc = ['mean', 'count', 'median'])\n",
    "pivot_table_rooms.columns = ['mean', 'count', 'median']\n",
    "pivot_table_rooms.query('count > 50').plot(y = 'median')\n",
    "\n",
    "\n",
    "apartments_data['rooms'].corr(apartments_data['last_price'])"
   ]
  },
  {
   "cell_type": "markdown",
   "metadata": {},
   "source": [
    "Логично, что с увеличением количества комнат растет и цена."
   ]
  },
  {
   "cell_type": "markdown",
   "metadata": {},
   "source": [
    "Изучим зависимость цены квадратного метра от этажа."
   ]
  },
  {
   "cell_type": "code",
   "execution_count": 43,
   "metadata": {},
   "outputs": [],
   "source": [
    "floor_price = apartments_data[['floor_category', 'last_price']].groupby(['floor_category']).median().sort_values('last_price')"
   ]
  },
  {
   "cell_type": "code",
   "execution_count": 44,
   "metadata": {},
   "outputs": [
    {
     "data": {
      "image/png": "[encoded data removed]",
      "text/plain": [
       "<Figure size 720x360 with 1 Axes>"
      ]
     },
     "metadata": {
      "needs_background": "light"
     },
     "output_type": "display_data"
    }
   ],
   "source": [
    "plt.figure(figsize=(10,5))\n",
    "plt.barh( floor_price.index, floor_price['last_price'])\n",
    "plt.title(\"Этажи\")\n",
    "plt.xlabel(\"Стоимость\")\n",
    "plt.show()"
   ]
  },
  {
   "cell_type": "markdown",
   "metadata": {},
   "source": [
    "Квартиры на первом и последнем этаже стоят дешевле, что соответствует требованиям рынка."
   ]
  },
  {
   "cell_type": "markdown",
   "metadata": {},
   "source": [
    "Посмотрим на зависимость цены от близости к центру города "
   ]
  },
  {
   "cell_type": "code",
   "execution_count": 45,
   "metadata": {},
   "outputs": [
    {
     "data": {
      "text/plain": [
       "-0.2067111428232727"
      ]
     },
     "execution_count": 45,
     "metadata": {},
     "output_type": "execute_result"
    },
    {
     "data": {
      "image/png": "[encoded data removed]",
      "text/plain": [
       "<Figure size 432x288 with 1 Axes>"
      ]
     },
     "metadata": {
      "needs_background": "light"
     },
     "output_type": "display_data"
    }
   ],
   "source": [
    "apartments_data.plot(kind = 'scatter', y = 'last_price', x = 'cityCenters_nearest', alpha = 0.3)\n",
    "\n",
    "apartments_data['cityCenters_nearest'].corr(apartments_data['last_price'])"
   ]
  },
  {
   "cell_type": "markdown",
   "metadata": {},
   "source": [
    "На графике зависимости стоимости квартиры от расстояния до центра города также видна зависимость.\n",
    "Чем дальше квартира, тем дешевле она стоит."
   ]
  },
  {
   "cell_type": "markdown",
   "metadata": {},
   "source": [
    "Изучим зависимость цены от даты размещения.\n"
   ]
  },
  {
   "cell_type": "code",
   "execution_count": 46,
   "metadata": {},
   "outputs": [
    {
     "data": {
      "text/plain": [
       "<matplotlib.axes._subplots.AxesSubplot at 0x7fa382a5f790>"
      ]
     },
     "execution_count": 46,
     "metadata": {},
     "output_type": "execute_result"
    },
    {
     "data": {
      "image/png": "[encoded data removed]",
      "text/plain": [
       "<Figure size 432x288 with 1 Axes>"
      ]
     },
     "metadata": {
      "needs_background": "light"
     },
     "output_type": "display_data"
    }
   ],
   "source": [
    "#посмотрим зависимость от дня недели\n",
    "pivot_weekday_exposition = apartments_data.pivot_table(index = 'weekday', values = 'last_price', aggfunc = ['mean', 'count', 'median'])\n",
    "\n",
    "pivot_weekday_exposition.plot(y = 'median')\n",
    "\n"
   ]
  },
  {
   "cell_type": "markdown",
   "metadata": {},
   "source": [
    "В середине недели фиксируются наибольшие цены,  а вот на выходных есть возможность купить квартиру дешевле. "
   ]
  },
  {
   "cell_type": "code",
   "execution_count": 47,
   "metadata": {},
   "outputs": [
    {
     "data": {
      "text/plain": [
       "<matplotlib.axes._subplots.AxesSubplot at 0x7fa382ac0490>"
      ]
     },
     "execution_count": 47,
     "metadata": {},
     "output_type": "execute_result"
    },
    {
     "data": {
      "image/png": "[encoded data removed]",
      "text/plain": [
       "<Figure size 432x288 with 1 Axes>"
      ]
     },
     "metadata": {
      "needs_background": "light"
     },
     "output_type": "display_data"
    }
   ],
   "source": [
    "#посмотрим зависимость от месяца\n",
    "pivot_month_exposition = apartments_data.pivot_table(index = 'month', values = 'last_price', aggfunc = ['mean', 'count', 'median'])\n",
    "\n",
    "pivot_month_exposition.plot(y = 'median')\n"
   ]
  },
  {
   "cell_type": "markdown",
   "metadata": {},
   "source": [
    "В июне фиксируются самые низкие показатели цены на недвижимость."
   ]
  },
  {
   "cell_type": "code",
   "execution_count": 48,
   "metadata": {},
   "outputs": [
    {
     "data": {
      "text/plain": [
       "<matplotlib.axes._subplots.AxesSubplot at 0x7fa382d41450>"
      ]
     },
     "execution_count": 48,
     "metadata": {},
     "output_type": "execute_result"
    },
    {
     "data": {
      "image/png": "[encoded data removed]",
      "text/plain": [
       "<Figure size 432x288 with 1 Axes>"
      ]
     },
     "metadata": {
      "needs_background": "light"
     },
     "output_type": "display_data"
    }
   ],
   "source": [
    "pivot_year_exposition = apartments_data.pivot_table(index = 'year', values = 'last_price', aggfunc = ['mean', 'count', 'median'])\n",
    "\n",
    "pivot_year_exposition.plot(y = 'median')\n",
    "\n"
   ]
  },
  {
   "cell_type": "markdown",
   "metadata": {},
   "source": [
    "C 2014 года стоимость квартир начала падать, но начиная с 2018 пошла на увеличение."
   ]
  },
  {
   "cell_type": "markdown",
   "metadata": {},
   "source": [
    "### Этап 4\n",
    "\n",
    "Изучим 10 населенных пунктов с самой высокой стоимостью кв. метра"
   ]
  },
  {
   "cell_type": "code",
   "execution_count": 49,
   "metadata": {},
   "outputs": [
    {
     "data": {
      "text/html": [
       "<div>\n",
       "<style scoped>\n",
       "    .dataframe tbody tr th:only-of-type {\n",
       "        vertical-align: middle;\n",
       "    }\n",
       "\n",
       "    .dataframe tbody tr th {\n",
       "        vertical-align: top;\n",
       "    }\n",
       "\n",
       "    .dataframe thead th {\n",
       "        text-align: right;\n",
       "    }\n",
       "</style>\n",
       "<table border=\"1\" class=\"dataframe\">\n",
       "  <thead>\n",
       "    <tr style=\"text-align: right;\">\n",
       "      <th></th>\n",
       "      <th>count</th>\n",
       "      <th>mean</th>\n",
       "    </tr>\n",
       "    <tr>\n",
       "      <th>locality_name</th>\n",
       "      <th></th>\n",
       "      <th></th>\n",
       "    </tr>\n",
       "  </thead>\n",
       "  <tbody>\n",
       "    <tr>\n",
       "      <td>Санкт-Петербург</td>\n",
       "      <td>15692</td>\n",
       "      <td>8,066,394.44</td>\n",
       "    </tr>\n",
       "    <tr>\n",
       "      <td>посёлок Мурино</td>\n",
       "      <td>515</td>\n",
       "      <td>3,688,077.05</td>\n",
       "    </tr>\n",
       "    <tr>\n",
       "      <td>посёлок Шушары</td>\n",
       "      <td>440</td>\n",
       "      <td>4,108,081.82</td>\n",
       "    </tr>\n",
       "    <tr>\n",
       "      <td>Всеволожск</td>\n",
       "      <td>398</td>\n",
       "      <td>3,789,067.75</td>\n",
       "    </tr>\n",
       "    <tr>\n",
       "      <td>Пушкин</td>\n",
       "      <td>369</td>\n",
       "      <td>6,469,035.95</td>\n",
       "    </tr>\n",
       "    <tr>\n",
       "      <td>Колпино</td>\n",
       "      <td>338</td>\n",
       "      <td>3,964,021.44</td>\n",
       "    </tr>\n",
       "    <tr>\n",
       "      <td>посёлок Парголово</td>\n",
       "      <td>324</td>\n",
       "      <td>4,504,461.29</td>\n",
       "    </tr>\n",
       "    <tr>\n",
       "      <td>Гатчина</td>\n",
       "      <td>307</td>\n",
       "      <td>3,488,336.68</td>\n",
       "    </tr>\n",
       "    <tr>\n",
       "      <td>деревня Кудрово</td>\n",
       "      <td>287</td>\n",
       "      <td>4,305,554.77</td>\n",
       "    </tr>\n",
       "    <tr>\n",
       "      <td>Выборг</td>\n",
       "      <td>237</td>\n",
       "      <td>3,250,983.12</td>\n",
       "    </tr>\n",
       "  </tbody>\n",
       "</table>\n",
       "</div>"
      ],
      "text/plain": [
       "                   count         mean\n",
       "locality_name                        \n",
       "Санкт-Петербург    15692 8,066,394.44\n",
       "посёлок Мурино       515 3,688,077.05\n",
       "посёлок Шушары       440 4,108,081.82\n",
       "Всеволожск           398 3,789,067.75\n",
       "Пушкин               369 6,469,035.95\n",
       "Колпино              338 3,964,021.44\n",
       "посёлок Парголово    324 4,504,461.29\n",
       "Гатчина              307 3,488,336.68\n",
       "деревня Кудрово      287 4,305,554.77\n",
       "Выборг               237 3,250,983.12"
      ]
     },
     "execution_count": 49,
     "metadata": {},
     "output_type": "execute_result"
    }
   ],
   "source": [
    "locality_pivot = apartments_data.pivot_table(index = 'locality_name', values = 'last_price', aggfunc=['count', 'mean'])\n",
    "locality_pivot.columns = ['count', 'mean']\n",
    "locality_pivot = locality_pivot.sort_values('count', ascending = False).head(10)\n",
    "locality_pivot\n",
    "\n"
   ]
  },
  {
   "cell_type": "code",
   "execution_count": 50,
   "metadata": {},
   "outputs": [
    {
     "data": {
      "text/html": [
       "<div>\n",
       "<style scoped>\n",
       "    .dataframe tbody tr th:only-of-type {\n",
       "        vertical-align: middle;\n",
       "    }\n",
       "\n",
       "    .dataframe tbody tr th {\n",
       "        vertical-align: top;\n",
       "    }\n",
       "\n",
       "    .dataframe thead th {\n",
       "        text-align: right;\n",
       "    }\n",
       "</style>\n",
       "<table border=\"1\" class=\"dataframe\">\n",
       "  <thead>\n",
       "    <tr style=\"text-align: right;\">\n",
       "      <th></th>\n",
       "      <th>count</th>\n",
       "      <th>mean</th>\n",
       "    </tr>\n",
       "    <tr>\n",
       "      <th>locality_name</th>\n",
       "      <th></th>\n",
       "      <th></th>\n",
       "    </tr>\n",
       "  </thead>\n",
       "  <tbody>\n",
       "    <tr>\n",
       "      <td>Санкт-Петербург</td>\n",
       "      <td>15692</td>\n",
       "      <td>8,066,394.44</td>\n",
       "    </tr>\n",
       "  </tbody>\n",
       "</table>\n",
       "</div>"
      ],
      "text/plain": [
       "                 count         mean\n",
       "locality_name                      \n",
       "Санкт-Петербург  15692 8,066,394.44"
      ]
     },
     "execution_count": 50,
     "metadata": {},
     "output_type": "execute_result"
    }
   ],
   "source": [
    "#самая высокая стоимость\n",
    "locality_pivot[locality_pivot['mean']==locality_pivot['mean'].max()]\n",
    "\n"
   ]
  },
  {
   "cell_type": "code",
   "execution_count": 51,
   "metadata": {},
   "outputs": [
    {
     "data": {
      "text/html": [
       "<div>\n",
       "<style scoped>\n",
       "    .dataframe tbody tr th:only-of-type {\n",
       "        vertical-align: middle;\n",
       "    }\n",
       "\n",
       "    .dataframe tbody tr th {\n",
       "        vertical-align: top;\n",
       "    }\n",
       "\n",
       "    .dataframe thead th {\n",
       "        text-align: right;\n",
       "    }\n",
       "</style>\n",
       "<table border=\"1\" class=\"dataframe\">\n",
       "  <thead>\n",
       "    <tr style=\"text-align: right;\">\n",
       "      <th></th>\n",
       "      <th>count</th>\n",
       "      <th>mean</th>\n",
       "    </tr>\n",
       "    <tr>\n",
       "      <th>locality_name</th>\n",
       "      <th></th>\n",
       "      <th></th>\n",
       "    </tr>\n",
       "  </thead>\n",
       "  <tbody>\n",
       "    <tr>\n",
       "      <td>Выборг</td>\n",
       "      <td>237</td>\n",
       "      <td>3,250,983.12</td>\n",
       "    </tr>\n",
       "  </tbody>\n",
       "</table>\n",
       "</div>"
      ],
      "text/plain": [
       "               count         mean\n",
       "locality_name                    \n",
       "Выборг           237 3,250,983.12"
      ]
     },
     "execution_count": 51,
     "metadata": {},
     "output_type": "execute_result"
    }
   ],
   "source": [
    "#самая низкая стоимость\n",
    "locality_pivot[locality_pivot['mean']==locality_pivot['mean'].min()]\n"
   ]
  },
  {
   "cell_type": "markdown",
   "metadata": {},
   "source": [
    "Самые дорогие квартиры из выбранной категории по понятным причинам, в Санкт-Петербурге.\n",
    "Самая низкая стоимость квартир в Выборге.\n"
   ]
  },
  {
   "cell_type": "markdown",
   "metadata": {},
   "source": [
    "Выделим квартиры в Санкт-Петербурге и выясним, какая область входит в центр, посчитаем среднюю цену для каждого километра."
   ]
  },
  {
   "cell_type": "code",
   "execution_count": 52,
   "metadata": {},
   "outputs": [],
   "source": [
    "apartments_data['kilometres_to_cityCenters'] =( apartments_data['cityCenters_nearest']/1000 ).round()"
   ]
  },
  {
   "cell_type": "code",
   "execution_count": 53,
   "metadata": {},
   "outputs": [
    {
     "data": {
      "image/png": "[encoded data removed]",
      "text/plain": [
       "<Figure size 1080x360 with 1 Axes>"
      ]
     },
     "metadata": {
      "needs_background": "light"
     },
     "output_type": "display_data"
    }
   ],
   "source": [
    "\n",
    "\n",
    "plt.figure(figsize=(15,5))\n",
    "apartments_data.groupby('kilometres_to_cityCenters')['last_price'].mean().plot()\n",
    "plt.plot([7, 7], [1000000, 15000000])\n",
    "plt.title(\"Стоимость квартиры в зависимости от расстояния\")\n",
    "plt.ylabel(\"Стоимость\")\n",
    "plt.text(5, 10, \"Экстремум\")\n",
    "plt.show()"
   ]
  },
  {
   "cell_type": "markdown",
   "metadata": {},
   "source": [
    "По графику заметно, что цена меняется примерно на 7 километрах, следовательно это и есть граница центра города."
   ]
  },
  {
   "cell_type": "markdown",
   "metadata": {},
   "source": [
    "### Этап 5\n",
    "Проанализируем квартиры в центре"
   ]
  },
  {
   "cell_type": "code",
   "execution_count": 54,
   "metadata": {},
   "outputs": [],
   "source": [
    "data_flats_in_center = apartments_data.query('kilometres_to_cityCenters <= 7 and locality_name == \"Санкт-Петербург\"')"
   ]
  },
  {
   "cell_type": "code",
   "execution_count": 55,
   "metadata": {},
   "outputs": [
    {
     "data": {
      "image/png": "[encoded data removed]",
      "text/plain": [
       "<Figure size 648x432 with 1 Axes>"
      ]
     },
     "metadata": {
      "needs_background": "light"
     },
     "output_type": "display_data"
    },
    {
     "data": {
      "image/png": "[encoded data removed]",
      "text/plain": [
       "<Figure size 648x432 with 1 Axes>"
      ]
     },
     "metadata": {
      "needs_background": "light"
     },
     "output_type": "display_data"
    },
    {
     "data": {
      "image/png": "[encoded data removed]",
      "text/plain": [
       "<Figure size 648x432 with 1 Axes>"
      ]
     },
     "metadata": {
      "needs_background": "light"
     },
     "output_type": "display_data"
    },
    {
     "data": {
      "image/png": "[encoded data removed]",
      "text/plain": [
       "<Figure size 648x432 with 1 Axes>"
      ]
     },
     "metadata": {
      "needs_background": "light"
     },
     "output_type": "display_data"
    }
   ],
   "source": [
    "data_flats_in_center.plot(y='total_area', kind='hist', bins=50, xlim=(0,500), figsize=(9,6), title='Площадь')\n",
    "data_flats_in_center.plot(y='last_price', kind='hist',  bins=200, xlim=(11190,40000000.0), figsize=(9,6), title='Стоимость')\n",
    "data_flats_in_center.plot(y='rooms', kind='hist', bins=100, range=(0, 10), figsize=(9,6), title='Число комнат')\n",
    "data_flats_in_center.plot(y='ceiling_height', kind='hist', bins=50, range=(2.5, 5), figsize=(9,6), title='Высота потолков')\n",
    "plt.show()"
   ]
  },
  {
   "cell_type": "code",
   "execution_count": 56,
   "metadata": {},
   "outputs": [
    {
     "data": {
      "text/plain": [
       "78.7"
      ]
     },
     "execution_count": 56,
     "metadata": {},
     "output_type": "execute_result"
    }
   ],
   "source": [
    "#медиана площади\n",
    "data_flats_in_center['total_area'].median() "
   ]
  },
  {
   "cell_type": "code",
   "execution_count": 57,
   "metadata": {},
   "outputs": [
    {
     "data": {
      "text/plain": [
       "9200000.0"
      ]
     },
     "execution_count": 57,
     "metadata": {},
     "output_type": "execute_result"
    }
   ],
   "source": [
    "#медиана цены\n",
    "data_flats_in_center['last_price'].median() "
   ]
  },
  {
   "cell_type": "code",
   "execution_count": 58,
   "metadata": {},
   "outputs": [
    {
     "data": {
      "text/plain": [
       "3.0"
      ]
     },
     "execution_count": 58,
     "metadata": {},
     "output_type": "execute_result"
    }
   ],
   "source": [
    "#медиана высоты потолков\n",
    "data_flats_in_center.ceiling_height.median() "
   ]
  },
  {
   "cell_type": "markdown",
   "metadata": {},
   "source": [
    "В квартирах в центре в среднем площадь около 72 кв м, что в целом очень даже не маленькие квартиры.\n",
    "Такие квартиры также в среднем более дорогие, медианная стоимость составляет 8,5 млн. , а  для всех остальных квартир эта стоимость равняется 4,5 миллионам.\n",
    "Квартиры в центре также чаще двух- или трехкомнатные, тогда как в общей массе больше однокомнатных.\n",
    "Больше так же и потолки, в среднем - 3 метра."
   ]
  },
  {
   "cell_type": "markdown",
   "metadata": {},
   "source": [
    "### Этап 6\n",
    "Выделим факторы, которые влияют на стоимость квартиры (число комнат, этаж, удалённость от центра, дата размещения объявления). "
   ]
  },
  {
   "cell_type": "code",
   "execution_count": 59,
   "metadata": {},
   "outputs": [
    {
     "data": {
      "image/png": "[encoded data removed]",
      "text/plain": [
       "<Figure size 432x288 with 1 Axes>"
      ]
     },
     "metadata": {
      "needs_background": "light"
     },
     "output_type": "display_data"
    }
   ],
   "source": [
    "rooms_price_center = data_flats_in_center[['rooms', 'last_price']].groupby(['rooms']).median()\n",
    "a = sns.barplot(x=rooms_price_center.index, y=rooms_price_center['last_price'])"
   ]
  },
  {
   "cell_type": "markdown",
   "metadata": {},
   "source": [
    "Стоимость квартиры увеличивается в зависимости от количества комнат, в общем датасете была аналагичная тенденция."
   ]
  },
  {
   "cell_type": "code",
   "execution_count": 60,
   "metadata": {},
   "outputs": [],
   "source": [
    "floor_price_center = ( data_flats_in_center[['floor_category', 'last_price']].groupby('floor_category').median()\n",
    "                      .sort_values('last_price') )\n",
    "\n"
   ]
  },
  {
   "cell_type": "code",
   "execution_count": 61,
   "metadata": {},
   "outputs": [
    {
     "data": {
      "image/png": "[encoded data removed]",
      "text/plain": [
       "<Figure size 720x360 with 1 Axes>"
      ]
     },
     "metadata": {
      "needs_background": "light"
     },
     "output_type": "display_data"
    }
   ],
   "source": [
    "plt.figure(figsize=(10,5))\n",
    "plt.barh( floor_price_center.index, floor_price_center['last_price'] )\n",
    "plt.title(\"Этаж\")\n",
    "plt.show()"
   ]
  },
  {
   "cell_type": "markdown",
   "metadata": {},
   "source": [
    "Квартиры на первом этаже в центре Санкт-Петербурга дешевле (потому что не вида, ни пейзажа), но последний этаж не уступает другим, как обычно это бывает (потому что Питерские крыши one love)) "
   ]
  },
  {
   "cell_type": "code",
   "execution_count": 62,
   "metadata": {},
   "outputs": [
    {
     "data": {
      "text/html": [
       "<div>\n",
       "<style scoped>\n",
       "    .dataframe tbody tr th:only-of-type {\n",
       "        vertical-align: middle;\n",
       "    }\n",
       "\n",
       "    .dataframe tbody tr th {\n",
       "        vertical-align: top;\n",
       "    }\n",
       "\n",
       "    .dataframe thead th {\n",
       "        text-align: right;\n",
       "    }\n",
       "</style>\n",
       "<table border=\"1\" class=\"dataframe\">\n",
       "  <thead>\n",
       "    <tr style=\"text-align: right;\">\n",
       "      <th></th>\n",
       "      <th>last_price</th>\n",
       "      <th>cityCenters_nearest</th>\n",
       "    </tr>\n",
       "  </thead>\n",
       "  <tbody>\n",
       "    <tr>\n",
       "      <td>last_price</td>\n",
       "      <td>1.00</td>\n",
       "      <td>-0.04</td>\n",
       "    </tr>\n",
       "    <tr>\n",
       "      <td>cityCenters_nearest</td>\n",
       "      <td>-0.04</td>\n",
       "      <td>1.00</td>\n",
       "    </tr>\n",
       "  </tbody>\n",
       "</table>\n",
       "</div>"
      ],
      "text/plain": [
       "                     last_price  cityCenters_nearest\n",
       "last_price                 1.00                -0.04\n",
       "cityCenters_nearest       -0.04                 1.00"
      ]
     },
     "execution_count": 62,
     "metadata": {},
     "output_type": "execute_result"
    }
   ],
   "source": [
    "data_flats_in_center[['last_price', 'cityCenters_nearest']].corr()"
   ]
  },
  {
   "cell_type": "markdown",
   "metadata": {},
   "source": [
    "Зависимости от удаленности нет, потому что мы смотрим центр Питера,  а в рамках центра все улицы и дома похожи, на цену скорее повлияют другие факторы (фасад дома, ремонт, например)"
   ]
  },
  {
   "cell_type": "code",
   "execution_count": 63,
   "metadata": {},
   "outputs": [],
   "source": [
    "year_price_center = data_flats_in_center[['year', 'last_price']].groupby(['year']).median().sort_index()"
   ]
  },
  {
   "cell_type": "code",
   "execution_count": 64,
   "metadata": {},
   "outputs": [
    {
     "data": {
      "image/png": "[encoded data removed]",
      "text/plain": [
       "<Figure size 720x360 with 1 Axes>"
      ]
     },
     "metadata": {
      "needs_background": "light"
     },
     "output_type": "display_data"
    }
   ],
   "source": [
    "plt.figure(figsize=(10,5))\n",
    "plt.bar( year_price_center.index, year_price_center['last_price'], color='olive' )\n",
    "plt.title(\"По годам\", fontsize=15)\n",
    "plt.ylabel(\"Стоимость\", fontsize=14)\n",
    "plt.ylim(7000000,10000000)\n",
    "plt.show()"
   ]
  },
  {
   "cell_type": "markdown",
   "metadata": {},
   "source": [
    "Диаграмма аналогична той, которая получилась у нас по всем данным, после 2014 цена начала падать."
   ]
  },
  {
   "cell_type": "code",
   "execution_count": 65,
   "metadata": {},
   "outputs": [],
   "source": [
    "month_price_center = data_flats_in_center[['month', 'last_price']].groupby(['month']).median().sort_index()\n",
    "month_price_center.index = ['январь', 'февраль', 'март', \"апрель\", \"май\", \"июнь\", \"июль\", \"август\", \"сентябрь\", \"октябрь\", \"ноябрь\", \"декабрь\"]"
   ]
  },
  {
   "cell_type": "code",
   "execution_count": 66,
   "metadata": {},
   "outputs": [
    {
     "data": {
      "image/png": "[encoded data removed]",
      "text/plain": [
       "<Figure size 864x360 with 1 Axes>"
      ]
     },
     "metadata": {
      "needs_background": "light"
     },
     "output_type": "display_data"
    }
   ],
   "source": [
    "plt.figure(figsize=(12,5))\n",
    "plt.plot( month_price_center.index, month_price_center['last_price'])\n",
    "plt.title(\"Стоимость от месяца\")\n",
    "plt.ylabel(\"Стоимость\", fontsize=13)\n",
    "plt.show()"
   ]
  },
  {
   "cell_type": "markdown",
   "metadata": {},
   "source": [
    "Наименьшая стоимость соответствует квартирам,которые продаются в декабре.\n",
    "А наибольшая стоимость в сентябре (cпрос большой и цену можно поднять)."
   ]
  },
  {
   "cell_type": "code",
   "execution_count": 67,
   "metadata": {},
   "outputs": [],
   "source": [
    "day_price_center = data_flats_in_center[['weekday', 'last_price']].groupby(['weekday']).median().sort_index()\n",
    "day_price_center.index = [\"понедельник\", \"вторник\", \"среда\", \"четверг\", \"пятница\", \"суббота\", \"воскресенье\"]"
   ]
  },
  {
   "cell_type": "code",
   "execution_count": 68,
   "metadata": {},
   "outputs": [
    {
     "data": {
      "image/png": "[encoded data removed]",
      "text/plain": [
       "<Figure size 864x360 with 1 Axes>"
      ]
     },
     "metadata": {
      "needs_background": "light"
     },
     "output_type": "display_data"
    }
   ],
   "source": [
    "plt.figure(figsize=(12,5))\n",
    "plt.plot(day_price_center.index, day_price_center['last_price'])\n",
    "plt.ylabel(\"Стоимость\", fontsize=12)\n",
    "plt.title(\"Стоимость квартиры в зависимости от дня недели\")\n",
    "plt.show()"
   ]
  },
  {
   "cell_type": "markdown",
   "metadata": {},
   "source": [
    "По воскресеньям цены повышаются. Самые низкие цены зафиксированы с пятницы на субботу.\n",
    "Данные по центру не кореллируют с общими данными."
   ]
  },
  {
   "cell_type": "markdown",
   "metadata": {},
   "source": [
    "## Общий вывод"
   ]
  },
  {
   "cell_type": "markdown",
   "metadata": {},
   "source": [
    "На первом шаге при работе с данными и знакомстве с датасетом были выявлены  пропуски, а также много аномальных значений, от большинства из которых мы постарались избавиться.\n",
    "\n",
    "На втором этапе для пропущенных значений были восстановлены значения, изменены типы данных, обработаны выбросы.\n",
    "\n",
    "На третьем этапе мы посчитали:\n",
    "\n",
    "•\tцену квадратного метра;\n",
    "\n",
    "•\tдень недели, месяц и год публикации объявления;\n",
    "\n",
    "•\tэтаж квартиры; варианты — первый, последний, другой;\n",
    "\n",
    "•\tсоотношение жилой и общей площади, а также отношение площади кухни к общей.\n",
    "\n",
    "На четвертом этапе мы провели исследовательский анализ данных и выявили следующие связи:\n",
    "В среднем квартира продается около четырех месяцев.\n",
    "Стоимость квартиры  зависит от площади и количества комнат (очевидно, чем больше комнат и площадь, тем дороже квартира), и так же подтвердилась житейская гипотеза, что в центре - всегда дороже.\n",
    "На первом этаже закономерно квартиры стоят дешевле. Что касается Санкт-Петербурга, что жилье на верхних этажах вполне себе в цене, красивые виды никто не отменял.\n",
    "Стоимость квартир с 2014 по 2017 снижалась.\n",
    "В июне квартиры продавались по самой низкой стоимости, связываю это с тем, что спрос меньше,  и их старались снижать. Данные в Санкт - Петербурге немного разнятся с общими.\n",
    "Самые дорогие квартиры находятся в Санкт-Петербурге, а самые дешевые в Выборге.\n",
    "Граница центра - около 7 километров\n",
    "Квартиры в центре сильно отличаются в цене,площадь квартир больше, в основном встречаются двух  и трехкомнатные квартиры. Более высокие потолки - 3 метра, для остальных квартир примерно 2,65. \n",
    "Стоимость квартир в центре от удаленности  не зависит, в отличие от квартир из всей выборки.\n",
    "Стоимость квартир в центре Санкт-Петербурга также упала с 2014 года.\n",
    "Пик стоимости квартир приходится на воскресенье.\n"
   ]
  }
 ],
 "metadata": {
  "ExecuteTimeLog": [
   {
    "duration": 1147,
    "start_time": "2021-12-12T13:39:51.374Z"
   },
   {
    "duration": 93,
    "start_time": "2021-12-12T13:42:04.659Z"
   },
   {
    "duration": 13,
    "start_time": "2021-12-12T14:11:13.350Z"
   },
   {
    "duration": 71,
    "start_time": "2021-12-12T14:14:20.923Z"
   },
   {
    "duration": 68,
    "start_time": "2021-12-12T14:14:27.272Z"
   },
   {
    "duration": 88,
    "start_time": "2021-12-12T14:26:34.949Z"
   },
   {
    "duration": 82,
    "start_time": "2021-12-12T14:26:52.770Z"
   },
   {
    "duration": 113,
    "start_time": "2021-12-12T14:27:00.018Z"
   },
   {
    "duration": 76,
    "start_time": "2021-12-12T14:27:20.006Z"
   },
   {
    "duration": 1172,
    "start_time": "2021-12-12T14:27:29.763Z"
   },
   {
    "duration": 92,
    "start_time": "2021-12-12T14:27:30.937Z"
   },
   {
    "duration": 12,
    "start_time": "2021-12-12T14:27:31.032Z"
   },
   {
    "duration": 80,
    "start_time": "2021-12-12T14:27:31.046Z"
   },
   {
    "duration": 72,
    "start_time": "2021-12-12T14:27:31.128Z"
   },
   {
    "duration": 82,
    "start_time": "2021-12-12T14:27:54.038Z"
   },
   {
    "duration": 76,
    "start_time": "2021-12-12T14:28:10.895Z"
   },
   {
    "duration": 9,
    "start_time": "2021-12-12T14:55:49.949Z"
   },
   {
    "duration": 27,
    "start_time": "2021-12-12T14:57:11.698Z"
   },
   {
    "duration": 24,
    "start_time": "2021-12-12T15:07:17.633Z"
   },
   {
    "duration": 41,
    "start_time": "2021-12-12T15:09:31.208Z"
   },
   {
    "duration": 38,
    "start_time": "2021-12-12T15:10:24.451Z"
   },
   {
    "duration": 344,
    "start_time": "2021-12-12T15:19:44.778Z"
   },
   {
    "duration": 5,
    "start_time": "2021-12-12T15:28:46.424Z"
   },
   {
    "duration": 9,
    "start_time": "2021-12-12T15:28:53.055Z"
   },
   {
    "duration": 87,
    "start_time": "2021-12-12T15:29:16.693Z"
   },
   {
    "duration": 8,
    "start_time": "2021-12-12T15:29:37.920Z"
   },
   {
    "duration": 264,
    "start_time": "2021-12-12T15:29:40.637Z"
   },
   {
    "duration": 6,
    "start_time": "2021-12-12T15:29:52.760Z"
   },
   {
    "duration": 9,
    "start_time": "2021-12-12T15:31:23.727Z"
   },
   {
    "duration": 9,
    "start_time": "2021-12-12T15:31:26.825Z"
   },
   {
    "duration": 5,
    "start_time": "2021-12-12T15:32:16.905Z"
   },
   {
    "duration": 6,
    "start_time": "2021-12-12T15:32:34.293Z"
   },
   {
    "duration": 8,
    "start_time": "2021-12-12T15:32:39.833Z"
   },
   {
    "duration": 5,
    "start_time": "2021-12-12T15:32:52.040Z"
   },
   {
    "duration": 5,
    "start_time": "2021-12-12T15:32:54.367Z"
   },
   {
    "duration": 9,
    "start_time": "2021-12-12T15:33:32.934Z"
   },
   {
    "duration": 5,
    "start_time": "2021-12-12T15:33:34.129Z"
   },
   {
    "duration": 267,
    "start_time": "2021-12-12T15:41:55.226Z"
   },
   {
    "duration": 1158,
    "start_time": "2021-12-12T15:42:21.465Z"
   },
   {
    "duration": 92,
    "start_time": "2021-12-12T15:42:22.625Z"
   },
   {
    "duration": 11,
    "start_time": "2021-12-12T15:42:22.721Z"
   },
   {
    "duration": 88,
    "start_time": "2021-12-12T15:42:22.733Z"
   },
   {
    "duration": 7,
    "start_time": "2021-12-12T15:42:22.823Z"
   },
   {
    "duration": 36,
    "start_time": "2021-12-12T15:42:22.832Z"
   },
   {
    "duration": 39,
    "start_time": "2021-12-12T15:42:22.871Z"
   },
   {
    "duration": 4,
    "start_time": "2021-12-12T15:42:22.912Z"
   },
   {
    "duration": 21,
    "start_time": "2021-12-12T15:42:22.917Z"
   },
   {
    "duration": 11,
    "start_time": "2021-12-12T15:42:22.940Z"
   },
   {
    "duration": 21,
    "start_time": "2021-12-12T15:42:22.953Z"
   },
   {
    "duration": 22,
    "start_time": "2021-12-12T15:42:22.975Z"
   },
   {
    "duration": 7,
    "start_time": "2021-12-12T15:42:22.998Z"
   },
   {
    "duration": 376,
    "start_time": "2021-12-12T15:42:23.007Z"
   },
   {
    "duration": -44,
    "start_time": "2021-12-12T15:42:23.429Z"
   },
   {
    "duration": 241,
    "start_time": "2021-12-12T15:43:19.328Z"
   },
   {
    "duration": 4,
    "start_time": "2021-12-12T15:44:40.746Z"
   },
   {
    "duration": 3,
    "start_time": "2021-12-12T15:44:43.856Z"
   },
   {
    "duration": 12,
    "start_time": "2021-12-12T15:44:45.900Z"
   },
   {
    "duration": 4,
    "start_time": "2021-12-12T15:45:46.227Z"
   },
   {
    "duration": 11,
    "start_time": "2021-12-12T15:45:47.508Z"
   },
   {
    "duration": 6,
    "start_time": "2021-12-12T15:46:28.177Z"
   },
   {
    "duration": 10,
    "start_time": "2021-12-12T15:46:29.701Z"
   },
   {
    "duration": 235,
    "start_time": "2021-12-12T15:48:23.192Z"
   },
   {
    "duration": 7,
    "start_time": "2021-12-12T15:48:53.139Z"
   },
   {
    "duration": 5,
    "start_time": "2021-12-12T15:49:03.421Z"
   },
   {
    "duration": 10,
    "start_time": "2021-12-12T15:49:09.728Z"
   },
   {
    "duration": 13,
    "start_time": "2021-12-12T15:52:40.601Z"
   },
   {
    "duration": 5,
    "start_time": "2021-12-12T15:52:41.616Z"
   },
   {
    "duration": 5,
    "start_time": "2021-12-12T15:52:43.261Z"
   },
   {
    "duration": 6,
    "start_time": "2021-12-12T15:53:38.700Z"
   },
   {
    "duration": 5,
    "start_time": "2021-12-12T16:05:32.432Z"
   },
   {
    "duration": 9,
    "start_time": "2021-12-12T16:09:24.064Z"
   },
   {
    "duration": 9,
    "start_time": "2021-12-12T16:13:07.384Z"
   },
   {
    "duration": 10,
    "start_time": "2021-12-12T16:13:10.748Z"
   },
   {
    "duration": 1208,
    "start_time": "2021-12-12T16:18:43.331Z"
   },
   {
    "duration": 92,
    "start_time": "2021-12-12T16:18:44.541Z"
   },
   {
    "duration": 11,
    "start_time": "2021-12-12T16:18:44.635Z"
   },
   {
    "duration": 76,
    "start_time": "2021-12-12T16:18:44.648Z"
   },
   {
    "duration": 8,
    "start_time": "2021-12-12T16:18:44.726Z"
   },
   {
    "duration": 43,
    "start_time": "2021-12-12T16:18:44.736Z"
   },
   {
    "duration": 39,
    "start_time": "2021-12-12T16:18:44.780Z"
   },
   {
    "duration": 4,
    "start_time": "2021-12-12T16:18:44.822Z"
   },
   {
    "duration": 9,
    "start_time": "2021-12-12T16:18:44.828Z"
   },
   {
    "duration": 27,
    "start_time": "2021-12-12T16:18:44.839Z"
   },
   {
    "duration": 14,
    "start_time": "2021-12-12T16:18:44.867Z"
   },
   {
    "duration": 5,
    "start_time": "2021-12-12T16:18:44.882Z"
   },
   {
    "duration": 5,
    "start_time": "2021-12-12T16:18:44.888Z"
   },
   {
    "duration": 322,
    "start_time": "2021-12-12T16:18:44.895Z"
   },
   {
    "duration": -69,
    "start_time": "2021-12-12T16:18:45.289Z"
   },
   {
    "duration": -77,
    "start_time": "2021-12-12T16:18:45.298Z"
   },
   {
    "duration": -78,
    "start_time": "2021-12-12T16:18:45.300Z"
   },
   {
    "duration": -78,
    "start_time": "2021-12-12T16:18:45.302Z"
   },
   {
    "duration": 248,
    "start_time": "2021-12-12T16:40:24.400Z"
   },
   {
    "duration": 1104,
    "start_time": "2021-12-12T16:40:55.123Z"
   },
   {
    "duration": 95,
    "start_time": "2021-12-12T16:40:56.228Z"
   },
   {
    "duration": 11,
    "start_time": "2021-12-12T16:40:56.325Z"
   },
   {
    "duration": 83,
    "start_time": "2021-12-12T16:40:56.338Z"
   },
   {
    "duration": 8,
    "start_time": "2021-12-12T16:40:56.423Z"
   },
   {
    "duration": 38,
    "start_time": "2021-12-12T16:40:56.433Z"
   },
   {
    "duration": 41,
    "start_time": "2021-12-12T16:40:56.473Z"
   },
   {
    "duration": 5,
    "start_time": "2021-12-12T16:40:56.516Z"
   },
   {
    "duration": 10,
    "start_time": "2021-12-12T16:40:56.523Z"
   },
   {
    "duration": 11,
    "start_time": "2021-12-12T16:40:56.535Z"
   },
   {
    "duration": 28,
    "start_time": "2021-12-12T16:40:56.548Z"
   },
   {
    "duration": 4,
    "start_time": "2021-12-12T16:40:56.578Z"
   },
   {
    "duration": 5,
    "start_time": "2021-12-12T16:40:56.583Z"
   },
   {
    "duration": 325,
    "start_time": "2021-12-12T16:40:56.590Z"
   },
   {
    "duration": -76,
    "start_time": "2021-12-12T16:40:56.993Z"
   },
   {
    "duration": -80,
    "start_time": "2021-12-12T16:40:56.998Z"
   },
   {
    "duration": -81,
    "start_time": "2021-12-12T16:40:57.000Z"
   },
   {
    "duration": -82,
    "start_time": "2021-12-12T16:40:57.002Z"
   },
   {
    "duration": 248,
    "start_time": "2021-12-12T16:43:05.147Z"
   },
   {
    "duration": 404,
    "start_time": "2021-12-12T16:43:45.315Z"
   },
   {
    "duration": 241,
    "start_time": "2021-12-12T16:44:15.987Z"
   },
   {
    "duration": 4,
    "start_time": "2021-12-12T16:44:56.011Z"
   },
   {
    "duration": 4,
    "start_time": "2021-12-12T16:44:59.095Z"
   },
   {
    "duration": 242,
    "start_time": "2021-12-12T16:45:51.232Z"
   },
   {
    "duration": 1167,
    "start_time": "2021-12-12T17:20:10.068Z"
   },
   {
    "duration": 97,
    "start_time": "2021-12-12T17:20:11.237Z"
   },
   {
    "duration": 12,
    "start_time": "2021-12-12T17:20:11.337Z"
   },
   {
    "duration": 77,
    "start_time": "2021-12-12T17:20:11.351Z"
   },
   {
    "duration": 10,
    "start_time": "2021-12-12T17:20:11.430Z"
   },
   {
    "duration": 42,
    "start_time": "2021-12-12T17:20:11.442Z"
   },
   {
    "duration": 42,
    "start_time": "2021-12-12T17:20:11.486Z"
   },
   {
    "duration": 6,
    "start_time": "2021-12-12T17:20:11.531Z"
   },
   {
    "duration": 10,
    "start_time": "2021-12-12T17:20:11.563Z"
   },
   {
    "duration": 14,
    "start_time": "2021-12-12T17:20:11.576Z"
   },
   {
    "duration": 23,
    "start_time": "2021-12-12T17:20:11.591Z"
   },
   {
    "duration": 5,
    "start_time": "2021-12-12T17:20:11.616Z"
   },
   {
    "duration": 5,
    "start_time": "2021-12-12T17:20:11.623Z"
   },
   {
    "duration": 10,
    "start_time": "2021-12-12T17:20:11.629Z"
   },
   {
    "duration": 31,
    "start_time": "2021-12-12T17:20:11.641Z"
   },
   {
    "duration": 8,
    "start_time": "2021-12-12T17:20:11.674Z"
   },
   {
    "duration": 8,
    "start_time": "2021-12-12T17:20:11.684Z"
   },
   {
    "duration": 6,
    "start_time": "2021-12-12T17:23:04.077Z"
   },
   {
    "duration": 5,
    "start_time": "2021-12-12T17:23:05.834Z"
   },
   {
    "duration": 1180,
    "start_time": "2021-12-12T17:23:11.254Z"
   },
   {
    "duration": 98,
    "start_time": "2021-12-12T17:23:12.436Z"
   },
   {
    "duration": 10,
    "start_time": "2021-12-12T17:23:12.536Z"
   },
   {
    "duration": 77,
    "start_time": "2021-12-12T17:23:12.548Z"
   },
   {
    "duration": 8,
    "start_time": "2021-12-12T17:23:12.627Z"
   },
   {
    "duration": 43,
    "start_time": "2021-12-12T17:23:12.637Z"
   },
   {
    "duration": 39,
    "start_time": "2021-12-12T17:23:12.682Z"
   },
   {
    "duration": 5,
    "start_time": "2021-12-12T17:23:12.723Z"
   },
   {
    "duration": 11,
    "start_time": "2021-12-12T17:23:12.730Z"
   },
   {
    "duration": 24,
    "start_time": "2021-12-12T17:23:12.743Z"
   },
   {
    "duration": 17,
    "start_time": "2021-12-12T17:23:12.769Z"
   },
   {
    "duration": 5,
    "start_time": "2021-12-12T17:23:12.787Z"
   },
   {
    "duration": 8,
    "start_time": "2021-12-12T17:23:12.793Z"
   },
   {
    "duration": 403,
    "start_time": "2021-12-12T17:23:12.803Z"
   },
   {
    "duration": -82,
    "start_time": "2021-12-12T17:23:13.289Z"
   },
   {
    "duration": -84,
    "start_time": "2021-12-12T17:23:13.292Z"
   },
   {
    "duration": -92,
    "start_time": "2021-12-12T17:23:13.301Z"
   },
   {
    "duration": -94,
    "start_time": "2021-12-12T17:23:13.304Z"
   },
   {
    "duration": 1530,
    "start_time": "2021-12-12T17:28:37.151Z"
   },
   {
    "duration": 1269,
    "start_time": "2021-12-12T17:31:29.569Z"
   },
   {
    "duration": 276,
    "start_time": "2021-12-12T17:34:18.450Z"
   },
   {
    "duration": 4,
    "start_time": "2021-12-12T17:34:25.947Z"
   },
   {
    "duration": 12,
    "start_time": "2021-12-12T17:34:53.353Z"
   },
   {
    "duration": 10,
    "start_time": "2021-12-12T17:35:04.857Z"
   },
   {
    "duration": 8,
    "start_time": "2021-12-12T17:37:07.488Z"
   },
   {
    "duration": 247,
    "start_time": "2021-12-12T17:37:35.239Z"
   },
   {
    "duration": 8,
    "start_time": "2021-12-12T17:37:56.205Z"
   },
   {
    "duration": 1121,
    "start_time": "2021-12-12T17:38:21.009Z"
   },
   {
    "duration": 97,
    "start_time": "2021-12-12T17:38:22.132Z"
   },
   {
    "duration": 11,
    "start_time": "2021-12-12T17:38:22.231Z"
   },
   {
    "duration": 81,
    "start_time": "2021-12-12T17:38:22.244Z"
   },
   {
    "duration": 8,
    "start_time": "2021-12-12T17:38:22.327Z"
   },
   {
    "duration": 44,
    "start_time": "2021-12-12T17:38:22.336Z"
   },
   {
    "duration": 39,
    "start_time": "2021-12-12T17:38:22.382Z"
   },
   {
    "duration": 5,
    "start_time": "2021-12-12T17:38:22.424Z"
   },
   {
    "duration": 9,
    "start_time": "2021-12-12T17:38:22.430Z"
   },
   {
    "duration": 23,
    "start_time": "2021-12-12T17:38:22.441Z"
   },
   {
    "duration": 16,
    "start_time": "2021-12-12T17:38:22.466Z"
   },
   {
    "duration": 3,
    "start_time": "2021-12-12T17:38:22.484Z"
   },
   {
    "duration": 17,
    "start_time": "2021-12-12T17:38:22.489Z"
   },
   {
    "duration": 14,
    "start_time": "2021-12-12T17:38:22.508Z"
   },
   {
    "duration": 20,
    "start_time": "2021-12-12T17:38:22.523Z"
   },
   {
    "duration": 8,
    "start_time": "2021-12-12T17:38:22.545Z"
   },
   {
    "duration": 8,
    "start_time": "2021-12-12T17:38:22.563Z"
   },
   {
    "duration": 14,
    "start_time": "2021-12-12T17:38:22.573Z"
   },
   {
    "duration": 5,
    "start_time": "2021-12-12T17:39:36.952Z"
   },
   {
    "duration": 9,
    "start_time": "2021-12-12T17:40:52.659Z"
   },
   {
    "duration": 6,
    "start_time": "2021-12-12T17:41:51.499Z"
   },
   {
    "duration": 10,
    "start_time": "2021-12-12T17:41:52.956Z"
   },
   {
    "duration": 10,
    "start_time": "2021-12-12T17:50:33.178Z"
   },
   {
    "duration": 4,
    "start_time": "2021-12-12T17:50:35.738Z"
   },
   {
    "duration": 7560,
    "start_time": "2021-12-12T17:52:18.808Z"
   },
   {
    "duration": -83,
    "start_time": "2021-12-12T17:53:04.319Z"
   },
   {
    "duration": 6679,
    "start_time": "2021-12-12T17:53:04.937Z"
   },
   {
    "duration": 1140,
    "start_time": "2021-12-12T17:53:20.286Z"
   },
   {
    "duration": 95,
    "start_time": "2021-12-12T17:53:21.428Z"
   },
   {
    "duration": 12,
    "start_time": "2021-12-12T17:53:21.526Z"
   },
   {
    "duration": 84,
    "start_time": "2021-12-12T17:53:21.540Z"
   },
   {
    "duration": 10,
    "start_time": "2021-12-12T17:53:21.626Z"
   },
   {
    "duration": 47,
    "start_time": "2021-12-12T17:53:21.638Z"
   },
   {
    "duration": 40,
    "start_time": "2021-12-12T17:53:21.687Z"
   },
   {
    "duration": 5,
    "start_time": "2021-12-12T17:53:21.731Z"
   },
   {
    "duration": 31,
    "start_time": "2021-12-12T17:53:21.738Z"
   },
   {
    "duration": 6,
    "start_time": "2021-12-12T17:53:21.770Z"
   },
   {
    "duration": 16,
    "start_time": "2021-12-12T17:53:21.778Z"
   },
   {
    "duration": 5,
    "start_time": "2021-12-12T17:53:21.796Z"
   },
   {
    "duration": 6,
    "start_time": "2021-12-12T17:53:21.802Z"
   },
   {
    "duration": 332,
    "start_time": "2021-12-12T17:53:21.810Z"
   },
   {
    "duration": -49,
    "start_time": "2021-12-12T17:53:22.193Z"
   },
   {
    "duration": -51,
    "start_time": "2021-12-12T17:53:22.196Z"
   },
   {
    "duration": -60,
    "start_time": "2021-12-12T17:53:22.206Z"
   },
   {
    "duration": -65,
    "start_time": "2021-12-12T17:53:22.212Z"
   },
   {
    "duration": 5,
    "start_time": "2021-12-12T17:54:14.988Z"
   },
   {
    "duration": 5,
    "start_time": "2021-12-12T17:54:17.577Z"
   },
   {
    "duration": 10,
    "start_time": "2021-12-12T17:54:18.613Z"
   },
   {
    "duration": 242,
    "start_time": "2021-12-12T17:54:35.064Z"
   },
   {
    "duration": 9,
    "start_time": "2021-12-12T17:54:42.835Z"
   },
   {
    "duration": 8,
    "start_time": "2021-12-12T17:54:47.607Z"
   },
   {
    "duration": 5,
    "start_time": "2021-12-12T17:54:49.788Z"
   },
   {
    "duration": 1136,
    "start_time": "2021-12-12T17:55:10.696Z"
   },
   {
    "duration": 94,
    "start_time": "2021-12-12T17:55:11.833Z"
   },
   {
    "duration": 10,
    "start_time": "2021-12-12T17:55:11.929Z"
   },
   {
    "duration": 76,
    "start_time": "2021-12-12T17:55:11.941Z"
   },
   {
    "duration": 9,
    "start_time": "2021-12-12T17:55:12.019Z"
   },
   {
    "duration": 44,
    "start_time": "2021-12-12T17:55:12.029Z"
   },
   {
    "duration": 40,
    "start_time": "2021-12-12T17:55:12.074Z"
   },
   {
    "duration": 4,
    "start_time": "2021-12-12T17:55:12.116Z"
   },
   {
    "duration": 21,
    "start_time": "2021-12-12T17:55:12.122Z"
   },
   {
    "duration": 21,
    "start_time": "2021-12-12T17:55:12.145Z"
   },
   {
    "duration": 33,
    "start_time": "2021-12-12T17:55:12.168Z"
   },
   {
    "duration": 18,
    "start_time": "2021-12-12T17:55:12.202Z"
   },
   {
    "duration": 25,
    "start_time": "2021-12-12T17:55:12.222Z"
   },
   {
    "duration": 29,
    "start_time": "2021-12-12T17:55:12.249Z"
   },
   {
    "duration": 18,
    "start_time": "2021-12-12T17:55:12.279Z"
   },
   {
    "duration": 19,
    "start_time": "2021-12-12T17:55:12.299Z"
   },
   {
    "duration": 15,
    "start_time": "2021-12-12T17:55:12.319Z"
   },
   {
    "duration": 22,
    "start_time": "2021-12-12T17:55:12.336Z"
   },
   {
    "duration": 20,
    "start_time": "2021-12-12T17:55:12.359Z"
   },
   {
    "duration": 12,
    "start_time": "2021-12-12T17:57:25.461Z"
   },
   {
    "duration": 3,
    "start_time": "2021-12-12T18:48:27.475Z"
   },
   {
    "duration": 528,
    "start_time": "2021-12-12T18:48:29.455Z"
   },
   {
    "duration": 5,
    "start_time": "2021-12-12T18:48:39.371Z"
   },
   {
    "duration": 349,
    "start_time": "2021-12-12T18:50:14.160Z"
   },
   {
    "duration": 4,
    "start_time": "2021-12-12T18:50:30.578Z"
   },
   {
    "duration": 238,
    "start_time": "2021-12-12T18:51:44.827Z"
   },
   {
    "duration": 4,
    "start_time": "2021-12-12T18:51:55.625Z"
   },
   {
    "duration": 23,
    "start_time": "2021-12-12T18:53:21.748Z"
   },
   {
    "duration": 272,
    "start_time": "2021-12-12T19:04:43.550Z"
   },
   {
    "duration": 1022,
    "start_time": "2021-12-12T19:05:09.582Z"
   },
   {
    "duration": 246,
    "start_time": "2021-12-12T19:08:15.010Z"
   },
   {
    "duration": 1618,
    "start_time": "2021-12-12T19:09:29.030Z"
   },
   {
    "duration": 1106,
    "start_time": "2021-12-12T19:10:48.248Z"
   },
   {
    "duration": 1244,
    "start_time": "2021-12-12T19:11:50.796Z"
   },
   {
    "duration": 1177,
    "start_time": "2021-12-12T19:12:59.168Z"
   },
   {
    "duration": 1352,
    "start_time": "2021-12-12T19:13:55.030Z"
   },
   {
    "duration": 1327,
    "start_time": "2021-12-12T19:17:20.946Z"
   },
   {
    "duration": 1527,
    "start_time": "2021-12-12T19:18:18.701Z"
   },
   {
    "duration": 1354,
    "start_time": "2021-12-12T19:19:55.993Z"
   },
   {
    "duration": 6,
    "start_time": "2021-12-12T19:20:50.728Z"
   },
   {
    "duration": 5,
    "start_time": "2021-12-12T19:21:31.810Z"
   },
   {
    "duration": 5,
    "start_time": "2021-12-12T19:22:22.247Z"
   },
   {
    "duration": 525,
    "start_time": "2021-12-13T15:23:59.663Z"
   },
   {
    "duration": 1553,
    "start_time": "2021-12-13T15:24:12.970Z"
   },
   {
    "duration": 128,
    "start_time": "2021-12-13T15:24:14.526Z"
   },
   {
    "duration": 14,
    "start_time": "2021-12-13T15:24:14.657Z"
   },
   {
    "duration": 127,
    "start_time": "2021-12-13T15:24:14.674Z"
   },
   {
    "duration": 13,
    "start_time": "2021-12-13T15:24:14.804Z"
   },
   {
    "duration": 62,
    "start_time": "2021-12-13T15:24:14.819Z"
   },
   {
    "duration": 63,
    "start_time": "2021-12-13T15:24:14.883Z"
   },
   {
    "duration": 6,
    "start_time": "2021-12-13T15:24:14.961Z"
   },
   {
    "duration": 14,
    "start_time": "2021-12-13T15:24:14.969Z"
   },
   {
    "duration": 7,
    "start_time": "2021-12-13T15:24:14.985Z"
   },
   {
    "duration": 20,
    "start_time": "2021-12-13T15:24:14.994Z"
   },
   {
    "duration": 42,
    "start_time": "2021-12-13T15:24:15.017Z"
   },
   {
    "duration": 8,
    "start_time": "2021-12-13T15:24:15.063Z"
   },
   {
    "duration": 26,
    "start_time": "2021-12-13T15:24:15.074Z"
   },
   {
    "duration": 16,
    "start_time": "2021-12-13T15:24:15.102Z"
   },
   {
    "duration": 5,
    "start_time": "2021-12-13T15:24:15.120Z"
   },
   {
    "duration": 44,
    "start_time": "2021-12-13T15:24:15.128Z"
   },
   {
    "duration": 11,
    "start_time": "2021-12-13T15:24:15.174Z"
   },
   {
    "duration": 22,
    "start_time": "2021-12-13T15:24:15.187Z"
   },
   {
    "duration": 12,
    "start_time": "2021-12-13T15:24:15.212Z"
   },
   {
    "duration": 943,
    "start_time": "2021-12-13T15:24:15.226Z"
   },
   {
    "duration": 5,
    "start_time": "2021-12-13T15:24:16.172Z"
   },
   {
    "duration": 6,
    "start_time": "2021-12-13T15:24:16.184Z"
   },
   {
    "duration": 66,
    "start_time": "2021-12-13T15:24:16.193Z"
   },
   {
    "duration": 2424,
    "start_time": "2021-12-13T15:24:16.262Z"
   },
   {
    "duration": 7,
    "start_time": "2021-12-13T15:24:18.688Z"
   },
   {
    "duration": 8,
    "start_time": "2021-12-13T15:24:18.697Z"
   },
   {
    "duration": 6,
    "start_time": "2021-12-13T15:24:18.707Z"
   },
   {
    "duration": 731,
    "start_time": "2021-12-13T15:24:18.716Z"
   },
   {
    "duration": 995,
    "start_time": "2021-12-13T15:24:45.020Z"
   },
   {
    "duration": 693,
    "start_time": "2021-12-13T15:24:58.548Z"
   },
   {
    "duration": 748,
    "start_time": "2021-12-13T15:25:22.686Z"
   },
   {
    "duration": 702,
    "start_time": "2021-12-13T15:25:53.321Z"
   },
   {
    "duration": 7,
    "start_time": "2021-12-13T15:26:56.381Z"
   },
   {
    "duration": 6,
    "start_time": "2021-12-13T15:29:07.572Z"
   },
   {
    "duration": 235,
    "start_time": "2021-12-13T15:33:00.128Z"
   },
   {
    "duration": 238,
    "start_time": "2021-12-13T15:33:08.354Z"
   },
   {
    "duration": 371,
    "start_time": "2021-12-13T15:33:23.728Z"
   },
   {
    "duration": 301,
    "start_time": "2021-12-13T15:35:49.808Z"
   },
   {
    "duration": 11,
    "start_time": "2021-12-13T15:51:12.597Z"
   },
   {
    "duration": 132,
    "start_time": "2021-12-13T15:54:56.265Z"
   },
   {
    "duration": 13,
    "start_time": "2021-12-13T16:22:49.862Z"
   },
   {
    "duration": 11,
    "start_time": "2021-12-13T16:22:53.966Z"
   },
   {
    "duration": 15,
    "start_time": "2021-12-13T16:23:23.546Z"
   },
   {
    "duration": 10,
    "start_time": "2021-12-13T16:23:33.798Z"
   },
   {
    "duration": 658,
    "start_time": "2021-12-13T16:24:35.356Z"
   },
   {
    "duration": 8,
    "start_time": "2021-12-13T16:25:28.925Z"
   },
   {
    "duration": 8,
    "start_time": "2021-12-13T16:26:04.924Z"
   },
   {
    "duration": 7,
    "start_time": "2021-12-13T16:26:18.043Z"
   },
   {
    "duration": 8,
    "start_time": "2021-12-13T16:29:27.486Z"
   },
   {
    "duration": 523,
    "start_time": "2021-12-13T16:40:02.474Z"
   },
   {
    "duration": 472,
    "start_time": "2021-12-13T16:41:05.079Z"
   },
   {
    "duration": 1716,
    "start_time": "2021-12-13T16:41:25.503Z"
   },
   {
    "duration": 130,
    "start_time": "2021-12-13T16:41:27.222Z"
   },
   {
    "duration": 21,
    "start_time": "2021-12-13T16:41:27.355Z"
   },
   {
    "duration": 174,
    "start_time": "2021-12-13T16:41:27.379Z"
   },
   {
    "duration": 16,
    "start_time": "2021-12-13T16:41:27.560Z"
   },
   {
    "duration": 42,
    "start_time": "2021-12-13T16:41:27.579Z"
   },
   {
    "duration": 94,
    "start_time": "2021-12-13T16:41:27.624Z"
   },
   {
    "duration": 6,
    "start_time": "2021-12-13T16:41:27.723Z"
   },
   {
    "duration": 35,
    "start_time": "2021-12-13T16:41:27.732Z"
   },
   {
    "duration": 7,
    "start_time": "2021-12-13T16:41:27.769Z"
   },
   {
    "duration": 20,
    "start_time": "2021-12-13T16:41:27.778Z"
   },
   {
    "duration": 6,
    "start_time": "2021-12-13T16:41:27.800Z"
   },
   {
    "duration": 6,
    "start_time": "2021-12-13T16:41:27.809Z"
   },
   {
    "duration": 50,
    "start_time": "2021-12-13T16:41:27.817Z"
   },
   {
    "duration": 12,
    "start_time": "2021-12-13T16:41:27.870Z"
   },
   {
    "duration": 4,
    "start_time": "2021-12-13T16:41:27.885Z"
   },
   {
    "duration": 17,
    "start_time": "2021-12-13T16:41:27.892Z"
   },
   {
    "duration": 30,
    "start_time": "2021-12-13T16:41:27.912Z"
   },
   {
    "duration": 29,
    "start_time": "2021-12-13T16:41:27.945Z"
   },
   {
    "duration": 4,
    "start_time": "2021-12-13T16:41:27.977Z"
   },
   {
    "duration": 985,
    "start_time": "2021-12-13T16:41:27.983Z"
   },
   {
    "duration": 6,
    "start_time": "2021-12-13T16:41:28.970Z"
   },
   {
    "duration": 5,
    "start_time": "2021-12-13T16:41:28.981Z"
   },
   {
    "duration": 37,
    "start_time": "2021-12-13T16:41:28.989Z"
   },
   {
    "duration": 2449,
    "start_time": "2021-12-13T16:41:29.029Z"
   },
   {
    "duration": 6,
    "start_time": "2021-12-13T16:41:31.480Z"
   },
   {
    "duration": 12,
    "start_time": "2021-12-13T16:41:31.489Z"
   },
   {
    "duration": 8,
    "start_time": "2021-12-13T16:41:31.504Z"
   },
   {
    "duration": 630,
    "start_time": "2021-12-13T16:41:31.514Z"
   },
   {
    "duration": 14,
    "start_time": "2021-12-13T16:41:32.146Z"
   },
   {
    "duration": 5,
    "start_time": "2021-12-13T16:41:32.162Z"
   },
   {
    "duration": 279,
    "start_time": "2021-12-13T16:41:32.170Z"
   },
   {
    "duration": 15,
    "start_time": "2021-12-13T16:41:32.459Z"
   },
   {
    "duration": 666,
    "start_time": "2021-12-13T16:41:32.477Z"
   },
   {
    "duration": 14,
    "start_time": "2021-12-13T16:41:33.146Z"
   },
   {
    "duration": 6,
    "start_time": "2021-12-13T16:41:33.163Z"
   },
   {
    "duration": 9,
    "start_time": "2021-12-13T16:41:33.172Z"
   },
   {
    "duration": 576,
    "start_time": "2021-12-13T16:41:33.183Z"
   },
   {
    "duration": -186,
    "start_time": "2021-12-13T16:47:48.066Z"
   },
   {
    "duration": 1566,
    "start_time": "2021-12-13T16:48:21.664Z"
   },
   {
    "duration": 128,
    "start_time": "2021-12-13T16:48:23.233Z"
   },
   {
    "duration": 15,
    "start_time": "2021-12-13T16:48:23.364Z"
   },
   {
    "duration": 132,
    "start_time": "2021-12-13T16:48:23.381Z"
   },
   {
    "duration": 11,
    "start_time": "2021-12-13T16:48:23.516Z"
   },
   {
    "duration": 61,
    "start_time": "2021-12-13T16:48:23.529Z"
   },
   {
    "duration": 75,
    "start_time": "2021-12-13T16:48:23.592Z"
   },
   {
    "duration": 5,
    "start_time": "2021-12-13T16:48:23.670Z"
   },
   {
    "duration": 12,
    "start_time": "2021-12-13T16:48:23.680Z"
   },
   {
    "duration": 8,
    "start_time": "2021-12-13T16:48:23.695Z"
   },
   {
    "duration": 65,
    "start_time": "2021-12-13T16:48:23.706Z"
   },
   {
    "duration": 7,
    "start_time": "2021-12-13T16:48:23.774Z"
   },
   {
    "duration": 9,
    "start_time": "2021-12-13T16:48:23.783Z"
   },
   {
    "duration": 9,
    "start_time": "2021-12-13T16:48:23.794Z"
   },
   {
    "duration": 58,
    "start_time": "2021-12-13T16:48:23.805Z"
   },
   {
    "duration": 5,
    "start_time": "2021-12-13T16:48:23.865Z"
   },
   {
    "duration": 18,
    "start_time": "2021-12-13T16:48:23.872Z"
   },
   {
    "duration": 6,
    "start_time": "2021-12-13T16:48:23.893Z"
   },
   {
    "duration": 17,
    "start_time": "2021-12-13T16:48:23.901Z"
   },
   {
    "duration": 40,
    "start_time": "2021-12-13T16:48:23.920Z"
   },
   {
    "duration": 980,
    "start_time": "2021-12-13T16:48:23.962Z"
   },
   {
    "duration": 5,
    "start_time": "2021-12-13T16:48:24.944Z"
   },
   {
    "duration": 5,
    "start_time": "2021-12-13T16:48:24.960Z"
   },
   {
    "duration": 39,
    "start_time": "2021-12-13T16:48:24.967Z"
   },
   {
    "duration": 2483,
    "start_time": "2021-12-13T16:48:25.009Z"
   },
   {
    "duration": 6,
    "start_time": "2021-12-13T16:48:27.495Z"
   },
   {
    "duration": 6,
    "start_time": "2021-12-13T16:48:27.506Z"
   },
   {
    "duration": 6,
    "start_time": "2021-12-13T16:48:27.514Z"
   },
   {
    "duration": 642,
    "start_time": "2021-12-13T16:48:27.523Z"
   },
   {
    "duration": 6,
    "start_time": "2021-12-13T16:48:28.167Z"
   },
   {
    "duration": 6,
    "start_time": "2021-12-13T16:48:28.176Z"
   },
   {
    "duration": 293,
    "start_time": "2021-12-13T16:48:28.185Z"
   },
   {
    "duration": 14,
    "start_time": "2021-12-13T16:48:28.480Z"
   },
   {
    "duration": 683,
    "start_time": "2021-12-13T16:48:28.496Z"
   },
   {
    "duration": 9,
    "start_time": "2021-12-13T16:48:29.182Z"
   },
   {
    "duration": 8,
    "start_time": "2021-12-13T16:48:29.193Z"
   },
   {
    "duration": 6,
    "start_time": "2021-12-13T16:48:29.203Z"
   },
   {
    "duration": 9673,
    "start_time": "2021-12-13T16:48:29.212Z"
   },
   {
    "duration": 343,
    "start_time": "2021-12-13T16:48:55.738Z"
   },
   {
    "duration": 363,
    "start_time": "2021-12-13T16:49:49.737Z"
   },
   {
    "duration": 329,
    "start_time": "2021-12-13T16:49:58.294Z"
   },
   {
    "duration": 346,
    "start_time": "2021-12-13T16:50:06.517Z"
   },
   {
    "duration": 415,
    "start_time": "2021-12-13T16:50:40.275Z"
   },
   {
    "duration": 883,
    "start_time": "2021-12-13T17:02:26.060Z"
   },
   {
    "duration": 343,
    "start_time": "2021-12-13T17:02:36.081Z"
   },
   {
    "duration": -100,
    "start_time": "2021-12-13T17:03:42.525Z"
   },
   {
    "duration": 338,
    "start_time": "2021-12-13T17:03:58.956Z"
   },
   {
    "duration": 330,
    "start_time": "2021-12-13T17:04:20.281Z"
   },
   {
    "duration": 332,
    "start_time": "2021-12-13T17:04:32.395Z"
   },
   {
    "duration": 340,
    "start_time": "2021-12-13T17:04:36.203Z"
   },
   {
    "duration": 376,
    "start_time": "2021-12-13T17:11:03.435Z"
   },
   {
    "duration": -236,
    "start_time": "2021-12-13T17:11:28.649Z"
   },
   {
    "duration": 1436,
    "start_time": "2021-12-13T17:11:37.684Z"
   },
   {
    "duration": 126,
    "start_time": "2021-12-13T17:11:39.123Z"
   },
   {
    "duration": 20,
    "start_time": "2021-12-13T17:11:39.253Z"
   },
   {
    "duration": 119,
    "start_time": "2021-12-13T17:11:39.276Z"
   },
   {
    "duration": 11,
    "start_time": "2021-12-13T17:11:39.397Z"
   },
   {
    "duration": 60,
    "start_time": "2021-12-13T17:11:39.411Z"
   },
   {
    "duration": 60,
    "start_time": "2021-12-13T17:11:39.473Z"
   },
   {
    "duration": 25,
    "start_time": "2021-12-13T17:11:39.536Z"
   },
   {
    "duration": 11,
    "start_time": "2021-12-13T17:11:39.567Z"
   },
   {
    "duration": 8,
    "start_time": "2021-12-13T17:11:39.581Z"
   },
   {
    "duration": 20,
    "start_time": "2021-12-13T17:11:39.591Z"
   },
   {
    "duration": 6,
    "start_time": "2021-12-13T17:11:39.613Z"
   },
   {
    "duration": 46,
    "start_time": "2021-12-13T17:11:39.621Z"
   },
   {
    "duration": 11,
    "start_time": "2021-12-13T17:11:39.669Z"
   },
   {
    "duration": 14,
    "start_time": "2021-12-13T17:11:39.683Z"
   },
   {
    "duration": 5,
    "start_time": "2021-12-13T17:11:39.700Z"
   },
   {
    "duration": 59,
    "start_time": "2021-12-13T17:11:39.707Z"
   },
   {
    "duration": 11,
    "start_time": "2021-12-13T17:11:39.769Z"
   },
   {
    "duration": 17,
    "start_time": "2021-12-13T17:11:39.783Z"
   },
   {
    "duration": 4,
    "start_time": "2021-12-13T17:11:39.802Z"
   },
   {
    "duration": 954,
    "start_time": "2021-12-13T17:11:39.808Z"
   },
   {
    "duration": 5,
    "start_time": "2021-12-13T17:11:40.764Z"
   },
   {
    "duration": 8,
    "start_time": "2021-12-13T17:11:40.771Z"
   },
   {
    "duration": 39,
    "start_time": "2021-12-13T17:11:40.782Z"
   },
   {
    "duration": 2529,
    "start_time": "2021-12-13T17:11:40.823Z"
   },
   {
    "duration": 8,
    "start_time": "2021-12-13T17:11:43.359Z"
   },
   {
    "duration": 6,
    "start_time": "2021-12-13T17:11:43.374Z"
   },
   {
    "duration": 6,
    "start_time": "2021-12-13T17:11:43.382Z"
   },
   {
    "duration": 639,
    "start_time": "2021-12-13T17:11:43.390Z"
   },
   {
    "duration": 6,
    "start_time": "2021-12-13T17:11:44.032Z"
   },
   {
    "duration": 5,
    "start_time": "2021-12-13T17:11:44.061Z"
   },
   {
    "duration": 274,
    "start_time": "2021-12-13T17:11:44.068Z"
   },
   {
    "duration": 20,
    "start_time": "2021-12-13T17:11:44.345Z"
   },
   {
    "duration": 665,
    "start_time": "2021-12-13T17:11:44.367Z"
   },
   {
    "duration": 8,
    "start_time": "2021-12-13T17:11:45.035Z"
   },
   {
    "duration": 6,
    "start_time": "2021-12-13T17:11:45.060Z"
   },
   {
    "duration": 11,
    "start_time": "2021-12-13T17:11:45.069Z"
   },
   {
    "duration": 355,
    "start_time": "2021-12-13T17:11:45.083Z"
   },
   {
    "duration": 10368,
    "start_time": "2021-12-13T17:11:45.440Z"
   },
   {
    "duration": 304,
    "start_time": "2021-12-13T17:12:52.624Z"
   },
   {
    "duration": 299,
    "start_time": "2021-12-13T17:14:59.737Z"
   },
   {
    "duration": 684,
    "start_time": "2021-12-13T17:16:35.403Z"
   },
   {
    "duration": 44,
    "start_time": "2021-12-13T17:18:42.826Z"
   },
   {
    "duration": 35,
    "start_time": "2021-12-13T17:18:45.657Z"
   },
   {
    "duration": 302,
    "start_time": "2021-12-13T17:19:01.541Z"
   },
   {
    "duration": 494,
    "start_time": "2021-12-13T17:19:15.818Z"
   },
   {
    "duration": 831,
    "start_time": "2021-12-13T17:23:52.709Z"
   },
   {
    "duration": 299,
    "start_time": "2021-12-13T17:24:26.169Z"
   },
   {
    "duration": 328,
    "start_time": "2021-12-13T17:24:42.550Z"
   },
   {
    "duration": 707,
    "start_time": "2021-12-13T17:26:10.932Z"
   },
   {
    "duration": 602,
    "start_time": "2021-12-13T17:26:22.061Z"
   },
   {
    "duration": 1472,
    "start_time": "2021-12-13T17:26:36.566Z"
   },
   {
    "duration": 138,
    "start_time": "2021-12-13T17:26:38.041Z"
   },
   {
    "duration": 16,
    "start_time": "2021-12-13T17:26:38.183Z"
   },
   {
    "duration": 129,
    "start_time": "2021-12-13T17:26:38.202Z"
   },
   {
    "duration": 26,
    "start_time": "2021-12-13T17:26:38.333Z"
   },
   {
    "duration": 37,
    "start_time": "2021-12-13T17:26:38.362Z"
   },
   {
    "duration": 84,
    "start_time": "2021-12-13T17:26:38.402Z"
   },
   {
    "duration": 8,
    "start_time": "2021-12-13T17:26:38.490Z"
   },
   {
    "duration": 18,
    "start_time": "2021-12-13T17:26:38.501Z"
   },
   {
    "duration": 37,
    "start_time": "2021-12-13T17:26:38.522Z"
   },
   {
    "duration": 21,
    "start_time": "2021-12-13T17:26:38.561Z"
   },
   {
    "duration": 7,
    "start_time": "2021-12-13T17:26:38.584Z"
   },
   {
    "duration": 7,
    "start_time": "2021-12-13T17:26:38.593Z"
   },
   {
    "duration": 11,
    "start_time": "2021-12-13T17:26:38.603Z"
   },
   {
    "duration": 59,
    "start_time": "2021-12-13T17:26:38.617Z"
   },
   {
    "duration": 6,
    "start_time": "2021-12-13T17:26:38.679Z"
   },
   {
    "duration": 15,
    "start_time": "2021-12-13T17:26:38.688Z"
   },
   {
    "duration": 14,
    "start_time": "2021-12-13T17:26:38.705Z"
   },
   {
    "duration": 49,
    "start_time": "2021-12-13T17:26:38.721Z"
   },
   {
    "duration": 4,
    "start_time": "2021-12-13T17:26:38.773Z"
   },
   {
    "duration": 1241,
    "start_time": "2021-12-13T17:26:38.780Z"
   },
   {
    "duration": 7,
    "start_time": "2021-12-13T17:26:40.024Z"
   },
   {
    "duration": 24,
    "start_time": "2021-12-13T17:26:40.039Z"
   },
   {
    "duration": 39,
    "start_time": "2021-12-13T17:26:40.067Z"
   },
   {
    "duration": 2553,
    "start_time": "2021-12-13T17:26:40.108Z"
   },
   {
    "duration": 7,
    "start_time": "2021-12-13T17:26:42.664Z"
   },
   {
    "duration": 6,
    "start_time": "2021-12-13T17:26:42.674Z"
   },
   {
    "duration": 11,
    "start_time": "2021-12-13T17:26:42.682Z"
   },
   {
    "duration": 632,
    "start_time": "2021-12-13T17:26:42.695Z"
   },
   {
    "duration": 7,
    "start_time": "2021-12-13T17:26:43.330Z"
   },
   {
    "duration": 21,
    "start_time": "2021-12-13T17:26:43.339Z"
   },
   {
    "duration": 307,
    "start_time": "2021-12-13T17:26:43.363Z"
   },
   {
    "duration": 14,
    "start_time": "2021-12-13T17:26:43.673Z"
   },
   {
    "duration": 691,
    "start_time": "2021-12-13T17:26:43.689Z"
   },
   {
    "duration": 10,
    "start_time": "2021-12-13T17:26:44.383Z"
   },
   {
    "duration": 7,
    "start_time": "2021-12-13T17:26:44.397Z"
   },
   {
    "duration": 7,
    "start_time": "2021-12-13T17:26:44.407Z"
   },
   {
    "duration": 385,
    "start_time": "2021-12-13T17:26:44.417Z"
   },
   {
    "duration": 613,
    "start_time": "2021-12-13T17:26:44.805Z"
   },
   {
    "duration": 444,
    "start_time": "2021-12-13T17:27:02.563Z"
   },
   {
    "duration": 331,
    "start_time": "2021-12-13T17:27:21.953Z"
   },
   {
    "duration": 528,
    "start_time": "2021-12-13T17:31:05.042Z"
   },
   {
    "duration": 14,
    "start_time": "2021-12-13T17:31:13.777Z"
   },
   {
    "duration": 342,
    "start_time": "2021-12-13T17:31:15.317Z"
   },
   {
    "duration": 427,
    "start_time": "2021-12-13T19:28:24.959Z"
   },
   {
    "duration": -126,
    "start_time": "2021-12-13T19:29:14.660Z"
   },
   {
    "duration": -208,
    "start_time": "2021-12-13T19:29:24.830Z"
   },
   {
    "duration": 371,
    "start_time": "2021-12-13T19:29:31.604Z"
   },
   {
    "duration": 11668,
    "start_time": "2021-12-13T19:38:24.720Z"
   },
   {
    "duration": 15,
    "start_time": "2021-12-13T19:39:16.682Z"
   },
   {
    "duration": 1489,
    "start_time": "2021-12-13T19:39:37.520Z"
   },
   {
    "duration": 128,
    "start_time": "2021-12-13T19:39:39.012Z"
   },
   {
    "duration": 24,
    "start_time": "2021-12-13T19:39:39.143Z"
   },
   {
    "duration": 118,
    "start_time": "2021-12-13T19:39:39.170Z"
   },
   {
    "duration": 12,
    "start_time": "2021-12-13T19:39:39.290Z"
   },
   {
    "duration": 57,
    "start_time": "2021-12-13T19:39:39.304Z"
   },
   {
    "duration": 61,
    "start_time": "2021-12-13T19:39:39.363Z"
   },
   {
    "duration": 5,
    "start_time": "2021-12-13T19:39:39.427Z"
   },
   {
    "duration": 35,
    "start_time": "2021-12-13T19:39:39.435Z"
   },
   {
    "duration": 8,
    "start_time": "2021-12-13T19:39:39.473Z"
   },
   {
    "duration": 19,
    "start_time": "2021-12-13T19:39:39.483Z"
   },
   {
    "duration": 6,
    "start_time": "2021-12-13T19:39:39.504Z"
   },
   {
    "duration": 10,
    "start_time": "2021-12-13T19:39:39.512Z"
   },
   {
    "duration": 41,
    "start_time": "2021-12-13T19:39:39.524Z"
   },
   {
    "duration": 13,
    "start_time": "2021-12-13T19:39:39.568Z"
   },
   {
    "duration": 4,
    "start_time": "2021-12-13T19:39:39.583Z"
   },
   {
    "duration": 12,
    "start_time": "2021-12-13T19:39:39.589Z"
   },
   {
    "duration": 11,
    "start_time": "2021-12-13T19:39:39.603Z"
   },
   {
    "duration": 49,
    "start_time": "2021-12-13T19:39:39.616Z"
   },
   {
    "duration": 4,
    "start_time": "2021-12-13T19:39:39.667Z"
   },
   {
    "duration": 969,
    "start_time": "2021-12-13T19:39:39.673Z"
   },
   {
    "duration": 14,
    "start_time": "2021-12-13T19:39:40.645Z"
   },
   {
    "duration": 5,
    "start_time": "2021-12-13T19:39:40.664Z"
   },
   {
    "duration": 40,
    "start_time": "2021-12-13T19:39:40.672Z"
   },
   {
    "duration": 2428,
    "start_time": "2021-12-13T19:39:40.715Z"
   },
   {
    "duration": 14,
    "start_time": "2021-12-13T19:39:43.145Z"
   },
   {
    "duration": 5,
    "start_time": "2021-12-13T19:39:43.161Z"
   },
   {
    "duration": 6,
    "start_time": "2021-12-13T19:39:43.169Z"
   },
   {
    "duration": 611,
    "start_time": "2021-12-13T19:39:43.177Z"
   },
   {
    "duration": 8,
    "start_time": "2021-12-13T19:39:43.790Z"
   },
   {
    "duration": 5,
    "start_time": "2021-12-13T19:39:43.800Z"
   },
   {
    "duration": 298,
    "start_time": "2021-12-13T19:39:43.808Z"
   },
   {
    "duration": 15,
    "start_time": "2021-12-13T19:39:44.108Z"
   },
   {
    "duration": 673,
    "start_time": "2021-12-13T19:39:44.125Z"
   },
   {
    "duration": 9,
    "start_time": "2021-12-13T19:39:44.800Z"
   },
   {
    "duration": 6,
    "start_time": "2021-12-13T19:39:44.811Z"
   },
   {
    "duration": 39,
    "start_time": "2021-12-13T19:39:44.820Z"
   },
   {
    "duration": 368,
    "start_time": "2021-12-13T19:39:44.862Z"
   },
   {
    "duration": 333,
    "start_time": "2021-12-13T19:39:45.232Z"
   },
   {
    "duration": 12,
    "start_time": "2021-12-13T19:39:45.568Z"
   },
   {
    "duration": 262,
    "start_time": "2021-12-13T19:39:45.582Z"
   },
   {
    "duration": 24,
    "start_time": "2021-12-13T19:39:45.846Z"
   },
   {
    "duration": 10747,
    "start_time": "2021-12-13T19:39:45.872Z"
   },
   {
    "duration": 67,
    "start_time": "2021-12-13T19:40:36.508Z"
   },
   {
    "duration": 68,
    "start_time": "2021-12-13T19:40:39.599Z"
   },
   {
    "duration": 17,
    "start_time": "2021-12-13T19:42:43.351Z"
   },
   {
    "duration": 1459,
    "start_time": "2021-12-13T19:43:07.667Z"
   },
   {
    "duration": 134,
    "start_time": "2021-12-13T19:43:09.129Z"
   },
   {
    "duration": 15,
    "start_time": "2021-12-13T19:43:09.266Z"
   },
   {
    "duration": 128,
    "start_time": "2021-12-13T19:43:09.284Z"
   },
   {
    "duration": 11,
    "start_time": "2021-12-13T19:43:09.415Z"
   },
   {
    "duration": 61,
    "start_time": "2021-12-13T19:43:09.429Z"
   },
   {
    "duration": 70,
    "start_time": "2021-12-13T19:43:09.492Z"
   },
   {
    "duration": 6,
    "start_time": "2021-12-13T19:43:09.566Z"
   },
   {
    "duration": 15,
    "start_time": "2021-12-13T19:43:09.575Z"
   },
   {
    "duration": 7,
    "start_time": "2021-12-13T19:43:09.592Z"
   },
   {
    "duration": 19,
    "start_time": "2021-12-13T19:43:09.601Z"
   },
   {
    "duration": 7,
    "start_time": "2021-12-13T19:43:09.659Z"
   },
   {
    "duration": 11,
    "start_time": "2021-12-13T19:43:09.669Z"
   },
   {
    "duration": 9,
    "start_time": "2021-12-13T19:43:09.682Z"
   },
   {
    "duration": 16,
    "start_time": "2021-12-13T19:43:09.693Z"
   },
   {
    "duration": 5,
    "start_time": "2021-12-13T19:43:09.711Z"
   },
   {
    "duration": 47,
    "start_time": "2021-12-13T19:43:09.718Z"
   },
   {
    "duration": 11,
    "start_time": "2021-12-13T19:43:09.767Z"
   },
   {
    "duration": 17,
    "start_time": "2021-12-13T19:43:09.781Z"
   },
   {
    "duration": 6,
    "start_time": "2021-12-13T19:43:09.800Z"
   },
   {
    "duration": 965,
    "start_time": "2021-12-13T19:43:09.808Z"
   },
   {
    "duration": 5,
    "start_time": "2021-12-13T19:43:10.776Z"
   },
   {
    "duration": 6,
    "start_time": "2021-12-13T19:43:10.785Z"
   },
   {
    "duration": 41,
    "start_time": "2021-12-13T19:43:10.793Z"
   },
   {
    "duration": 2613,
    "start_time": "2021-12-13T19:43:10.859Z"
   },
   {
    "duration": 6,
    "start_time": "2021-12-13T19:43:13.474Z"
   },
   {
    "duration": 6,
    "start_time": "2021-12-13T19:43:13.482Z"
   },
   {
    "duration": 6,
    "start_time": "2021-12-13T19:43:13.490Z"
   },
   {
    "duration": 621,
    "start_time": "2021-12-13T19:43:13.499Z"
   },
   {
    "duration": 6,
    "start_time": "2021-12-13T19:43:14.123Z"
   },
   {
    "duration": 29,
    "start_time": "2021-12-13T19:43:14.131Z"
   },
   {
    "duration": 279,
    "start_time": "2021-12-13T19:43:14.162Z"
   },
   {
    "duration": 21,
    "start_time": "2021-12-13T19:43:14.444Z"
   },
   {
    "duration": 665,
    "start_time": "2021-12-13T19:43:14.467Z"
   },
   {
    "duration": 23,
    "start_time": "2021-12-13T19:43:15.135Z"
   },
   {
    "duration": 6,
    "start_time": "2021-12-13T19:43:15.161Z"
   },
   {
    "duration": 6,
    "start_time": "2021-12-13T19:43:15.169Z"
   },
   {
    "duration": 356,
    "start_time": "2021-12-13T19:43:15.178Z"
   },
   {
    "duration": 316,
    "start_time": "2021-12-13T19:43:15.536Z"
   },
   {
    "duration": 23,
    "start_time": "2021-12-13T19:43:15.855Z"
   },
   {
    "duration": 269,
    "start_time": "2021-12-13T19:43:15.880Z"
   },
   {
    "duration": 15,
    "start_time": "2021-12-13T19:43:16.159Z"
   },
   {
    "duration": 14493,
    "start_time": "2021-12-13T19:43:16.176Z"
   },
   {
    "duration": 9246,
    "start_time": "2021-12-13T19:44:10.377Z"
   },
   {
    "duration": 9579,
    "start_time": "2021-12-13T19:44:53.682Z"
   },
   {
    "duration": 16,
    "start_time": "2021-12-13T19:45:37.993Z"
   },
   {
    "duration": 1705,
    "start_time": "2021-12-13T19:45:55.238Z"
   },
   {
    "duration": 135,
    "start_time": "2021-12-13T19:45:56.946Z"
   },
   {
    "duration": 15,
    "start_time": "2021-12-13T19:45:57.084Z"
   },
   {
    "duration": 137,
    "start_time": "2021-12-13T19:45:57.102Z"
   },
   {
    "duration": 32,
    "start_time": "2021-12-13T19:45:57.242Z"
   },
   {
    "duration": 38,
    "start_time": "2021-12-13T19:45:57.277Z"
   },
   {
    "duration": 92,
    "start_time": "2021-12-13T19:45:57.318Z"
   },
   {
    "duration": 6,
    "start_time": "2021-12-13T19:45:57.412Z"
   },
   {
    "duration": 10,
    "start_time": "2021-12-13T19:45:57.422Z"
   },
   {
    "duration": 28,
    "start_time": "2021-12-13T19:45:57.435Z"
   },
   {
    "duration": 20,
    "start_time": "2021-12-13T19:45:57.466Z"
   },
   {
    "duration": 6,
    "start_time": "2021-12-13T19:45:57.489Z"
   },
   {
    "duration": 8,
    "start_time": "2021-12-13T19:45:57.499Z"
   },
   {
    "duration": 51,
    "start_time": "2021-12-13T19:45:57.510Z"
   },
   {
    "duration": 16,
    "start_time": "2021-12-13T19:45:57.564Z"
   },
   {
    "duration": 5,
    "start_time": "2021-12-13T19:45:57.582Z"
   },
   {
    "duration": 14,
    "start_time": "2021-12-13T19:45:57.590Z"
   },
   {
    "duration": 53,
    "start_time": "2021-12-13T19:45:57.606Z"
   },
   {
    "duration": 16,
    "start_time": "2021-12-13T19:45:57.662Z"
   },
   {
    "duration": 4,
    "start_time": "2021-12-13T19:45:57.680Z"
   },
   {
    "duration": 1030,
    "start_time": "2021-12-13T19:45:57.686Z"
   },
   {
    "duration": 5,
    "start_time": "2021-12-13T19:45:58.718Z"
   },
   {
    "duration": 8,
    "start_time": "2021-12-13T19:45:58.726Z"
   },
   {
    "duration": 55,
    "start_time": "2021-12-13T19:45:58.736Z"
   },
   {
    "duration": 2733,
    "start_time": "2021-12-13T19:45:58.793Z"
   },
   {
    "duration": 8,
    "start_time": "2021-12-13T19:46:01.529Z"
   },
   {
    "duration": 8,
    "start_time": "2021-12-13T19:46:01.564Z"
   },
   {
    "duration": 6,
    "start_time": "2021-12-13T19:46:01.575Z"
   },
   {
    "duration": 709,
    "start_time": "2021-12-13T19:46:01.583Z"
   },
   {
    "duration": 7,
    "start_time": "2021-12-13T19:46:02.295Z"
   },
   {
    "duration": 11,
    "start_time": "2021-12-13T19:46:02.305Z"
   },
   {
    "duration": 326,
    "start_time": "2021-12-13T19:46:02.320Z"
   },
   {
    "duration": 20,
    "start_time": "2021-12-13T19:46:02.648Z"
   },
   {
    "duration": 671,
    "start_time": "2021-12-13T19:46:02.670Z"
   },
   {
    "duration": 19,
    "start_time": "2021-12-13T19:46:03.344Z"
   },
   {
    "duration": 9,
    "start_time": "2021-12-13T19:46:03.366Z"
   },
   {
    "duration": 6,
    "start_time": "2021-12-13T19:46:03.378Z"
   },
   {
    "duration": 400,
    "start_time": "2021-12-13T19:46:03.388Z"
   },
   {
    "duration": 322,
    "start_time": "2021-12-13T19:46:03.790Z"
   },
   {
    "duration": 12,
    "start_time": "2021-12-13T19:46:04.115Z"
   },
   {
    "duration": 289,
    "start_time": "2021-12-13T19:46:04.129Z"
   },
   {
    "duration": 16,
    "start_time": "2021-12-13T19:46:04.421Z"
   },
   {
    "duration": 9272,
    "start_time": "2021-12-13T19:46:04.440Z"
   },
   {
    "duration": 731,
    "start_time": "2021-12-13T19:47:29.822Z"
   },
   {
    "duration": 184,
    "start_time": "2021-12-13T19:54:15.961Z"
   },
   {
    "duration": 371,
    "start_time": "2021-12-13T19:56:44.459Z"
   },
   {
    "duration": 247,
    "start_time": "2021-12-13T19:57:21.303Z"
   },
   {
    "duration": 410,
    "start_time": "2021-12-13T20:00:34.864Z"
   },
   {
    "duration": 365,
    "start_time": "2021-12-13T20:00:46.654Z"
   },
   {
    "duration": 275,
    "start_time": "2021-12-13T20:01:34.951Z"
   },
   {
    "duration": 289,
    "start_time": "2021-12-13T20:04:18.770Z"
   },
   {
    "duration": 251,
    "start_time": "2021-12-13T20:12:25.205Z"
   },
   {
    "duration": 387,
    "start_time": "2021-12-13T20:17:01.259Z"
   },
   {
    "duration": 824,
    "start_time": "2021-12-13T20:17:19.251Z"
   },
   {
    "duration": 330,
    "start_time": "2021-12-13T20:17:35.065Z"
   },
   {
    "duration": 381,
    "start_time": "2021-12-13T20:19:40.459Z"
   },
   {
    "duration": 343,
    "start_time": "2021-12-13T20:19:50.351Z"
   },
   {
    "duration": 384,
    "start_time": "2021-12-13T20:22:18.925Z"
   },
   {
    "duration": 298,
    "start_time": "2021-12-13T20:22:27.714Z"
   },
   {
    "duration": 312,
    "start_time": "2021-12-13T20:22:47.176Z"
   },
   {
    "duration": 294,
    "start_time": "2021-12-14T16:46:14.072Z"
   },
   {
    "duration": 232,
    "start_time": "2021-12-14T16:46:33.113Z"
   },
   {
    "duration": 1000,
    "start_time": "2021-12-14T16:46:46.817Z"
   },
   {
    "duration": 86,
    "start_time": "2021-12-14T16:46:47.819Z"
   },
   {
    "duration": 9,
    "start_time": "2021-12-14T16:46:47.906Z"
   },
   {
    "duration": 71,
    "start_time": "2021-12-14T16:46:47.917Z"
   },
   {
    "duration": 7,
    "start_time": "2021-12-14T16:46:47.990Z"
   },
   {
    "duration": 23,
    "start_time": "2021-12-14T16:46:47.999Z"
   },
   {
    "duration": 35,
    "start_time": "2021-12-14T16:46:48.023Z"
   },
   {
    "duration": 28,
    "start_time": "2021-12-14T16:46:48.060Z"
   },
   {
    "duration": 8,
    "start_time": "2021-12-14T16:46:48.090Z"
   },
   {
    "duration": 7,
    "start_time": "2021-12-14T16:46:48.099Z"
   },
   {
    "duration": 18,
    "start_time": "2021-12-14T16:46:48.107Z"
   },
   {
    "duration": 4,
    "start_time": "2021-12-14T16:46:48.126Z"
   },
   {
    "duration": 5,
    "start_time": "2021-12-14T16:46:48.131Z"
   },
   {
    "duration": 18,
    "start_time": "2021-12-14T16:46:48.138Z"
   },
   {
    "duration": 11,
    "start_time": "2021-12-14T16:46:48.157Z"
   },
   {
    "duration": 19,
    "start_time": "2021-12-14T16:46:48.169Z"
   },
   {
    "duration": 7,
    "start_time": "2021-12-14T16:46:48.189Z"
   },
   {
    "duration": 6,
    "start_time": "2021-12-14T16:46:48.198Z"
   },
   {
    "duration": 11,
    "start_time": "2021-12-14T16:46:48.206Z"
   },
   {
    "duration": 3,
    "start_time": "2021-12-14T16:46:48.218Z"
   },
   {
    "duration": 541,
    "start_time": "2021-12-14T16:46:48.222Z"
   },
   {
    "duration": 3,
    "start_time": "2021-12-14T16:46:48.765Z"
   },
   {
    "duration": 20,
    "start_time": "2021-12-14T16:46:48.771Z"
   },
   {
    "duration": 42,
    "start_time": "2021-12-14T16:46:48.793Z"
   },
   {
    "duration": 1324,
    "start_time": "2021-12-14T16:46:48.837Z"
   },
   {
    "duration": 4,
    "start_time": "2021-12-14T16:46:50.162Z"
   },
   {
    "duration": 11,
    "start_time": "2021-12-14T16:46:50.167Z"
   },
   {
    "duration": 8,
    "start_time": "2021-12-14T16:46:50.180Z"
   },
   {
    "duration": 328,
    "start_time": "2021-12-14T16:46:50.190Z"
   },
   {
    "duration": 4,
    "start_time": "2021-12-14T16:46:50.519Z"
   },
   {
    "duration": 6,
    "start_time": "2021-12-14T16:46:50.525Z"
   },
   {
    "duration": 163,
    "start_time": "2021-12-14T16:46:50.532Z"
   },
   {
    "duration": 10,
    "start_time": "2021-12-14T16:46:50.696Z"
   },
   {
    "duration": 365,
    "start_time": "2021-12-14T16:46:50.708Z"
   },
   {
    "duration": 14,
    "start_time": "2021-12-14T16:46:51.075Z"
   },
   {
    "duration": 5,
    "start_time": "2021-12-14T16:46:51.090Z"
   },
   {
    "duration": 8,
    "start_time": "2021-12-14T16:46:51.096Z"
   },
   {
    "duration": 200,
    "start_time": "2021-12-14T16:46:51.106Z"
   },
   {
    "duration": 176,
    "start_time": "2021-12-14T16:46:51.307Z"
   },
   {
    "duration": 8,
    "start_time": "2021-12-14T16:46:51.484Z"
   },
   {
    "duration": 150,
    "start_time": "2021-12-14T16:46:51.493Z"
   },
   {
    "duration": 462,
    "start_time": "2021-12-14T16:46:51.644Z"
   },
   {
    "duration": 267,
    "start_time": "2021-12-14T16:46:52.108Z"
   },
   {
    "duration": 186,
    "start_time": "2021-12-14T16:46:52.377Z"
   },
   {
    "duration": 177,
    "start_time": "2021-12-14T16:46:52.565Z"
   },
   {
    "duration": 7,
    "start_time": "2021-12-14T16:46:52.743Z"
   },
   {
    "duration": 334,
    "start_time": "2021-12-14T16:47:42.112Z"
   },
   {
    "duration": 11,
    "start_time": "2021-12-14T16:48:16.403Z"
   },
   {
    "duration": 290,
    "start_time": "2021-12-14T16:48:49.156Z"
   },
   {
    "duration": 16,
    "start_time": "2021-12-14T16:48:58.871Z"
   },
   {
    "duration": 247,
    "start_time": "2021-12-14T16:50:21.537Z"
   },
   {
    "duration": 286,
    "start_time": "2021-12-14T16:50:30.369Z"
   },
   {
    "duration": 290,
    "start_time": "2021-12-14T16:50:35.109Z"
   },
   {
    "duration": 245,
    "start_time": "2021-12-14T16:50:43.552Z"
   },
   {
    "duration": 232,
    "start_time": "2021-12-14T16:51:32.718Z"
   },
   {
    "duration": 234,
    "start_time": "2021-12-14T16:51:52.598Z"
   },
   {
    "duration": 24,
    "start_time": "2021-12-14T16:52:05.519Z"
   },
   {
    "duration": 23,
    "start_time": "2021-12-14T16:53:25.289Z"
   },
   {
    "duration": 7,
    "start_time": "2021-12-14T16:53:34.940Z"
   },
   {
    "duration": 23,
    "start_time": "2021-12-14T16:53:51.006Z"
   },
   {
    "duration": 8,
    "start_time": "2021-12-14T16:54:20.010Z"
   },
   {
    "duration": 5,
    "start_time": "2021-12-14T16:58:21.472Z"
   },
   {
    "duration": 276,
    "start_time": "2021-12-14T16:59:26.336Z"
   },
   {
    "duration": 205,
    "start_time": "2021-12-14T16:59:52.430Z"
   },
   {
    "duration": 81,
    "start_time": "2021-12-14T17:03:08.482Z"
   },
   {
    "duration": 380,
    "start_time": "2021-12-14T17:11:54.750Z"
   },
   {
    "duration": 8,
    "start_time": "2021-12-14T17:12:01.545Z"
   },
   {
    "duration": 1367,
    "start_time": "2021-12-14T17:12:03.858Z"
   },
   {
    "duration": 5,
    "start_time": "2021-12-14T17:13:46.021Z"
   },
   {
    "duration": 5,
    "start_time": "2021-12-14T17:13:49.276Z"
   },
   {
    "duration": 4,
    "start_time": "2021-12-14T17:13:51.895Z"
   },
   {
    "duration": 322,
    "start_time": "2021-12-14T17:21:47.756Z"
   },
   {
    "duration": 254,
    "start_time": "2021-12-14T17:24:19.491Z"
   },
   {
    "duration": 7,
    "start_time": "2021-12-14T17:24:27.405Z"
   },
   {
    "duration": 132,
    "start_time": "2021-12-14T17:24:28.342Z"
   },
   {
    "duration": 9,
    "start_time": "2021-12-14T17:28:25.024Z"
   },
   {
    "duration": 6,
    "start_time": "2021-12-14T17:31:26.240Z"
   },
   {
    "duration": 175,
    "start_time": "2021-12-14T17:32:00.727Z"
   },
   {
    "duration": 173,
    "start_time": "2021-12-14T17:33:08.729Z"
   },
   {
    "duration": 173,
    "start_time": "2021-12-14T17:33:34.935Z"
   },
   {
    "duration": 186,
    "start_time": "2021-12-14T17:33:44.285Z"
   },
   {
    "duration": 176,
    "start_time": "2021-12-14T17:33:57.307Z"
   },
   {
    "duration": 7,
    "start_time": "2021-12-14T17:35:45.364Z"
   },
   {
    "duration": 259,
    "start_time": "2021-12-14T17:35:46.434Z"
   },
   {
    "duration": 195,
    "start_time": "2021-12-14T17:36:17.834Z"
   },
   {
    "duration": 228,
    "start_time": "2021-12-14T17:38:04.246Z"
   },
   {
    "duration": 8,
    "start_time": "2021-12-14T17:38:06.665Z"
   },
   {
    "duration": 160,
    "start_time": "2021-12-14T17:38:08.552Z"
   },
   {
    "duration": 205,
    "start_time": "2021-12-14T17:38:21.744Z"
   },
   {
    "duration": 231,
    "start_time": "2021-12-14T17:42:24.775Z"
   },
   {
    "duration": 240,
    "start_time": "2021-12-14T17:42:47.594Z"
   },
   {
    "duration": 720,
    "start_time": "2021-12-14T17:42:59.939Z"
   },
   {
    "duration": 517,
    "start_time": "2021-12-14T17:43:06.425Z"
   },
   {
    "duration": 262,
    "start_time": "2021-12-14T17:43:31.599Z"
   },
   {
    "duration": 7,
    "start_time": "2021-12-14T17:43:37.357Z"
   },
   {
    "duration": 190,
    "start_time": "2021-12-14T17:43:38.514Z"
   },
   {
    "duration": 267,
    "start_time": "2021-12-14T17:43:41.346Z"
   },
   {
    "duration": 346,
    "start_time": "2021-12-14T17:44:02.105Z"
   },
   {
    "duration": 255,
    "start_time": "2021-12-14T17:44:27.962Z"
   },
   {
    "duration": 9,
    "start_time": "2021-12-14T17:44:39.217Z"
   },
   {
    "duration": 256,
    "start_time": "2021-12-14T17:45:21.332Z"
   },
   {
    "duration": 1146,
    "start_time": "2021-12-14T18:05:18.889Z"
   },
   {
    "duration": 88,
    "start_time": "2021-12-14T18:05:20.037Z"
   },
   {
    "duration": 9,
    "start_time": "2021-12-14T18:05:20.127Z"
   },
   {
    "duration": 78,
    "start_time": "2021-12-14T18:05:20.139Z"
   },
   {
    "duration": 9,
    "start_time": "2021-12-14T18:05:20.218Z"
   },
   {
    "duration": 23,
    "start_time": "2021-12-14T18:05:20.228Z"
   },
   {
    "duration": 54,
    "start_time": "2021-12-14T18:05:20.252Z"
   },
   {
    "duration": 4,
    "start_time": "2021-12-14T18:05:20.309Z"
   },
   {
    "duration": 8,
    "start_time": "2021-12-14T18:05:20.315Z"
   },
   {
    "duration": 7,
    "start_time": "2021-12-14T18:05:20.324Z"
   },
   {
    "duration": 14,
    "start_time": "2021-12-14T18:05:20.333Z"
   },
   {
    "duration": 4,
    "start_time": "2021-12-14T18:05:20.349Z"
   },
   {
    "duration": 6,
    "start_time": "2021-12-14T18:05:20.354Z"
   },
   {
    "duration": 31,
    "start_time": "2021-12-14T18:05:20.361Z"
   },
   {
    "duration": 10,
    "start_time": "2021-12-14T18:05:20.393Z"
   },
   {
    "duration": 4,
    "start_time": "2021-12-14T18:05:20.405Z"
   },
   {
    "duration": 11,
    "start_time": "2021-12-14T18:05:20.410Z"
   },
   {
    "duration": 7,
    "start_time": "2021-12-14T18:05:20.422Z"
   },
   {
    "duration": 11,
    "start_time": "2021-12-14T18:05:20.430Z"
   },
   {
    "duration": 3,
    "start_time": "2021-12-14T18:05:20.442Z"
   },
   {
    "duration": 555,
    "start_time": "2021-12-14T18:05:20.446Z"
   },
   {
    "duration": 3,
    "start_time": "2021-12-14T18:05:21.003Z"
   },
   {
    "duration": 10,
    "start_time": "2021-12-14T18:05:21.010Z"
   },
   {
    "duration": 23,
    "start_time": "2021-12-14T18:05:21.023Z"
   },
   {
    "duration": 1391,
    "start_time": "2021-12-14T18:05:21.048Z"
   },
   {
    "duration": 5,
    "start_time": "2021-12-14T18:05:22.440Z"
   },
   {
    "duration": 8,
    "start_time": "2021-12-14T18:05:22.446Z"
   },
   {
    "duration": 8,
    "start_time": "2021-12-14T18:05:22.455Z"
   },
   {
    "duration": 360,
    "start_time": "2021-12-14T18:05:22.465Z"
   },
   {
    "duration": 5,
    "start_time": "2021-12-14T18:05:22.827Z"
   },
   {
    "duration": 8,
    "start_time": "2021-12-14T18:05:22.833Z"
   },
   {
    "duration": 169,
    "start_time": "2021-12-14T18:05:22.843Z"
   },
   {
    "duration": 10,
    "start_time": "2021-12-14T18:05:23.013Z"
   },
   {
    "duration": 375,
    "start_time": "2021-12-14T18:05:23.024Z"
   },
   {
    "duration": 6,
    "start_time": "2021-12-14T18:05:23.401Z"
   },
   {
    "duration": 6,
    "start_time": "2021-12-14T18:05:23.409Z"
   },
   {
    "duration": 4,
    "start_time": "2021-12-14T18:05:23.417Z"
   },
   {
    "duration": 214,
    "start_time": "2021-12-14T18:05:23.422Z"
   },
   {
    "duration": 186,
    "start_time": "2021-12-14T18:05:23.638Z"
   },
   {
    "duration": 8,
    "start_time": "2021-12-14T18:05:23.826Z"
   },
   {
    "duration": 154,
    "start_time": "2021-12-14T18:05:23.836Z"
   },
   {
    "duration": 487,
    "start_time": "2021-12-14T18:05:23.992Z"
   },
   {
    "duration": 321,
    "start_time": "2021-12-14T18:05:24.481Z"
   },
   {
    "duration": 192,
    "start_time": "2021-12-14T18:05:24.804Z"
   },
   {
    "duration": 187,
    "start_time": "2021-12-14T18:05:24.998Z"
   },
   {
    "duration": 22,
    "start_time": "2021-12-14T18:05:25.187Z"
   },
   {
    "duration": 6,
    "start_time": "2021-12-14T18:05:25.210Z"
   },
   {
    "duration": 9,
    "start_time": "2021-12-14T18:05:25.217Z"
   },
   {
    "duration": 5,
    "start_time": "2021-12-14T18:05:25.227Z"
   },
   {
    "duration": 243,
    "start_time": "2021-12-14T18:05:25.234Z"
   },
   {
    "duration": 16,
    "start_time": "2021-12-14T18:05:25.479Z"
   },
   {
    "duration": 1596,
    "start_time": "2021-12-14T18:05:25.496Z"
   },
   {
    "duration": 5,
    "start_time": "2021-12-14T18:05:27.094Z"
   },
   {
    "duration": 20,
    "start_time": "2021-12-14T18:05:27.101Z"
   },
   {
    "duration": 11,
    "start_time": "2021-12-14T18:05:27.123Z"
   },
   {
    "duration": 307,
    "start_time": "2021-12-14T18:05:27.136Z"
   },
   {
    "duration": 9,
    "start_time": "2021-12-14T18:05:27.445Z"
   },
   {
    "duration": 334,
    "start_time": "2021-12-14T18:05:27.456Z"
   },
   {
    "duration": 11,
    "start_time": "2021-12-14T18:05:27.792Z"
   },
   {
    "duration": 16,
    "start_time": "2021-12-14T18:05:27.805Z"
   },
   {
    "duration": 190,
    "start_time": "2021-12-14T18:05:27.823Z"
   },
   {
    "duration": 7,
    "start_time": "2021-12-14T18:05:28.015Z"
   },
   {
    "duration": 206,
    "start_time": "2021-12-14T18:05:28.023Z"
   },
   {
    "duration": 6,
    "start_time": "2021-12-14T18:05:28.230Z"
   },
   {
    "duration": 198,
    "start_time": "2021-12-14T18:05:28.238Z"
   },
   {
    "duration": 1656,
    "start_time": "2021-12-14T18:11:16.961Z"
   },
   {
    "duration": 89,
    "start_time": "2021-12-14T18:11:18.619Z"
   },
   {
    "duration": 9,
    "start_time": "2021-12-14T18:11:18.710Z"
   },
   {
    "duration": 76,
    "start_time": "2021-12-14T18:11:18.721Z"
   },
   {
    "duration": 7,
    "start_time": "2021-12-14T18:11:18.798Z"
   },
   {
    "duration": 22,
    "start_time": "2021-12-14T18:11:18.807Z"
   },
   {
    "duration": 4,
    "start_time": "2021-12-14T18:11:18.831Z"
   },
   {
    "duration": 8,
    "start_time": "2021-12-14T18:11:18.837Z"
   },
   {
    "duration": 4,
    "start_time": "2021-12-14T18:11:18.847Z"
   },
   {
    "duration": 43,
    "start_time": "2021-12-14T18:11:18.853Z"
   },
   {
    "duration": 5,
    "start_time": "2021-12-14T18:11:18.898Z"
   },
   {
    "duration": 5,
    "start_time": "2021-12-14T18:11:18.905Z"
   },
   {
    "duration": 7,
    "start_time": "2021-12-14T18:11:18.911Z"
   },
   {
    "duration": 11,
    "start_time": "2021-12-14T18:11:18.920Z"
   },
   {
    "duration": 4,
    "start_time": "2021-12-14T18:11:18.932Z"
   },
   {
    "duration": 8,
    "start_time": "2021-12-14T18:11:18.938Z"
   },
   {
    "duration": 42,
    "start_time": "2021-12-14T18:11:18.948Z"
   },
   {
    "duration": 12,
    "start_time": "2021-12-14T18:11:18.992Z"
   },
   {
    "duration": 3,
    "start_time": "2021-12-14T18:11:19.006Z"
   },
   {
    "duration": 598,
    "start_time": "2021-12-14T18:11:19.011Z"
   },
   {
    "duration": 4,
    "start_time": "2021-12-14T18:11:19.611Z"
   },
   {
    "duration": 6,
    "start_time": "2021-12-14T18:11:19.617Z"
   },
   {
    "duration": 24,
    "start_time": "2021-12-14T18:11:19.626Z"
   },
   {
    "duration": 1398,
    "start_time": "2021-12-14T18:11:19.652Z"
   },
   {
    "duration": 5,
    "start_time": "2021-12-14T18:11:21.052Z"
   },
   {
    "duration": 6,
    "start_time": "2021-12-14T18:11:21.058Z"
   },
   {
    "duration": 26,
    "start_time": "2021-12-14T18:11:21.065Z"
   },
   {
    "duration": 354,
    "start_time": "2021-12-14T18:11:21.093Z"
   },
   {
    "duration": 5,
    "start_time": "2021-12-14T18:11:21.448Z"
   },
   {
    "duration": 3,
    "start_time": "2021-12-14T18:11:21.455Z"
   },
   {
    "duration": 173,
    "start_time": "2021-12-14T18:11:21.460Z"
   },
   {
    "duration": 9,
    "start_time": "2021-12-14T18:11:21.635Z"
   },
   {
    "duration": 383,
    "start_time": "2021-12-14T18:11:21.646Z"
   },
   {
    "duration": 5,
    "start_time": "2021-12-14T18:11:22.031Z"
   },
   {
    "duration": 18,
    "start_time": "2021-12-14T18:11:22.038Z"
   },
   {
    "duration": 19,
    "start_time": "2021-12-14T18:11:22.058Z"
   },
   {
    "duration": 264,
    "start_time": "2021-12-14T18:11:22.078Z"
   },
   {
    "duration": 185,
    "start_time": "2021-12-14T18:11:22.344Z"
   },
   {
    "duration": 7,
    "start_time": "2021-12-14T18:11:22.531Z"
   },
   {
    "duration": 155,
    "start_time": "2021-12-14T18:11:22.540Z"
   },
   {
    "duration": 468,
    "start_time": "2021-12-14T18:11:22.696Z"
   },
   {
    "duration": 271,
    "start_time": "2021-12-14T18:11:23.166Z"
   },
   {
    "duration": 191,
    "start_time": "2021-12-14T18:11:23.438Z"
   },
   {
    "duration": 192,
    "start_time": "2021-12-14T18:11:23.630Z"
   },
   {
    "duration": 23,
    "start_time": "2021-12-14T18:11:23.824Z"
   },
   {
    "duration": 6,
    "start_time": "2021-12-14T18:11:23.849Z"
   },
   {
    "duration": 31,
    "start_time": "2021-12-14T18:11:23.857Z"
   },
   {
    "duration": 4,
    "start_time": "2021-12-14T18:11:23.889Z"
   },
   {
    "duration": 219,
    "start_time": "2021-12-14T18:11:23.895Z"
   },
   {
    "duration": 8,
    "start_time": "2021-12-14T18:11:24.116Z"
   },
   {
    "duration": 1409,
    "start_time": "2021-12-14T18:11:24.125Z"
   },
   {
    "duration": 5,
    "start_time": "2021-12-14T18:11:25.535Z"
   },
   {
    "duration": 7,
    "start_time": "2021-12-14T18:11:25.541Z"
   },
   {
    "duration": 4,
    "start_time": "2021-12-14T18:11:25.550Z"
   },
   {
    "duration": 234,
    "start_time": "2021-12-14T18:11:25.556Z"
   },
   {
    "duration": 8,
    "start_time": "2021-12-14T18:11:25.792Z"
   },
   {
    "duration": 225,
    "start_time": "2021-12-14T18:11:25.801Z"
   },
   {
    "duration": 12,
    "start_time": "2021-12-14T18:11:26.028Z"
   },
   {
    "duration": 8,
    "start_time": "2021-12-14T18:11:26.041Z"
   },
   {
    "duration": 306,
    "start_time": "2021-12-14T18:11:26.051Z"
   },
   {
    "duration": 10,
    "start_time": "2021-12-14T18:11:26.359Z"
   },
   {
    "duration": 312,
    "start_time": "2021-12-14T18:11:26.371Z"
   },
   {
    "duration": 9,
    "start_time": "2021-12-14T18:11:26.688Z"
   },
   {
    "duration": 284,
    "start_time": "2021-12-14T18:11:26.699Z"
   },
   {
    "duration": 1075,
    "start_time": "2021-12-14T18:12:58.103Z"
   },
   {
    "duration": 85,
    "start_time": "2021-12-14T18:12:59.180Z"
   },
   {
    "duration": 9,
    "start_time": "2021-12-14T18:12:59.268Z"
   },
   {
    "duration": 63,
    "start_time": "2021-12-14T18:12:59.288Z"
   },
   {
    "duration": 8,
    "start_time": "2021-12-14T18:12:59.352Z"
   },
   {
    "duration": 43,
    "start_time": "2021-12-14T18:12:59.361Z"
   },
   {
    "duration": 4,
    "start_time": "2021-12-14T18:12:59.406Z"
   },
   {
    "duration": 9,
    "start_time": "2021-12-14T18:12:59.412Z"
   },
   {
    "duration": 9,
    "start_time": "2021-12-14T18:12:59.422Z"
   },
   {
    "duration": 13,
    "start_time": "2021-12-14T18:12:59.433Z"
   },
   {
    "duration": 4,
    "start_time": "2021-12-14T18:12:59.448Z"
   },
   {
    "duration": 38,
    "start_time": "2021-12-14T18:12:59.453Z"
   },
   {
    "duration": 7,
    "start_time": "2021-12-14T18:12:59.492Z"
   },
   {
    "duration": 11,
    "start_time": "2021-12-14T18:12:59.501Z"
   },
   {
    "duration": 4,
    "start_time": "2021-12-14T18:12:59.514Z"
   },
   {
    "duration": 9,
    "start_time": "2021-12-14T18:12:59.519Z"
   },
   {
    "duration": 7,
    "start_time": "2021-12-14T18:12:59.529Z"
   },
   {
    "duration": 11,
    "start_time": "2021-12-14T18:12:59.538Z"
   },
   {
    "duration": 3,
    "start_time": "2021-12-14T18:12:59.550Z"
   },
   {
    "duration": 538,
    "start_time": "2021-12-14T18:12:59.588Z"
   },
   {
    "duration": 4,
    "start_time": "2021-12-14T18:13:00.128Z"
   },
   {
    "duration": 4,
    "start_time": "2021-12-14T18:13:00.136Z"
   },
   {
    "duration": 35,
    "start_time": "2021-12-14T18:13:00.142Z"
   },
   {
    "duration": 1514,
    "start_time": "2021-12-14T18:13:00.178Z"
   },
   {
    "duration": 6,
    "start_time": "2021-12-14T18:13:01.693Z"
   },
   {
    "duration": 6,
    "start_time": "2021-12-14T18:13:01.700Z"
   },
   {
    "duration": 5,
    "start_time": "2021-12-14T18:13:01.708Z"
   },
   {
    "duration": 391,
    "start_time": "2021-12-14T18:13:01.715Z"
   },
   {
    "duration": 5,
    "start_time": "2021-12-14T18:13:02.108Z"
   },
   {
    "duration": 9,
    "start_time": "2021-12-14T18:13:02.115Z"
   },
   {
    "duration": 231,
    "start_time": "2021-12-14T18:13:02.125Z"
   },
   {
    "duration": 11,
    "start_time": "2021-12-14T18:13:02.358Z"
   },
   {
    "duration": 481,
    "start_time": "2021-12-14T18:13:02.371Z"
   },
   {
    "duration": 7,
    "start_time": "2021-12-14T18:13:02.853Z"
   },
   {
    "duration": 4,
    "start_time": "2021-12-14T18:13:02.862Z"
   },
   {
    "duration": 22,
    "start_time": "2021-12-14T18:13:02.868Z"
   },
   {
    "duration": 250,
    "start_time": "2021-12-14T18:13:02.892Z"
   },
   {
    "duration": 202,
    "start_time": "2021-12-14T18:13:03.144Z"
   },
   {
    "duration": 9,
    "start_time": "2021-12-14T18:13:03.348Z"
   },
   {
    "duration": 198,
    "start_time": "2021-12-14T18:13:03.359Z"
   },
   {
    "duration": 491,
    "start_time": "2021-12-14T18:13:03.558Z"
   },
   {
    "duration": 316,
    "start_time": "2021-12-14T18:13:04.051Z"
   },
   {
    "duration": 309,
    "start_time": "2021-12-14T18:13:04.369Z"
   },
   {
    "duration": 244,
    "start_time": "2021-12-14T18:13:04.687Z"
   },
   {
    "duration": 25,
    "start_time": "2021-12-14T18:13:04.934Z"
   },
   {
    "duration": 7,
    "start_time": "2021-12-14T18:13:04.960Z"
   },
   {
    "duration": 21,
    "start_time": "2021-12-14T18:13:04.968Z"
   },
   {
    "duration": 5,
    "start_time": "2021-12-14T18:13:04.991Z"
   },
   {
    "duration": 298,
    "start_time": "2021-12-14T18:13:04.997Z"
   },
   {
    "duration": 10,
    "start_time": "2021-12-14T18:13:05.297Z"
   },
   {
    "duration": 1688,
    "start_time": "2021-12-14T18:13:05.309Z"
   },
   {
    "duration": 5,
    "start_time": "2021-12-14T18:13:06.999Z"
   },
   {
    "duration": 6,
    "start_time": "2021-12-14T18:13:07.006Z"
   },
   {
    "duration": 9,
    "start_time": "2021-12-14T18:13:07.014Z"
   },
   {
    "duration": 254,
    "start_time": "2021-12-14T18:13:07.025Z"
   },
   {
    "duration": 11,
    "start_time": "2021-12-14T18:13:07.280Z"
   },
   {
    "duration": 239,
    "start_time": "2021-12-14T18:13:07.293Z"
   },
   {
    "duration": 11,
    "start_time": "2021-12-14T18:13:07.535Z"
   },
   {
    "duration": 7,
    "start_time": "2021-12-14T18:13:07.548Z"
   },
   {
    "duration": 218,
    "start_time": "2021-12-14T18:13:07.557Z"
   },
   {
    "duration": 16,
    "start_time": "2021-12-14T18:13:07.777Z"
   },
   {
    "duration": 255,
    "start_time": "2021-12-14T18:13:07.795Z"
   },
   {
    "duration": 8,
    "start_time": "2021-12-14T18:13:08.052Z"
   },
   {
    "duration": 219,
    "start_time": "2021-12-14T18:13:08.061Z"
   },
   {
    "duration": 1121,
    "start_time": "2021-12-14T18:21:13.675Z"
   },
   {
    "duration": 86,
    "start_time": "2021-12-14T18:21:14.798Z"
   },
   {
    "duration": 10,
    "start_time": "2021-12-14T18:21:14.888Z"
   },
   {
    "duration": 65,
    "start_time": "2021-12-14T18:21:14.900Z"
   },
   {
    "duration": 23,
    "start_time": "2021-12-14T18:21:14.966Z"
   },
   {
    "duration": 26,
    "start_time": "2021-12-14T18:21:14.990Z"
   },
   {
    "duration": 4,
    "start_time": "2021-12-14T18:21:15.019Z"
   },
   {
    "duration": 10,
    "start_time": "2021-12-14T18:21:15.026Z"
   },
   {
    "duration": 5,
    "start_time": "2021-12-14T18:21:15.038Z"
   },
   {
    "duration": 16,
    "start_time": "2021-12-14T18:21:15.045Z"
   },
   {
    "duration": 27,
    "start_time": "2021-12-14T18:21:15.063Z"
   },
   {
    "duration": 6,
    "start_time": "2021-12-14T18:21:15.091Z"
   },
   {
    "duration": 6,
    "start_time": "2021-12-14T18:21:15.099Z"
   },
   {
    "duration": 11,
    "start_time": "2021-12-14T18:21:15.106Z"
   },
   {
    "duration": 4,
    "start_time": "2021-12-14T18:21:15.118Z"
   },
   {
    "duration": 8,
    "start_time": "2021-12-14T18:21:15.124Z"
   },
   {
    "duration": 7,
    "start_time": "2021-12-14T18:21:15.134Z"
   },
   {
    "duration": 48,
    "start_time": "2021-12-14T18:21:15.142Z"
   },
   {
    "duration": 3,
    "start_time": "2021-12-14T18:21:15.192Z"
   },
   {
    "duration": 523,
    "start_time": "2021-12-14T18:21:15.197Z"
   },
   {
    "duration": 3,
    "start_time": "2021-12-14T18:21:15.722Z"
   },
   {
    "duration": 4,
    "start_time": "2021-12-14T18:21:15.730Z"
   },
   {
    "duration": 22,
    "start_time": "2021-12-14T18:21:15.736Z"
   },
   {
    "duration": 1412,
    "start_time": "2021-12-14T18:21:15.760Z"
   },
   {
    "duration": 13,
    "start_time": "2021-12-14T18:21:17.174Z"
   },
   {
    "duration": 4,
    "start_time": "2021-12-14T18:21:17.189Z"
   },
   {
    "duration": 4,
    "start_time": "2021-12-14T18:21:17.195Z"
   },
   {
    "duration": 556,
    "start_time": "2021-12-14T18:21:17.200Z"
   },
   {
    "duration": 5,
    "start_time": "2021-12-14T18:21:17.758Z"
   },
   {
    "duration": 5,
    "start_time": "2021-12-14T18:21:17.764Z"
   },
   {
    "duration": 167,
    "start_time": "2021-12-14T18:21:17.771Z"
   },
   {
    "duration": 9,
    "start_time": "2021-12-14T18:21:17.939Z"
   },
   {
    "duration": 366,
    "start_time": "2021-12-14T18:21:17.949Z"
   },
   {
    "duration": 5,
    "start_time": "2021-12-14T18:21:18.317Z"
   },
   {
    "duration": 5,
    "start_time": "2021-12-14T18:21:18.324Z"
   },
   {
    "duration": 3,
    "start_time": "2021-12-14T18:21:18.331Z"
   },
   {
    "duration": 226,
    "start_time": "2021-12-14T18:21:18.336Z"
   },
   {
    "duration": 186,
    "start_time": "2021-12-14T18:21:18.564Z"
   },
   {
    "duration": 8,
    "start_time": "2021-12-14T18:21:18.752Z"
   },
   {
    "duration": 151,
    "start_time": "2021-12-14T18:21:18.761Z"
   },
   {
    "duration": 475,
    "start_time": "2021-12-14T18:21:18.915Z"
   },
   {
    "duration": 286,
    "start_time": "2021-12-14T18:21:19.392Z"
   },
   {
    "duration": 192,
    "start_time": "2021-12-14T18:21:19.680Z"
   },
   {
    "duration": 264,
    "start_time": "2021-12-14T18:21:19.874Z"
   },
   {
    "duration": 32,
    "start_time": "2021-12-14T18:21:20.140Z"
   },
   {
    "duration": 19,
    "start_time": "2021-12-14T18:21:20.174Z"
   },
   {
    "duration": 9,
    "start_time": "2021-12-14T18:21:20.195Z"
   },
   {
    "duration": 4,
    "start_time": "2021-12-14T18:21:20.206Z"
   },
   {
    "duration": 341,
    "start_time": "2021-12-14T18:21:20.212Z"
   },
   {
    "duration": 10,
    "start_time": "2021-12-14T18:21:20.555Z"
   },
   {
    "duration": 2450,
    "start_time": "2021-12-14T18:21:20.567Z"
   },
   {
    "duration": 6,
    "start_time": "2021-12-14T18:21:23.019Z"
   },
   {
    "duration": 5,
    "start_time": "2021-12-14T18:21:23.027Z"
   },
   {
    "duration": 5,
    "start_time": "2021-12-14T18:21:23.034Z"
   },
   {
    "duration": 379,
    "start_time": "2021-12-14T18:21:23.041Z"
   },
   {
    "duration": 8,
    "start_time": "2021-12-14T18:21:23.422Z"
   },
   {
    "duration": 315,
    "start_time": "2021-12-14T18:21:23.432Z"
   },
   {
    "duration": 10,
    "start_time": "2021-12-14T18:21:23.749Z"
   },
   {
    "duration": 7,
    "start_time": "2021-12-14T18:21:23.761Z"
   },
   {
    "duration": 301,
    "start_time": "2021-12-14T18:21:23.770Z"
   },
   {
    "duration": 18,
    "start_time": "2021-12-14T18:21:24.073Z"
   },
   {
    "duration": 306,
    "start_time": "2021-12-14T18:21:24.093Z"
   },
   {
    "duration": 9,
    "start_time": "2021-12-14T18:21:24.401Z"
   },
   {
    "duration": 190,
    "start_time": "2021-12-14T18:21:24.412Z"
   },
   {
    "duration": 1197,
    "start_time": "2021-12-15T06:31:14.014Z"
   },
   {
    "duration": 90,
    "start_time": "2021-12-15T06:31:15.212Z"
   },
   {
    "duration": 9,
    "start_time": "2021-12-15T06:31:15.304Z"
   },
   {
    "duration": 78,
    "start_time": "2021-12-15T06:31:15.316Z"
   },
   {
    "duration": 8,
    "start_time": "2021-12-15T06:31:15.395Z"
   },
   {
    "duration": 26,
    "start_time": "2021-12-15T06:31:15.405Z"
   },
   {
    "duration": 6,
    "start_time": "2021-12-15T06:31:15.433Z"
   },
   {
    "duration": 30,
    "start_time": "2021-12-15T06:31:15.442Z"
   },
   {
    "duration": 6,
    "start_time": "2021-12-15T06:31:15.475Z"
   },
   {
    "duration": 14,
    "start_time": "2021-12-15T06:31:15.482Z"
   },
   {
    "duration": 5,
    "start_time": "2021-12-15T06:31:15.497Z"
   },
   {
    "duration": 8,
    "start_time": "2021-12-15T06:31:15.503Z"
   },
   {
    "duration": 14,
    "start_time": "2021-12-15T06:31:15.513Z"
   },
   {
    "duration": 40,
    "start_time": "2021-12-15T06:31:15.529Z"
   },
   {
    "duration": 3,
    "start_time": "2021-12-15T06:31:15.571Z"
   },
   {
    "duration": 11,
    "start_time": "2021-12-15T06:31:15.576Z"
   },
   {
    "duration": 7,
    "start_time": "2021-12-15T06:31:15.589Z"
   },
   {
    "duration": 23,
    "start_time": "2021-12-15T06:31:15.597Z"
   },
   {
    "duration": 3,
    "start_time": "2021-12-15T06:31:15.622Z"
   },
   {
    "duration": 650,
    "start_time": "2021-12-15T06:31:15.627Z"
   },
   {
    "duration": 4,
    "start_time": "2021-12-15T06:31:16.279Z"
   },
   {
    "duration": 6,
    "start_time": "2021-12-15T06:31:16.285Z"
   },
   {
    "duration": 24,
    "start_time": "2021-12-15T06:31:16.296Z"
   },
   {
    "duration": 1468,
    "start_time": "2021-12-15T06:31:16.324Z"
   },
   {
    "duration": 4,
    "start_time": "2021-12-15T06:31:17.794Z"
   },
   {
    "duration": 7,
    "start_time": "2021-12-15T06:31:17.800Z"
   },
   {
    "duration": 6,
    "start_time": "2021-12-15T06:31:17.809Z"
   },
   {
    "duration": 384,
    "start_time": "2021-12-15T06:31:17.817Z"
   },
   {
    "duration": 5,
    "start_time": "2021-12-15T06:31:18.203Z"
   },
   {
    "duration": 7,
    "start_time": "2021-12-15T06:31:18.210Z"
   },
   {
    "duration": 174,
    "start_time": "2021-12-15T06:31:18.219Z"
   },
   {
    "duration": 12,
    "start_time": "2021-12-15T06:31:18.395Z"
   },
   {
    "duration": 419,
    "start_time": "2021-12-15T06:31:18.409Z"
   },
   {
    "duration": 5,
    "start_time": "2021-12-15T06:31:18.830Z"
   },
   {
    "duration": 20,
    "start_time": "2021-12-15T06:31:18.836Z"
   },
   {
    "duration": 7,
    "start_time": "2021-12-15T06:31:18.857Z"
   },
   {
    "duration": 211,
    "start_time": "2021-12-15T06:31:18.865Z"
   },
   {
    "duration": 191,
    "start_time": "2021-12-15T06:31:19.078Z"
   },
   {
    "duration": 9,
    "start_time": "2021-12-15T06:31:19.270Z"
   },
   {
    "duration": 163,
    "start_time": "2021-12-15T06:31:19.280Z"
   },
   {
    "duration": 489,
    "start_time": "2021-12-15T06:31:19.445Z"
   },
   {
    "duration": 313,
    "start_time": "2021-12-15T06:31:19.935Z"
   },
   {
    "duration": 199,
    "start_time": "2021-12-15T06:31:20.249Z"
   },
   {
    "duration": 193,
    "start_time": "2021-12-15T06:31:20.450Z"
   },
   {
    "duration": 36,
    "start_time": "2021-12-15T06:31:20.645Z"
   },
   {
    "duration": 8,
    "start_time": "2021-12-15T06:31:20.683Z"
   },
   {
    "duration": 20,
    "start_time": "2021-12-15T06:31:20.693Z"
   },
   {
    "duration": 5,
    "start_time": "2021-12-15T06:31:20.715Z"
   },
   {
    "duration": 244,
    "start_time": "2021-12-15T06:31:20.722Z"
   },
   {
    "duration": 10,
    "start_time": "2021-12-15T06:31:20.968Z"
   },
   {
    "duration": 1582,
    "start_time": "2021-12-15T06:31:20.980Z"
   },
   {
    "duration": 5,
    "start_time": "2021-12-15T06:31:22.564Z"
   },
   {
    "duration": 5,
    "start_time": "2021-12-15T06:31:22.571Z"
   },
   {
    "duration": 5,
    "start_time": "2021-12-15T06:31:22.577Z"
   },
   {
    "duration": 242,
    "start_time": "2021-12-15T06:31:22.584Z"
   },
   {
    "duration": 7,
    "start_time": "2021-12-15T06:31:22.828Z"
   },
   {
    "duration": 246,
    "start_time": "2021-12-15T06:31:22.836Z"
   },
   {
    "duration": 9,
    "start_time": "2021-12-15T06:31:23.084Z"
   },
   {
    "duration": 9,
    "start_time": "2021-12-15T06:31:23.094Z"
   },
   {
    "duration": 206,
    "start_time": "2021-12-15T06:31:23.105Z"
   },
   {
    "duration": 8,
    "start_time": "2021-12-15T06:31:23.312Z"
   },
   {
    "duration": 219,
    "start_time": "2021-12-15T06:31:23.322Z"
   },
   {
    "duration": 8,
    "start_time": "2021-12-15T06:31:23.542Z"
   },
   {
    "duration": 217,
    "start_time": "2021-12-15T06:31:23.551Z"
   },
   {
    "duration": 1172,
    "start_time": "2021-12-15T12:42:02.780Z"
   },
   {
    "duration": 90,
    "start_time": "2021-12-15T12:42:03.956Z"
   },
   {
    "duration": 10,
    "start_time": "2021-12-15T12:42:04.048Z"
   },
   {
    "duration": 82,
    "start_time": "2021-12-15T12:42:04.060Z"
   },
   {
    "duration": 8,
    "start_time": "2021-12-15T12:42:04.144Z"
   },
   {
    "duration": 38,
    "start_time": "2021-12-15T12:42:04.154Z"
   },
   {
    "duration": 5,
    "start_time": "2021-12-15T12:42:04.195Z"
   },
   {
    "duration": 9,
    "start_time": "2021-12-15T12:42:04.201Z"
   },
   {
    "duration": 6,
    "start_time": "2021-12-15T12:42:04.212Z"
   },
   {
    "duration": 12,
    "start_time": "2021-12-15T12:42:04.220Z"
   },
   {
    "duration": 5,
    "start_time": "2021-12-15T12:42:04.233Z"
   },
   {
    "duration": 6,
    "start_time": "2021-12-15T12:42:04.239Z"
   },
   {
    "duration": 16,
    "start_time": "2021-12-15T12:42:04.246Z"
   },
   {
    "duration": 35,
    "start_time": "2021-12-15T12:42:04.264Z"
   },
   {
    "duration": 11,
    "start_time": "2021-12-15T12:42:04.301Z"
   },
   {
    "duration": 37,
    "start_time": "2021-12-15T12:42:04.313Z"
   },
   {
    "duration": 5,
    "start_time": "2021-12-15T12:42:04.352Z"
   },
   {
    "duration": 36,
    "start_time": "2021-12-15T12:42:04.358Z"
   },
   {
    "duration": 16,
    "start_time": "2021-12-15T12:42:04.396Z"
   },
   {
    "duration": 609,
    "start_time": "2021-12-15T12:42:04.413Z"
   },
   {
    "duration": 4,
    "start_time": "2021-12-15T12:42:05.023Z"
   },
   {
    "duration": 5,
    "start_time": "2021-12-15T12:42:05.031Z"
   },
   {
    "duration": 21,
    "start_time": "2021-12-15T12:42:05.038Z"
   },
   {
    "duration": 1726,
    "start_time": "2021-12-15T12:42:05.061Z"
   },
   {
    "duration": 6,
    "start_time": "2021-12-15T12:42:06.788Z"
   },
   {
    "duration": 6,
    "start_time": "2021-12-15T12:42:06.796Z"
   },
   {
    "duration": 6,
    "start_time": "2021-12-15T12:42:06.803Z"
   },
   {
    "duration": 437,
    "start_time": "2021-12-15T12:42:06.810Z"
   },
   {
    "duration": 6,
    "start_time": "2021-12-15T12:42:07.249Z"
   },
   {
    "duration": 4,
    "start_time": "2021-12-15T12:42:07.257Z"
   },
   {
    "duration": 200,
    "start_time": "2021-12-15T12:42:07.262Z"
   },
   {
    "duration": 10,
    "start_time": "2021-12-15T12:42:07.463Z"
   },
   {
    "duration": 444,
    "start_time": "2021-12-15T12:42:07.474Z"
   },
   {
    "duration": 6,
    "start_time": "2021-12-15T12:42:07.919Z"
   },
   {
    "duration": 7,
    "start_time": "2021-12-15T12:42:07.927Z"
   },
   {
    "duration": 7,
    "start_time": "2021-12-15T12:42:07.936Z"
   },
   {
    "duration": 248,
    "start_time": "2021-12-15T12:42:07.945Z"
   },
   {
    "duration": 221,
    "start_time": "2021-12-15T12:42:08.195Z"
   },
   {
    "duration": 9,
    "start_time": "2021-12-15T12:42:08.417Z"
   },
   {
    "duration": 180,
    "start_time": "2021-12-15T12:42:08.428Z"
   },
   {
    "duration": 561,
    "start_time": "2021-12-15T12:42:08.610Z"
   },
   {
    "duration": 327,
    "start_time": "2021-12-15T12:42:09.173Z"
   },
   {
    "duration": 227,
    "start_time": "2021-12-15T12:42:09.501Z"
   },
   {
    "duration": 221,
    "start_time": "2021-12-15T12:42:09.729Z"
   },
   {
    "duration": 24,
    "start_time": "2021-12-15T12:42:09.952Z"
   },
   {
    "duration": 18,
    "start_time": "2021-12-15T12:42:09.978Z"
   },
   {
    "duration": 8,
    "start_time": "2021-12-15T12:42:09.998Z"
   },
   {
    "duration": 8,
    "start_time": "2021-12-15T12:42:10.008Z"
   },
   {
    "duration": 270,
    "start_time": "2021-12-15T12:42:10.017Z"
   },
   {
    "duration": 10,
    "start_time": "2021-12-15T12:42:10.289Z"
   },
   {
    "duration": 1716,
    "start_time": "2021-12-15T12:42:10.300Z"
   },
   {
    "duration": 5,
    "start_time": "2021-12-15T12:42:12.017Z"
   },
   {
    "duration": 6,
    "start_time": "2021-12-15T12:42:12.024Z"
   },
   {
    "duration": 4,
    "start_time": "2021-12-15T12:42:12.032Z"
   },
   {
    "duration": 272,
    "start_time": "2021-12-15T12:42:12.038Z"
   },
   {
    "duration": 7,
    "start_time": "2021-12-15T12:42:12.312Z"
   },
   {
    "duration": 263,
    "start_time": "2021-12-15T12:42:12.321Z"
   },
   {
    "duration": 12,
    "start_time": "2021-12-15T12:42:12.585Z"
   },
   {
    "duration": 6,
    "start_time": "2021-12-15T12:42:12.598Z"
   },
   {
    "duration": 217,
    "start_time": "2021-12-15T12:42:12.606Z"
   },
   {
    "duration": 6,
    "start_time": "2021-12-15T12:42:12.825Z"
   },
   {
    "duration": 219,
    "start_time": "2021-12-15T12:42:12.833Z"
   },
   {
    "duration": 7,
    "start_time": "2021-12-15T12:42:13.053Z"
   },
   {
    "duration": 230,
    "start_time": "2021-12-15T12:42:13.061Z"
   },
   {
    "duration": 16,
    "start_time": "2021-12-15T12:53:17.685Z"
   },
   {
    "duration": 9,
    "start_time": "2021-12-15T12:53:52.062Z"
   },
   {
    "duration": 1175,
    "start_time": "2021-12-15T12:56:37.665Z"
   },
   {
    "duration": 89,
    "start_time": "2021-12-15T12:56:38.842Z"
   },
   {
    "duration": 9,
    "start_time": "2021-12-15T12:56:38.933Z"
   },
   {
    "duration": 82,
    "start_time": "2021-12-15T12:56:38.944Z"
   },
   {
    "duration": 7,
    "start_time": "2021-12-15T12:56:39.028Z"
   },
   {
    "duration": 8,
    "start_time": "2021-12-15T12:56:39.037Z"
   },
   {
    "duration": 26,
    "start_time": "2021-12-15T12:56:39.047Z"
   },
   {
    "duration": 5,
    "start_time": "2021-12-15T12:56:39.091Z"
   },
   {
    "duration": 8,
    "start_time": "2021-12-15T12:56:39.098Z"
   },
   {
    "duration": 7,
    "start_time": "2021-12-15T12:56:39.108Z"
   },
   {
    "duration": 12,
    "start_time": "2021-12-15T12:56:39.117Z"
   },
   {
    "duration": 3,
    "start_time": "2021-12-15T12:56:39.131Z"
   },
   {
    "duration": 5,
    "start_time": "2021-12-15T12:56:39.136Z"
   },
   {
    "duration": 7,
    "start_time": "2021-12-15T12:56:39.142Z"
   },
   {
    "duration": 42,
    "start_time": "2021-12-15T12:56:39.150Z"
   },
   {
    "duration": 4,
    "start_time": "2021-12-15T12:56:39.193Z"
   },
   {
    "duration": 10,
    "start_time": "2021-12-15T12:56:39.198Z"
   },
   {
    "duration": 6,
    "start_time": "2021-12-15T12:56:39.210Z"
   },
   {
    "duration": 15,
    "start_time": "2021-12-15T12:56:39.217Z"
   },
   {
    "duration": 3,
    "start_time": "2021-12-15T12:56:39.233Z"
   },
   {
    "duration": 572,
    "start_time": "2021-12-15T12:56:39.237Z"
   },
   {
    "duration": 4,
    "start_time": "2021-12-15T12:56:39.810Z"
   },
   {
    "duration": 5,
    "start_time": "2021-12-15T12:56:39.817Z"
   },
   {
    "duration": 26,
    "start_time": "2021-12-15T12:56:39.824Z"
   },
   {
    "duration": 1592,
    "start_time": "2021-12-15T12:56:39.852Z"
   },
   {
    "duration": 5,
    "start_time": "2021-12-15T12:56:41.446Z"
   },
   {
    "duration": 7,
    "start_time": "2021-12-15T12:56:41.452Z"
   },
   {
    "duration": 4,
    "start_time": "2021-12-15T12:56:41.461Z"
   },
   {
    "duration": 387,
    "start_time": "2021-12-15T12:56:41.467Z"
   },
   {
    "duration": 4,
    "start_time": "2021-12-15T12:56:41.856Z"
   },
   {
    "duration": 5,
    "start_time": "2021-12-15T12:56:41.862Z"
   },
   {
    "duration": 194,
    "start_time": "2021-12-15T12:56:41.868Z"
   },
   {
    "duration": 10,
    "start_time": "2021-12-15T12:56:42.063Z"
   },
   {
    "duration": 412,
    "start_time": "2021-12-15T12:56:42.074Z"
   },
   {
    "duration": 8,
    "start_time": "2021-12-15T12:56:42.487Z"
   },
   {
    "duration": 11,
    "start_time": "2021-12-15T12:56:42.497Z"
   },
   {
    "duration": 5,
    "start_time": "2021-12-15T12:56:42.509Z"
   },
   {
    "duration": 240,
    "start_time": "2021-12-15T12:56:42.516Z"
   },
   {
    "duration": 207,
    "start_time": "2021-12-15T12:56:42.758Z"
   },
   {
    "duration": 8,
    "start_time": "2021-12-15T12:56:42.967Z"
   },
   {
    "duration": 170,
    "start_time": "2021-12-15T12:56:42.976Z"
   },
   {
    "duration": 509,
    "start_time": "2021-12-15T12:56:43.148Z"
   },
   {
    "duration": 310,
    "start_time": "2021-12-15T12:56:43.659Z"
   },
   {
    "duration": 212,
    "start_time": "2021-12-15T12:56:43.971Z"
   },
   {
    "duration": 203,
    "start_time": "2021-12-15T12:56:44.184Z"
   },
   {
    "duration": 23,
    "start_time": "2021-12-15T12:56:44.391Z"
   },
   {
    "duration": 6,
    "start_time": "2021-12-15T12:56:44.415Z"
   },
   {
    "duration": 10,
    "start_time": "2021-12-15T12:56:44.422Z"
   },
   {
    "duration": 7,
    "start_time": "2021-12-15T12:56:44.433Z"
   },
   {
    "duration": 264,
    "start_time": "2021-12-15T12:56:44.441Z"
   },
   {
    "duration": 9,
    "start_time": "2021-12-15T12:56:44.707Z"
   },
   {
    "duration": 1626,
    "start_time": "2021-12-15T12:56:44.717Z"
   },
   {
    "duration": 5,
    "start_time": "2021-12-15T12:56:46.345Z"
   },
   {
    "duration": 12,
    "start_time": "2021-12-15T12:56:46.351Z"
   },
   {
    "duration": 6,
    "start_time": "2021-12-15T12:56:46.365Z"
   },
   {
    "duration": 259,
    "start_time": "2021-12-15T12:56:46.373Z"
   },
   {
    "duration": 7,
    "start_time": "2021-12-15T12:56:46.634Z"
   },
   {
    "duration": 260,
    "start_time": "2021-12-15T12:56:46.642Z"
   },
   {
    "duration": 8,
    "start_time": "2021-12-15T12:56:46.904Z"
   },
   {
    "duration": 18,
    "start_time": "2021-12-15T12:56:46.914Z"
   },
   {
    "duration": 212,
    "start_time": "2021-12-15T12:56:46.934Z"
   },
   {
    "duration": 6,
    "start_time": "2021-12-15T12:56:47.148Z"
   },
   {
    "duration": 232,
    "start_time": "2021-12-15T12:56:47.155Z"
   },
   {
    "duration": 8,
    "start_time": "2021-12-15T12:56:47.388Z"
   },
   {
    "duration": 214,
    "start_time": "2021-12-15T12:56:47.398Z"
   },
   {
    "duration": 4,
    "start_time": "2021-12-15T12:59:43.605Z"
   },
   {
    "duration": 1103,
    "start_time": "2021-12-15T12:59:48.935Z"
   },
   {
    "duration": 92,
    "start_time": "2021-12-15T12:59:50.041Z"
   },
   {
    "duration": 10,
    "start_time": "2021-12-15T12:59:50.135Z"
   },
   {
    "duration": 75,
    "start_time": "2021-12-15T12:59:50.146Z"
   },
   {
    "duration": 8,
    "start_time": "2021-12-15T12:59:50.222Z"
   },
   {
    "duration": 8,
    "start_time": "2021-12-15T12:59:50.232Z"
   },
   {
    "duration": 24,
    "start_time": "2021-12-15T12:59:50.241Z"
   },
   {
    "duration": 289,
    "start_time": "2021-12-15T12:59:50.292Z"
   },
   {
    "duration": -73,
    "start_time": "2021-12-15T12:59:50.658Z"
   },
   {
    "duration": -77,
    "start_time": "2021-12-15T12:59:50.663Z"
   },
   {
    "duration": -80,
    "start_time": "2021-12-15T12:59:50.667Z"
   },
   {
    "duration": -84,
    "start_time": "2021-12-15T12:59:50.672Z"
   },
   {
    "duration": -87,
    "start_time": "2021-12-15T12:59:50.676Z"
   },
   {
    "duration": -90,
    "start_time": "2021-12-15T12:59:50.681Z"
   },
   {
    "duration": -93,
    "start_time": "2021-12-15T12:59:50.685Z"
   },
   {
    "duration": -97,
    "start_time": "2021-12-15T12:59:50.690Z"
   },
   {
    "duration": -100,
    "start_time": "2021-12-15T12:59:50.694Z"
   },
   {
    "duration": -104,
    "start_time": "2021-12-15T12:59:50.699Z"
   },
   {
    "duration": -107,
    "start_time": "2021-12-15T12:59:50.703Z"
   },
   {
    "duration": -111,
    "start_time": "2021-12-15T12:59:50.708Z"
   },
   {
    "duration": -115,
    "start_time": "2021-12-15T12:59:50.713Z"
   },
   {
    "duration": -119,
    "start_time": "2021-12-15T12:59:50.718Z"
   },
   {
    "duration": -124,
    "start_time": "2021-12-15T12:59:50.724Z"
   },
   {
    "duration": -128,
    "start_time": "2021-12-15T12:59:50.729Z"
   },
   {
    "duration": -132,
    "start_time": "2021-12-15T12:59:50.734Z"
   },
   {
    "duration": -136,
    "start_time": "2021-12-15T12:59:50.739Z"
   },
   {
    "duration": -139,
    "start_time": "2021-12-15T12:59:50.743Z"
   },
   {
    "duration": -144,
    "start_time": "2021-12-15T12:59:50.749Z"
   },
   {
    "duration": -172,
    "start_time": "2021-12-15T12:59:50.779Z"
   },
   {
    "duration": -177,
    "start_time": "2021-12-15T12:59:50.785Z"
   },
   {
    "duration": -181,
    "start_time": "2021-12-15T12:59:50.790Z"
   },
   {
    "duration": -185,
    "start_time": "2021-12-15T12:59:50.795Z"
   },
   {
    "duration": -191,
    "start_time": "2021-12-15T12:59:50.802Z"
   },
   {
    "duration": -195,
    "start_time": "2021-12-15T12:59:50.807Z"
   },
   {
    "duration": -199,
    "start_time": "2021-12-15T12:59:50.812Z"
   },
   {
    "duration": -203,
    "start_time": "2021-12-15T12:59:50.817Z"
   },
   {
    "duration": -205,
    "start_time": "2021-12-15T12:59:50.821Z"
   },
   {
    "duration": -209,
    "start_time": "2021-12-15T12:59:50.826Z"
   },
   {
    "duration": -213,
    "start_time": "2021-12-15T12:59:50.831Z"
   },
   {
    "duration": -218,
    "start_time": "2021-12-15T12:59:50.836Z"
   },
   {
    "duration": -223,
    "start_time": "2021-12-15T12:59:50.843Z"
   },
   {
    "duration": -227,
    "start_time": "2021-12-15T12:59:50.848Z"
   },
   {
    "duration": -231,
    "start_time": "2021-12-15T12:59:50.853Z"
   },
   {
    "duration": -234,
    "start_time": "2021-12-15T12:59:50.857Z"
   },
   {
    "duration": -238,
    "start_time": "2021-12-15T12:59:50.862Z"
   },
   {
    "duration": -242,
    "start_time": "2021-12-15T12:59:50.867Z"
   },
   {
    "duration": -247,
    "start_time": "2021-12-15T12:59:50.873Z"
   },
   {
    "duration": -259,
    "start_time": "2021-12-15T12:59:50.886Z"
   },
   {
    "duration": -263,
    "start_time": "2021-12-15T12:59:50.891Z"
   },
   {
    "duration": -268,
    "start_time": "2021-12-15T12:59:50.897Z"
   },
   {
    "duration": -272,
    "start_time": "2021-12-15T12:59:50.902Z"
   },
   {
    "duration": -284,
    "start_time": "2021-12-15T12:59:50.915Z"
   },
   {
    "duration": -289,
    "start_time": "2021-12-15T12:59:50.921Z"
   },
   {
    "duration": -236,
    "start_time": "2021-12-15T12:59:50.927Z"
   },
   {
    "duration": -239,
    "start_time": "2021-12-15T12:59:50.931Z"
   },
   {
    "duration": -243,
    "start_time": "2021-12-15T12:59:50.936Z"
   },
   {
    "duration": -245,
    "start_time": "2021-12-15T12:59:50.940Z"
   },
   {
    "duration": -249,
    "start_time": "2021-12-15T12:59:50.945Z"
   },
   {
    "duration": -253,
    "start_time": "2021-12-15T12:59:50.950Z"
   },
   {
    "duration": -256,
    "start_time": "2021-12-15T12:59:50.954Z"
   },
   {
    "duration": -260,
    "start_time": "2021-12-15T12:59:50.959Z"
   },
   {
    "duration": -264,
    "start_time": "2021-12-15T12:59:50.964Z"
   },
   {
    "duration": -268,
    "start_time": "2021-12-15T12:59:50.969Z"
   },
   {
    "duration": -277,
    "start_time": "2021-12-15T12:59:50.979Z"
   },
   {
    "duration": -281,
    "start_time": "2021-12-15T12:59:50.984Z"
   },
   {
    "duration": 5,
    "start_time": "2021-12-15T13:11:13.954Z"
   },
   {
    "duration": 4,
    "start_time": "2021-12-15T13:11:16.640Z"
   },
   {
    "duration": 4,
    "start_time": "2021-12-15T13:12:03.652Z"
   },
   {
    "duration": 18,
    "start_time": "2021-12-15T13:19:17.520Z"
   },
   {
    "duration": 4,
    "start_time": "2021-12-15T13:19:29.204Z"
   },
   {
    "duration": 4,
    "start_time": "2021-12-15T13:19:33.515Z"
   },
   {
    "duration": 16,
    "start_time": "2021-12-15T13:19:35.784Z"
   },
   {
    "duration": 38,
    "start_time": "2021-12-15T13:44:20.595Z"
   },
   {
    "duration": 38,
    "start_time": "2021-12-15T13:45:09.027Z"
   },
   {
    "duration": 51,
    "start_time": "2021-12-15T13:45:33.081Z"
   },
   {
    "duration": 45,
    "start_time": "2021-12-15T13:49:03.030Z"
   },
   {
    "duration": 5,
    "start_time": "2021-12-15T13:49:48.771Z"
   },
   {
    "duration": 60,
    "start_time": "2021-12-15T13:59:25.308Z"
   },
   {
    "duration": 89,
    "start_time": "2021-12-15T14:01:00.439Z"
   },
   {
    "duration": 22,
    "start_time": "2021-12-15T14:01:43.310Z"
   },
   {
    "duration": 219,
    "start_time": "2021-12-15T14:06:25.272Z"
   },
   {
    "duration": 207,
    "start_time": "2021-12-15T14:06:46.481Z"
   },
   {
    "duration": 30,
    "start_time": "2021-12-15T14:07:00.265Z"
   },
   {
    "duration": 4,
    "start_time": "2021-12-15T14:07:24.997Z"
   },
   {
    "duration": 1139,
    "start_time": "2021-12-15T14:08:25.503Z"
   },
   {
    "duration": 89,
    "start_time": "2021-12-15T14:08:26.644Z"
   },
   {
    "duration": 9,
    "start_time": "2021-12-15T14:08:26.735Z"
   },
   {
    "duration": 78,
    "start_time": "2021-12-15T14:08:26.746Z"
   },
   {
    "duration": 8,
    "start_time": "2021-12-15T14:08:26.826Z"
   },
   {
    "duration": 8,
    "start_time": "2021-12-15T14:08:26.836Z"
   },
   {
    "duration": 47,
    "start_time": "2021-12-15T14:08:26.845Z"
   },
   {
    "duration": 8,
    "start_time": "2021-12-15T14:08:26.894Z"
   },
   {
    "duration": 9,
    "start_time": "2021-12-15T14:08:26.905Z"
   },
   {
    "duration": 14,
    "start_time": "2021-12-15T14:08:26.916Z"
   },
   {
    "duration": 4,
    "start_time": "2021-12-15T14:08:26.931Z"
   },
   {
    "duration": 6,
    "start_time": "2021-12-15T14:08:26.936Z"
   },
   {
    "duration": 8,
    "start_time": "2021-12-15T14:08:26.943Z"
   },
   {
    "duration": 69,
    "start_time": "2021-12-15T14:08:26.952Z"
   },
   {
    "duration": 42,
    "start_time": "2021-12-15T14:08:27.023Z"
   },
   {
    "duration": 4,
    "start_time": "2021-12-15T14:08:27.067Z"
   },
   {
    "duration": 21,
    "start_time": "2021-12-15T14:08:27.091Z"
   },
   {
    "duration": 30,
    "start_time": "2021-12-15T14:08:27.114Z"
   },
   {
    "duration": 5,
    "start_time": "2021-12-15T14:08:27.145Z"
   },
   {
    "duration": 277,
    "start_time": "2021-12-15T14:08:27.152Z"
   },
   {
    "duration": -458,
    "start_time": "2021-12-15T14:08:27.892Z"
   },
   {
    "duration": -461,
    "start_time": "2021-12-15T14:08:27.896Z"
   },
   {
    "duration": -465,
    "start_time": "2021-12-15T14:08:27.902Z"
   },
   {
    "duration": -469,
    "start_time": "2021-12-15T14:08:27.907Z"
   },
   {
    "duration": -472,
    "start_time": "2021-12-15T14:08:27.912Z"
   },
   {
    "duration": -476,
    "start_time": "2021-12-15T14:08:27.917Z"
   },
   {
    "duration": -480,
    "start_time": "2021-12-15T14:08:27.922Z"
   },
   {
    "duration": -482,
    "start_time": "2021-12-15T14:08:27.926Z"
   },
   {
    "duration": -486,
    "start_time": "2021-12-15T14:08:27.931Z"
   },
   {
    "duration": -489,
    "start_time": "2021-12-15T14:08:27.936Z"
   },
   {
    "duration": -514,
    "start_time": "2021-12-15T14:08:27.962Z"
   },
   {
    "duration": -520,
    "start_time": "2021-12-15T14:08:27.970Z"
   },
   {
    "duration": -526,
    "start_time": "2021-12-15T14:08:27.977Z"
   },
   {
    "duration": -528,
    "start_time": "2021-12-15T14:08:27.981Z"
   },
   {
    "duration": -533,
    "start_time": "2021-12-15T14:08:27.987Z"
   },
   {
    "duration": -535,
    "start_time": "2021-12-15T14:08:27.991Z"
   },
   {
    "duration": -540,
    "start_time": "2021-12-15T14:08:27.997Z"
   },
   {
    "duration": -544,
    "start_time": "2021-12-15T14:08:28.002Z"
   },
   {
    "duration": -548,
    "start_time": "2021-12-15T14:08:28.007Z"
   },
   {
    "duration": -552,
    "start_time": "2021-12-15T14:08:28.012Z"
   },
   {
    "duration": -556,
    "start_time": "2021-12-15T14:08:28.017Z"
   },
   {
    "duration": -560,
    "start_time": "2021-12-15T14:08:28.022Z"
   },
   {
    "duration": -564,
    "start_time": "2021-12-15T14:08:28.027Z"
   },
   {
    "duration": -568,
    "start_time": "2021-12-15T14:08:28.032Z"
   },
   {
    "duration": -572,
    "start_time": "2021-12-15T14:08:28.037Z"
   },
   {
    "duration": -576,
    "start_time": "2021-12-15T14:08:28.042Z"
   },
   {
    "duration": -580,
    "start_time": "2021-12-15T14:08:28.047Z"
   },
   {
    "duration": -584,
    "start_time": "2021-12-15T14:08:28.052Z"
   },
   {
    "duration": -589,
    "start_time": "2021-12-15T14:08:28.058Z"
   },
   {
    "duration": -600,
    "start_time": "2021-12-15T14:08:28.070Z"
   },
   {
    "duration": -586,
    "start_time": "2021-12-15T14:08:28.077Z"
   },
   {
    "duration": -589,
    "start_time": "2021-12-15T14:08:28.081Z"
   },
   {
    "duration": -594,
    "start_time": "2021-12-15T14:08:28.087Z"
   },
   {
    "duration": -597,
    "start_time": "2021-12-15T14:08:28.091Z"
   },
   {
    "duration": -602,
    "start_time": "2021-12-15T14:08:28.097Z"
   },
   {
    "duration": -606,
    "start_time": "2021-12-15T14:08:28.102Z"
   },
   {
    "duration": -610,
    "start_time": "2021-12-15T14:08:28.107Z"
   },
   {
    "duration": -614,
    "start_time": "2021-12-15T14:08:28.112Z"
   },
   {
    "duration": -618,
    "start_time": "2021-12-15T14:08:28.117Z"
   },
   {
    "duration": -622,
    "start_time": "2021-12-15T14:08:28.122Z"
   },
   {
    "duration": -627,
    "start_time": "2021-12-15T14:08:28.128Z"
   },
   {
    "duration": -631,
    "start_time": "2021-12-15T14:08:28.133Z"
   },
   {
    "duration": -635,
    "start_time": "2021-12-15T14:08:28.138Z"
   },
   {
    "duration": -639,
    "start_time": "2021-12-15T14:08:28.143Z"
   },
   {
    "duration": -643,
    "start_time": "2021-12-15T14:08:28.148Z"
   },
   {
    "duration": -647,
    "start_time": "2021-12-15T14:08:28.153Z"
   },
   {
    "duration": -651,
    "start_time": "2021-12-15T14:08:28.158Z"
   },
   {
    "duration": -655,
    "start_time": "2021-12-15T14:08:28.163Z"
   },
   {
    "duration": -659,
    "start_time": "2021-12-15T14:08:28.168Z"
   },
   {
    "duration": 1191,
    "start_time": "2021-12-15T14:13:22.161Z"
   },
   {
    "duration": 90,
    "start_time": "2021-12-15T14:13:23.354Z"
   },
   {
    "duration": 10,
    "start_time": "2021-12-15T14:13:23.446Z"
   },
   {
    "duration": 81,
    "start_time": "2021-12-15T14:13:23.458Z"
   },
   {
    "duration": 8,
    "start_time": "2021-12-15T14:13:23.541Z"
   },
   {
    "duration": 8,
    "start_time": "2021-12-15T14:13:23.551Z"
   },
   {
    "duration": 46,
    "start_time": "2021-12-15T14:13:23.560Z"
   },
   {
    "duration": 8,
    "start_time": "2021-12-15T14:13:23.609Z"
   },
   {
    "duration": 7,
    "start_time": "2021-12-15T14:13:23.619Z"
   },
   {
    "duration": 17,
    "start_time": "2021-12-15T14:13:23.628Z"
   },
   {
    "duration": 5,
    "start_time": "2021-12-15T14:13:23.647Z"
   },
   {
    "duration": 7,
    "start_time": "2021-12-15T14:13:23.653Z"
   },
   {
    "duration": 32,
    "start_time": "2021-12-15T14:13:23.661Z"
   },
   {
    "duration": 42,
    "start_time": "2021-12-15T14:13:23.695Z"
   },
   {
    "duration": 64,
    "start_time": "2021-12-15T14:13:23.739Z"
   },
   {
    "duration": 5,
    "start_time": "2021-12-15T14:13:23.804Z"
   },
   {
    "duration": 23,
    "start_time": "2021-12-15T14:13:23.810Z"
   },
   {
    "duration": 27,
    "start_time": "2021-12-15T14:13:23.835Z"
   },
   {
    "duration": 4,
    "start_time": "2021-12-15T14:13:23.864Z"
   },
   {
    "duration": 306,
    "start_time": "2021-12-15T14:13:23.869Z"
   },
   {
    "duration": -378,
    "start_time": "2021-12-15T14:13:24.557Z"
   },
   {
    "duration": -383,
    "start_time": "2021-12-15T14:13:24.563Z"
   },
   {
    "duration": -388,
    "start_time": "2021-12-15T14:13:24.569Z"
   },
   {
    "duration": -391,
    "start_time": "2021-12-15T14:13:24.573Z"
   },
   {
    "duration": -396,
    "start_time": "2021-12-15T14:13:24.579Z"
   },
   {
    "duration": -400,
    "start_time": "2021-12-15T14:13:24.584Z"
   },
   {
    "duration": -405,
    "start_time": "2021-12-15T14:13:24.590Z"
   },
   {
    "duration": -409,
    "start_time": "2021-12-15T14:13:24.595Z"
   },
   {
    "duration": -413,
    "start_time": "2021-12-15T14:13:24.600Z"
   },
   {
    "duration": -416,
    "start_time": "2021-12-15T14:13:24.604Z"
   },
   {
    "duration": -421,
    "start_time": "2021-12-15T14:13:24.610Z"
   },
   {
    "duration": -425,
    "start_time": "2021-12-15T14:13:24.615Z"
   },
   {
    "duration": -428,
    "start_time": "2021-12-15T14:13:24.620Z"
   },
   {
    "duration": -432,
    "start_time": "2021-12-15T14:13:24.625Z"
   },
   {
    "duration": -436,
    "start_time": "2021-12-15T14:13:24.630Z"
   },
   {
    "duration": -440,
    "start_time": "2021-12-15T14:13:24.635Z"
   },
   {
    "duration": -468,
    "start_time": "2021-12-15T14:13:24.664Z"
   },
   {
    "duration": -473,
    "start_time": "2021-12-15T14:13:24.671Z"
   },
   {
    "duration": -486,
    "start_time": "2021-12-15T14:13:24.685Z"
   },
   {
    "duration": -489,
    "start_time": "2021-12-15T14:13:24.690Z"
   },
   {
    "duration": -494,
    "start_time": "2021-12-15T14:13:24.696Z"
   },
   {
    "duration": -497,
    "start_time": "2021-12-15T14:13:24.701Z"
   },
   {
    "duration": -505,
    "start_time": "2021-12-15T14:13:24.710Z"
   },
   {
    "duration": -508,
    "start_time": "2021-12-15T14:13:24.715Z"
   },
   {
    "duration": -512,
    "start_time": "2021-12-15T14:13:24.720Z"
   },
   {
    "duration": -516,
    "start_time": "2021-12-15T14:13:24.725Z"
   },
   {
    "duration": -519,
    "start_time": "2021-12-15T14:13:24.730Z"
   },
   {
    "duration": -527,
    "start_time": "2021-12-15T14:13:24.739Z"
   },
   {
    "duration": -531,
    "start_time": "2021-12-15T14:13:24.745Z"
   },
   {
    "duration": -535,
    "start_time": "2021-12-15T14:13:24.750Z"
   },
   {
    "duration": -539,
    "start_time": "2021-12-15T14:13:24.756Z"
   },
   {
    "duration": -554,
    "start_time": "2021-12-15T14:13:24.772Z"
   },
   {
    "duration": -662,
    "start_time": "2021-12-15T14:13:24.881Z"
   },
   {
    "duration": -665,
    "start_time": "2021-12-15T14:13:24.886Z"
   },
   {
    "duration": -668,
    "start_time": "2021-12-15T14:13:24.890Z"
   },
   {
    "duration": -674,
    "start_time": "2021-12-15T14:13:24.897Z"
   },
   {
    "duration": -678,
    "start_time": "2021-12-15T14:13:24.902Z"
   },
   {
    "duration": -682,
    "start_time": "2021-12-15T14:13:24.907Z"
   },
   {
    "duration": -686,
    "start_time": "2021-12-15T14:13:24.912Z"
   },
   {
    "duration": -690,
    "start_time": "2021-12-15T14:13:24.917Z"
   },
   {
    "duration": -694,
    "start_time": "2021-12-15T14:13:24.922Z"
   },
   {
    "duration": -697,
    "start_time": "2021-12-15T14:13:24.926Z"
   },
   {
    "duration": -701,
    "start_time": "2021-12-15T14:13:24.931Z"
   },
   {
    "duration": -645,
    "start_time": "2021-12-15T14:13:24.936Z"
   },
   {
    "duration": -648,
    "start_time": "2021-12-15T14:13:24.941Z"
   },
   {
    "duration": -651,
    "start_time": "2021-12-15T14:13:24.945Z"
   },
   {
    "duration": -654,
    "start_time": "2021-12-15T14:13:24.950Z"
   },
   {
    "duration": -658,
    "start_time": "2021-12-15T14:13:24.955Z"
   },
   {
    "duration": -661,
    "start_time": "2021-12-15T14:13:24.960Z"
   },
   {
    "duration": 1161,
    "start_time": "2021-12-15T14:17:22.997Z"
   },
   {
    "duration": 94,
    "start_time": "2021-12-15T14:17:24.159Z"
   },
   {
    "duration": 10,
    "start_time": "2021-12-15T14:17:24.255Z"
   },
   {
    "duration": 79,
    "start_time": "2021-12-15T14:17:24.267Z"
   },
   {
    "duration": 8,
    "start_time": "2021-12-15T14:17:24.348Z"
   },
   {
    "duration": 13,
    "start_time": "2021-12-15T14:17:24.358Z"
   },
   {
    "duration": 31,
    "start_time": "2021-12-15T14:17:24.373Z"
   },
   {
    "duration": 8,
    "start_time": "2021-12-15T14:17:24.407Z"
   },
   {
    "duration": 22,
    "start_time": "2021-12-15T14:17:24.418Z"
   },
   {
    "duration": 31,
    "start_time": "2021-12-15T14:17:24.441Z"
   },
   {
    "duration": 8,
    "start_time": "2021-12-15T14:17:24.474Z"
   },
   {
    "duration": 16,
    "start_time": "2021-12-15T14:17:24.484Z"
   },
   {
    "duration": 16,
    "start_time": "2021-12-15T14:17:24.501Z"
   },
   {
    "duration": 39,
    "start_time": "2021-12-15T14:17:24.518Z"
   },
   {
    "duration": 42,
    "start_time": "2021-12-15T14:17:24.559Z"
   },
   {
    "duration": 5,
    "start_time": "2021-12-15T14:17:24.602Z"
   },
   {
    "duration": 44,
    "start_time": "2021-12-15T14:17:24.608Z"
   },
   {
    "duration": 31,
    "start_time": "2021-12-15T14:17:24.654Z"
   },
   {
    "duration": 4,
    "start_time": "2021-12-15T14:17:24.687Z"
   },
   {
    "duration": 18,
    "start_time": "2021-12-15T14:17:24.692Z"
   },
   {
    "duration": 7,
    "start_time": "2021-12-15T14:17:24.711Z"
   },
   {
    "duration": 34,
    "start_time": "2021-12-15T14:17:24.719Z"
   },
   {
    "duration": 13,
    "start_time": "2021-12-15T14:17:24.758Z"
   },
   {
    "duration": 779,
    "start_time": "2021-12-15T14:17:24.774Z"
   },
   {
    "duration": 4,
    "start_time": "2021-12-15T14:17:25.554Z"
   },
   {
    "duration": 8,
    "start_time": "2021-12-15T14:17:25.560Z"
   },
   {
    "duration": 28,
    "start_time": "2021-12-15T14:17:25.570Z"
   },
   {
    "duration": 1668,
    "start_time": "2021-12-15T14:17:25.600Z"
   },
   {
    "duration": 5,
    "start_time": "2021-12-15T14:17:27.269Z"
   },
   {
    "duration": 16,
    "start_time": "2021-12-15T14:17:27.276Z"
   },
   {
    "duration": 4,
    "start_time": "2021-12-15T14:17:27.294Z"
   },
   {
    "duration": 408,
    "start_time": "2021-12-15T14:17:27.300Z"
   },
   {
    "duration": 4,
    "start_time": "2021-12-15T14:17:27.710Z"
   },
   {
    "duration": 4,
    "start_time": "2021-12-15T14:17:27.716Z"
   },
   {
    "duration": 190,
    "start_time": "2021-12-15T14:17:27.722Z"
   },
   {
    "duration": 10,
    "start_time": "2021-12-15T14:17:27.914Z"
   },
   {
    "duration": 445,
    "start_time": "2021-12-15T14:17:27.925Z"
   },
   {
    "duration": 6,
    "start_time": "2021-12-15T14:17:28.372Z"
   },
   {
    "duration": 14,
    "start_time": "2021-12-15T14:17:28.380Z"
   },
   {
    "duration": 5,
    "start_time": "2021-12-15T14:17:28.395Z"
   },
   {
    "duration": 250,
    "start_time": "2021-12-15T14:17:28.401Z"
   },
   {
    "duration": 211,
    "start_time": "2021-12-15T14:17:28.653Z"
   },
   {
    "duration": 8,
    "start_time": "2021-12-15T14:17:28.866Z"
   },
   {
    "duration": 166,
    "start_time": "2021-12-15T14:17:28.876Z"
   },
   {
    "duration": 520,
    "start_time": "2021-12-15T14:17:29.043Z"
   },
   {
    "duration": 317,
    "start_time": "2021-12-15T14:17:29.565Z"
   },
   {
    "duration": 214,
    "start_time": "2021-12-15T14:17:29.890Z"
   },
   {
    "duration": 207,
    "start_time": "2021-12-15T14:17:30.106Z"
   },
   {
    "duration": 25,
    "start_time": "2021-12-15T14:17:30.315Z"
   },
   {
    "duration": 6,
    "start_time": "2021-12-15T14:17:30.341Z"
   },
   {
    "duration": 12,
    "start_time": "2021-12-15T14:17:30.349Z"
   },
   {
    "duration": 11,
    "start_time": "2021-12-15T14:17:30.362Z"
   },
   {
    "duration": 255,
    "start_time": "2021-12-15T14:17:30.375Z"
   },
   {
    "duration": 9,
    "start_time": "2021-12-15T14:17:30.631Z"
   },
   {
    "duration": 1641,
    "start_time": "2021-12-15T14:17:30.641Z"
   },
   {
    "duration": 11,
    "start_time": "2021-12-15T14:17:32.283Z"
   },
   {
    "duration": 8,
    "start_time": "2021-12-15T14:17:32.296Z"
   },
   {
    "duration": 6,
    "start_time": "2021-12-15T14:17:32.306Z"
   },
   {
    "duration": 265,
    "start_time": "2021-12-15T14:17:32.314Z"
   },
   {
    "duration": 16,
    "start_time": "2021-12-15T14:17:32.581Z"
   },
   {
    "duration": 254,
    "start_time": "2021-12-15T14:17:32.599Z"
   },
   {
    "duration": 9,
    "start_time": "2021-12-15T14:17:32.856Z"
   },
   {
    "duration": 26,
    "start_time": "2021-12-15T14:17:32.866Z"
   },
   {
    "duration": 206,
    "start_time": "2021-12-15T14:17:32.893Z"
   },
   {
    "duration": 7,
    "start_time": "2021-12-15T14:17:33.100Z"
   },
   {
    "duration": 222,
    "start_time": "2021-12-15T14:17:33.109Z"
   },
   {
    "duration": 7,
    "start_time": "2021-12-15T14:17:33.333Z"
   },
   {
    "duration": 212,
    "start_time": "2021-12-15T14:17:33.344Z"
   },
   {
    "duration": 244,
    "start_time": "2021-12-15T14:28:37.944Z"
   },
   {
    "duration": 248,
    "start_time": "2021-12-15T14:28:52.117Z"
   },
   {
    "duration": 244,
    "start_time": "2021-12-15T14:29:05.908Z"
   },
   {
    "duration": 229,
    "start_time": "2021-12-15T14:31:15.959Z"
   },
   {
    "duration": 501,
    "start_time": "2021-12-15T14:44:23.925Z"
   },
   {
    "duration": 427,
    "start_time": "2021-12-15T14:44:51.069Z"
   },
   {
    "duration": 414,
    "start_time": "2021-12-15T14:45:06.748Z"
   },
   {
    "duration": 234,
    "start_time": "2021-12-15T14:45:22.318Z"
   },
   {
    "duration": 234,
    "start_time": "2021-12-15T14:46:55.936Z"
   },
   {
    "duration": 315,
    "start_time": "2021-12-15T14:47:02.581Z"
   },
   {
    "duration": 644,
    "start_time": "2021-12-15T14:53:16.249Z"
   },
   {
    "duration": 229,
    "start_time": "2021-12-15T14:53:23.009Z"
   },
   {
    "duration": 406,
    "start_time": "2021-12-15T14:53:43.129Z"
   },
   {
    "duration": 420,
    "start_time": "2021-12-15T14:54:10.414Z"
   },
   {
    "duration": 225,
    "start_time": "2021-12-15T14:54:19.710Z"
   },
   {
    "duration": 228,
    "start_time": "2021-12-15T15:01:42.925Z"
   },
   {
    "duration": 286,
    "start_time": "2021-12-15T15:02:07.175Z"
   },
   {
    "duration": 228,
    "start_time": "2021-12-15T15:02:37.010Z"
   },
   {
    "duration": 238,
    "start_time": "2021-12-15T15:02:50.673Z"
   },
   {
    "duration": 236,
    "start_time": "2021-12-15T15:02:56.823Z"
   },
   {
    "duration": 225,
    "start_time": "2021-12-15T15:03:06.474Z"
   },
   {
    "duration": 233,
    "start_time": "2021-12-15T15:03:17.436Z"
   },
   {
    "duration": 326,
    "start_time": "2021-12-15T15:03:55.500Z"
   },
   {
    "duration": 235,
    "start_time": "2021-12-15T15:04:04.034Z"
   },
   {
    "duration": 226,
    "start_time": "2021-12-15T15:04:12.774Z"
   },
   {
    "duration": 241,
    "start_time": "2021-12-15T15:04:23.616Z"
   },
   {
    "duration": 238,
    "start_time": "2021-12-15T15:04:29.404Z"
   },
   {
    "duration": 269,
    "start_time": "2021-12-15T15:04:34.472Z"
   },
   {
    "duration": 239,
    "start_time": "2021-12-15T15:04:41.006Z"
   },
   {
    "duration": 229,
    "start_time": "2021-12-15T15:04:45.141Z"
   },
   {
    "duration": 246,
    "start_time": "2021-12-15T15:06:15.597Z"
   },
   {
    "duration": 503,
    "start_time": "2021-12-15T15:06:49.442Z"
   },
   {
    "duration": 236,
    "start_time": "2021-12-15T15:06:54.561Z"
   },
   {
    "duration": 247,
    "start_time": "2021-12-15T15:07:00.547Z"
   },
   {
    "duration": 407,
    "start_time": "2021-12-15T15:07:10.595Z"
   },
   {
    "duration": 321,
    "start_time": "2021-12-15T15:08:33.260Z"
   },
   {
    "duration": 394,
    "start_time": "2021-12-15T15:08:48.225Z"
   },
   {
    "duration": 233,
    "start_time": "2021-12-15T15:08:53.668Z"
   },
   {
    "duration": 229,
    "start_time": "2021-12-15T15:10:11.803Z"
   },
   {
    "duration": 237,
    "start_time": "2021-12-15T15:10:27.410Z"
   },
   {
    "duration": 247,
    "start_time": "2021-12-15T15:10:47.174Z"
   },
   {
    "duration": 242,
    "start_time": "2021-12-15T15:10:53.220Z"
   },
   {
    "duration": 243,
    "start_time": "2021-12-15T15:10:57.938Z"
   },
   {
    "duration": 241,
    "start_time": "2021-12-15T15:11:02.061Z"
   },
   {
    "duration": 1061,
    "start_time": "2021-12-15T15:14:14.308Z"
   },
   {
    "duration": 88,
    "start_time": "2021-12-15T15:14:15.371Z"
   },
   {
    "duration": 11,
    "start_time": "2021-12-15T15:14:15.462Z"
   },
   {
    "duration": 81,
    "start_time": "2021-12-15T15:14:15.475Z"
   },
   {
    "duration": 10,
    "start_time": "2021-12-15T15:14:15.558Z"
   },
   {
    "duration": 25,
    "start_time": "2021-12-15T15:14:15.570Z"
   },
   {
    "duration": 26,
    "start_time": "2021-12-15T15:14:15.597Z"
   },
   {
    "duration": 9,
    "start_time": "2021-12-15T15:14:15.626Z"
   },
   {
    "duration": 7,
    "start_time": "2021-12-15T15:14:15.637Z"
   },
   {
    "duration": 48,
    "start_time": "2021-12-15T15:14:15.645Z"
   },
   {
    "duration": 4,
    "start_time": "2021-12-15T15:14:15.695Z"
   },
   {
    "duration": 6,
    "start_time": "2021-12-15T15:14:15.701Z"
   },
   {
    "duration": 6,
    "start_time": "2021-12-15T15:14:15.708Z"
   },
   {
    "duration": 40,
    "start_time": "2021-12-15T15:14:15.716Z"
   },
   {
    "duration": 69,
    "start_time": "2021-12-15T15:14:15.757Z"
   },
   {
    "duration": 5,
    "start_time": "2021-12-15T15:14:15.828Z"
   },
   {
    "duration": 24,
    "start_time": "2021-12-15T15:14:15.835Z"
   },
   {
    "duration": 49,
    "start_time": "2021-12-15T15:14:15.861Z"
   },
   {
    "duration": 4,
    "start_time": "2021-12-15T15:14:15.912Z"
   },
   {
    "duration": 10,
    "start_time": "2021-12-15T15:14:15.918Z"
   },
   {
    "duration": 4,
    "start_time": "2021-12-15T15:14:15.930Z"
   },
   {
    "duration": 15,
    "start_time": "2021-12-15T15:14:15.936Z"
   },
   {
    "duration": 3,
    "start_time": "2021-12-15T15:14:15.954Z"
   },
   {
    "duration": 558,
    "start_time": "2021-12-15T15:14:15.992Z"
   },
   {
    "duration": 4,
    "start_time": "2021-12-15T15:14:16.552Z"
   },
   {
    "duration": 6,
    "start_time": "2021-12-15T15:14:16.557Z"
   },
   {
    "duration": 33,
    "start_time": "2021-12-15T15:14:16.564Z"
   },
   {
    "duration": 1606,
    "start_time": "2021-12-15T15:14:16.599Z"
   },
   {
    "duration": 5,
    "start_time": "2021-12-15T15:14:18.207Z"
   },
   {
    "duration": 8,
    "start_time": "2021-12-15T15:14:18.213Z"
   },
   {
    "duration": 7,
    "start_time": "2021-12-15T15:14:18.223Z"
   },
   {
    "duration": 394,
    "start_time": "2021-12-15T15:14:18.232Z"
   },
   {
    "duration": 5,
    "start_time": "2021-12-15T15:14:18.628Z"
   },
   {
    "duration": 6,
    "start_time": "2021-12-15T15:14:18.634Z"
   },
   {
    "duration": 184,
    "start_time": "2021-12-15T15:14:18.641Z"
   },
   {
    "duration": 10,
    "start_time": "2021-12-15T15:14:18.826Z"
   },
   {
    "duration": 403,
    "start_time": "2021-12-15T15:14:18.838Z"
   },
   {
    "duration": 6,
    "start_time": "2021-12-15T15:14:19.243Z"
   },
   {
    "duration": 5,
    "start_time": "2021-12-15T15:14:19.250Z"
   },
   {
    "duration": 4,
    "start_time": "2021-12-15T15:14:19.256Z"
   },
   {
    "duration": 243,
    "start_time": "2021-12-15T15:14:19.262Z"
   },
   {
    "duration": 213,
    "start_time": "2021-12-15T15:14:19.506Z"
   },
   {
    "duration": 9,
    "start_time": "2021-12-15T15:14:19.720Z"
   },
   {
    "duration": 169,
    "start_time": "2021-12-15T15:14:19.730Z"
   },
   {
    "duration": 500,
    "start_time": "2021-12-15T15:14:19.901Z"
   },
   {
    "duration": 317,
    "start_time": "2021-12-15T15:14:20.404Z"
   },
   {
    "duration": 219,
    "start_time": "2021-12-15T15:14:20.723Z"
   },
   {
    "duration": 229,
    "start_time": "2021-12-15T15:14:20.944Z"
   },
   {
    "duration": 32,
    "start_time": "2021-12-15T15:14:21.175Z"
   },
   {
    "duration": 6,
    "start_time": "2021-12-15T15:14:21.209Z"
   },
   {
    "duration": 9,
    "start_time": "2021-12-15T15:14:21.217Z"
   },
   {
    "duration": 5,
    "start_time": "2021-12-15T15:14:21.227Z"
   },
   {
    "duration": 257,
    "start_time": "2021-12-15T15:14:21.234Z"
   },
   {
    "duration": 9,
    "start_time": "2021-12-15T15:14:21.493Z"
   },
   {
    "duration": 1653,
    "start_time": "2021-12-15T15:14:21.504Z"
   },
   {
    "duration": 5,
    "start_time": "2021-12-15T15:14:23.160Z"
   },
   {
    "duration": 25,
    "start_time": "2021-12-15T15:14:23.167Z"
   },
   {
    "duration": 5,
    "start_time": "2021-12-15T15:14:23.194Z"
   },
   {
    "duration": 259,
    "start_time": "2021-12-15T15:14:23.201Z"
   },
   {
    "duration": 7,
    "start_time": "2021-12-15T15:14:23.462Z"
   },
   {
    "duration": 263,
    "start_time": "2021-12-15T15:14:23.471Z"
   },
   {
    "duration": 8,
    "start_time": "2021-12-15T15:14:23.735Z"
   },
   {
    "duration": 7,
    "start_time": "2021-12-15T15:14:23.744Z"
   },
   {
    "duration": 230,
    "start_time": "2021-12-15T15:14:23.752Z"
   },
   {
    "duration": 7,
    "start_time": "2021-12-15T15:14:23.991Z"
   },
   {
    "duration": 251,
    "start_time": "2021-12-15T15:14:24.000Z"
   },
   {
    "duration": 7,
    "start_time": "2021-12-15T15:14:24.253Z"
   },
   {
    "duration": 216,
    "start_time": "2021-12-15T15:14:24.265Z"
   },
   {
    "duration": 1148,
    "start_time": "2021-12-15T15:20:01.390Z"
   },
   {
    "duration": 88,
    "start_time": "2021-12-15T15:20:02.540Z"
   },
   {
    "duration": 10,
    "start_time": "2021-12-15T15:20:02.630Z"
   },
   {
    "duration": 77,
    "start_time": "2021-12-15T15:20:02.642Z"
   },
   {
    "duration": 7,
    "start_time": "2021-12-15T15:20:02.721Z"
   },
   {
    "duration": 15,
    "start_time": "2021-12-15T15:20:02.730Z"
   },
   {
    "duration": 51,
    "start_time": "2021-12-15T15:20:02.746Z"
   },
   {
    "duration": 16,
    "start_time": "2021-12-15T15:20:02.799Z"
   },
   {
    "duration": 32,
    "start_time": "2021-12-15T15:20:02.817Z"
   },
   {
    "duration": 27,
    "start_time": "2021-12-15T15:20:02.851Z"
   },
   {
    "duration": 5,
    "start_time": "2021-12-15T15:20:02.880Z"
   },
   {
    "duration": 23,
    "start_time": "2021-12-15T15:20:02.887Z"
   },
   {
    "duration": 9,
    "start_time": "2021-12-15T15:20:02.911Z"
   },
   {
    "duration": 45,
    "start_time": "2021-12-15T15:20:02.921Z"
   },
   {
    "duration": 39,
    "start_time": "2021-12-15T15:20:02.968Z"
   },
   {
    "duration": 4,
    "start_time": "2021-12-15T15:20:03.009Z"
   },
   {
    "duration": 22,
    "start_time": "2021-12-15T15:20:03.015Z"
   },
   {
    "duration": 26,
    "start_time": "2021-12-15T15:20:03.039Z"
   },
   {
    "duration": 26,
    "start_time": "2021-12-15T15:20:03.067Z"
   },
   {
    "duration": 14,
    "start_time": "2021-12-15T15:20:03.094Z"
   },
   {
    "duration": 4,
    "start_time": "2021-12-15T15:20:03.110Z"
   },
   {
    "duration": 19,
    "start_time": "2021-12-15T15:20:03.116Z"
   },
   {
    "duration": 3,
    "start_time": "2021-12-15T15:20:03.139Z"
   },
   {
    "duration": 566,
    "start_time": "2021-12-15T15:20:03.144Z"
   },
   {
    "duration": 4,
    "start_time": "2021-12-15T15:20:03.711Z"
   },
   {
    "duration": 9,
    "start_time": "2021-12-15T15:20:03.717Z"
   },
   {
    "duration": 33,
    "start_time": "2021-12-15T15:20:03.728Z"
   },
   {
    "duration": 1556,
    "start_time": "2021-12-15T15:20:03.763Z"
   },
   {
    "duration": 5,
    "start_time": "2021-12-15T15:20:05.320Z"
   },
   {
    "duration": 10,
    "start_time": "2021-12-15T15:20:05.327Z"
   },
   {
    "duration": 7,
    "start_time": "2021-12-15T15:20:05.338Z"
   },
   {
    "duration": 387,
    "start_time": "2021-12-15T15:20:05.346Z"
   },
   {
    "duration": 5,
    "start_time": "2021-12-15T15:20:05.734Z"
   },
   {
    "duration": 11,
    "start_time": "2021-12-15T15:20:05.740Z"
   },
   {
    "duration": 189,
    "start_time": "2021-12-15T15:20:05.752Z"
   },
   {
    "duration": 12,
    "start_time": "2021-12-15T15:20:05.943Z"
   },
   {
    "duration": 465,
    "start_time": "2021-12-15T15:20:05.957Z"
   },
   {
    "duration": 6,
    "start_time": "2021-12-15T15:20:06.424Z"
   },
   {
    "duration": 11,
    "start_time": "2021-12-15T15:20:06.432Z"
   },
   {
    "duration": 7,
    "start_time": "2021-12-15T15:20:06.445Z"
   },
   {
    "duration": 224,
    "start_time": "2021-12-15T15:20:06.454Z"
   },
   {
    "duration": 204,
    "start_time": "2021-12-15T15:20:06.679Z"
   },
   {
    "duration": 12,
    "start_time": "2021-12-15T15:20:06.884Z"
   },
   {
    "duration": 162,
    "start_time": "2021-12-15T15:20:06.898Z"
   },
   {
    "duration": 495,
    "start_time": "2021-12-15T15:20:07.061Z"
   },
   {
    "duration": 306,
    "start_time": "2021-12-15T15:20:07.558Z"
   },
   {
    "duration": 206,
    "start_time": "2021-12-15T15:20:07.866Z"
   },
   {
    "duration": 203,
    "start_time": "2021-12-15T15:20:08.074Z"
   },
   {
    "duration": 31,
    "start_time": "2021-12-15T15:20:08.279Z"
   },
   {
    "duration": 6,
    "start_time": "2021-12-15T15:20:08.311Z"
   },
   {
    "duration": 8,
    "start_time": "2021-12-15T15:20:08.318Z"
   },
   {
    "duration": 6,
    "start_time": "2021-12-15T15:20:08.328Z"
   },
   {
    "duration": 249,
    "start_time": "2021-12-15T15:20:08.335Z"
   },
   {
    "duration": 14,
    "start_time": "2021-12-15T15:20:08.586Z"
   },
   {
    "duration": 1696,
    "start_time": "2021-12-15T15:20:08.601Z"
   },
   {
    "duration": 4,
    "start_time": "2021-12-15T15:20:10.299Z"
   },
   {
    "duration": 9,
    "start_time": "2021-12-15T15:20:10.305Z"
   },
   {
    "duration": 11,
    "start_time": "2021-12-15T15:20:10.315Z"
   },
   {
    "duration": 243,
    "start_time": "2021-12-15T15:20:10.328Z"
   },
   {
    "duration": 8,
    "start_time": "2021-12-15T15:20:10.573Z"
   },
   {
    "duration": 257,
    "start_time": "2021-12-15T15:20:10.582Z"
   },
   {
    "duration": 8,
    "start_time": "2021-12-15T15:20:10.841Z"
   },
   {
    "duration": 6,
    "start_time": "2021-12-15T15:20:10.851Z"
   },
   {
    "duration": 217,
    "start_time": "2021-12-15T15:20:10.858Z"
   },
   {
    "duration": 14,
    "start_time": "2021-12-15T15:20:11.077Z"
   },
   {
    "duration": 214,
    "start_time": "2021-12-15T15:20:11.093Z"
   },
   {
    "duration": 7,
    "start_time": "2021-12-15T15:20:11.309Z"
   },
   {
    "duration": 210,
    "start_time": "2021-12-15T15:20:11.321Z"
   }
  ],
  "kernelspec": {
   "display_name": "Python 3",
   "language": "python",
   "name": "python3"
  },
  "language_info": {
   "codemirror_mode": {
    "name": "ipython",
    "version": 3
   },
   "file_extension": ".py",
   "mimetype": "text/x-python",
   "name": "python",
   "nbconvert_exporter": "python",
   "pygments_lexer": "ipython3",
   "version": "3.8.8"
  },
  "toc": {
   "base_numbering": 1,
   "nav_menu": {},
   "number_sections": true,
   "sideBar": true,
   "skip_h1_title": true,
   "title_cell": "Содержание",
   "title_sidebar": "Contents",
   "toc_cell": true,
   "toc_position": {},
   "toc_section_display": true,
   "toc_window_display": false
  }
 },
 "nbformat": 4,
 "nbformat_minor": 2
}
